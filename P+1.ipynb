{
 "cells": [
  {
   "cell_type": "code",
   "execution_count": 1,
   "metadata": {
    "collapsed": false
   },
   "outputs": [
    {
     "name": "stdout",
     "output_type": "stream",
     "text": [
      "--2016-09-23 04:21:57--  https://raw.githubusercontent.com/gwsb-istm-6212-fall-2016/syllabus-and-schedule/master/projects/project-01/2016q1.csv.zip\n",
      "Resolving raw.githubusercontent.com (raw.githubusercontent.com)... 151.101.20.133\n",
      "Connecting to raw.githubusercontent.com (raw.githubusercontent.com)|151.101.20.133|:443... connected.\n",
      "HTTP request sent, awaiting response... 200 OK\n",
      "Length: 10643003 (10M) [application/octet-stream]\n",
      "Saving to: ‘2016q1.csv.zip’\n",
      "\n",
      "2016q1.csv.zip      100%[=====================>]  10.15M  57.9MB/s   in 0.2s   \n",
      "\n",
      "2016-09-23 04:21:58 (57.9 MB/s) - ‘2016q1.csv.zip’ saved [10643003/10643003]\n",
      "\n"
     ]
    }
   ],
   "source": [
    "#Problem 1 \n",
    "#Part A\n",
    "#Get the text from \n",
    "!wget https://raw.githubusercontent.com/gwsb-istm-6212-fall-2016/syllabus-and-schedule/master/projects/project-01/women.txt"
   ]
  },
  {
   "cell_type": "code",
   "execution_count": null,
   "metadata": {
    "collapsed": true
   },
   "outputs": [],
   "source": [
    "# The number of lines continaing \"Jo\"\n",
    "!grep Jo women.txt | wc -l"
   ]
  },
  {
   "cell_type": "code",
   "execution_count": null,
   "metadata": {
    "collapsed": true
   },
   "outputs": [],
   "source": [
    "# The number of lines continaing \"Beth\"\n",
    "!grep Beth women.txt | wc -l"
   ]
  },
  {
   "cell_type": "code",
   "execution_count": null,
   "metadata": {
    "collapsed": true
   },
   "outputs": [],
   "source": [
    "# The number of lines continaing \"Meg\"\n",
    "!grep Meg women.txt | wc -l"
   ]
  },
  {
   "cell_type": "code",
   "execution_count": null,
   "metadata": {
    "collapsed": true
   },
   "outputs": [],
   "source": [
    "# The number of lines continaing \"Amy\"\n",
    "!grep Amy women.txt | wc -l"
   ]
  },
  {
   "cell_type": "code",
   "execution_count": null,
   "metadata": {
    "collapsed": true
   },
   "outputs": [],
   "source": []
  },
  {
   "cell_type": "code",
   "execution_count": null,
   "metadata": {
    "collapsed": true
   },
   "outputs": [],
   "source": [
    "#Part B\n",
    "#Get the file\n",
    "!wget https://raw.githubusercontent.com/gwsb-istm-6212-fall-2016/syllabus-and-schedule/master/projects/project-01/romeo.txt"
   ]
  },
  {
   "cell_type": "code",
   "execution_count": null,
   "metadata": {
    "collapsed": true
   },
   "outputs": [],
   "source": []
  },
  {
   "cell_type": "code",
   "execution_count": null,
   "metadata": {
    "collapsed": true
   },
   "outputs": [],
   "source": [
    "#Problem 2\n",
    "#Part A\n",
    "#Get the data\n",
    "!wget https://raw.githubusercontent.com/gwsb-istm-6212-fall-2016/syllabus-and-schedule/master/projects/project-01/2016q1.csv.zip"
   ]
  },
  {
   "cell_type": "code",
   "execution_count": 2,
   "metadata": {
    "collapsed": false
   },
   "outputs": [
    {
     "name": "stdout",
     "output_type": "stream",
     "text": [
      "Archive:  2016q1.csv.zip\n",
      "  inflating: 2016q1.csv              \n"
     ]
    }
   ],
   "source": [
    "!unzip 2016q1.csv.zip"
   ]
  },
  {
   "cell_type": "code",
   "execution_count": 3,
   "metadata": {
    "collapsed": false
   },
   "outputs": [
    {
     "name": "stdout",
     "output_type": "stream",
     "text": [
      "Duration (ms),Start date,End date,Start station number,Start station,End station number,End station,Bike number,Member Type\r",
      "\r\n",
      "301295,3/31/2016 23:59,4/1/2016 0:04,31280,11th & S St NW,31506,1st & Rhode Island Ave NW,W00022,Registered\r",
      "\r\n",
      "557887,3/31/2016 23:59,4/1/2016 0:08,31275,New Hampshire Ave & 24th St NW,31114,18th St & Wyoming Ave NW,W01294,Registered\r",
      "\r\n",
      "555944,3/31/2016 23:59,4/1/2016 0:08,31101,14th & V St NW,31221,18th & M St NW,W01416,Registered\r",
      "\r\n",
      "766916,3/31/2016 23:57,4/1/2016 0:09,31226,34th St & Wisconsin Ave NW,31214,17th & Corcoran St NW,W01090,Registered\r",
      "\r\n",
      "139656,3/31/2016 23:57,3/31/2016 23:59,31011,23rd & Crystal Dr,31009,27th & Crystal Dr,W21934,Registered\r",
      "\r\n",
      "967713,3/31/2016 23:57,4/1/2016 0:13,31266,11th & M St NW,31600,5th & K St NW,W20562,Casual\r",
      "\r\n",
      "534836,3/31/2016 23:57,4/1/2016 0:06,31222,New York Ave & 15th St NW,31278,18th & R St NW,W20222,Registered\r",
      "\r\n",
      "243864,3/31/2016 23:56,4/1/2016 0:00,31228,8th & H St NW,31600,5th & K St NW,W20291,Registered\r",
      "\r\n",
      "372524,3/31/2016 23:55,4/1/2016 0:01,31113,Columbia Rd & Belmont St NW,31234,20th & O St NW / Dupont South,W20590,Registered\r",
      "\r\n"
     ]
    }
   ],
   "source": [
    "# show the starting lines of data\n",
    "!head 2016q1.csv"
   ]
  },
  {
   "cell_type": "code",
   "execution_count": 5,
   "metadata": {
    "collapsed": false
   },
   "outputs": [
    {
     "name": "stdout",
     "output_type": "stream",
     "text": [
      "  1: Duration (ms)\r\n",
      "  2: Start date\r\n",
      "  3: End date\r\n",
      "  4: Start station number\r\n",
      "  5: Start station\r\n",
      "  6: End station number\r\n",
      "  7: End station\r\n",
      "  8: Bike number\r\n",
      "  9: Member Type\r\n"
     ]
    }
   ],
   "source": [
    "#Now we check every column of data\n",
    "!csvcut -n 2016q1.csv"
   ]
  },
  {
   "cell_type": "code",
   "execution_count": 13,
   "metadata": {
    "collapsed": false
   },
   "outputs": [
    {
     "name": "stdout",
     "output_type": "stream",
     "text": [
      "|-----------------------+---------------------------------|\r\n",
      "|  Start station number | Start station                   |\r\n",
      "|-----------------------+---------------------------------|\r\n",
      "|  31280                | 11th & S St NW                  |\r\n",
      "|  31275                | New Hampshire Ave & 24th St NW  |\r\n",
      "|  31101                | 14th & V St NW                  |\r\n",
      "|  31226                | 34th St & Wisconsin Ave NW      |\r\n",
      "|  31011                | 23rd & Crystal Dr               |\r\n",
      "|  31266                | 11th & M St NW                  |\r\n",
      "|  31222                | New York Ave & 15th St NW       |\r\n",
      "|  31228                | 8th & H St NW                   |\r\n",
      "|  31113                | Columbia Rd & Belmont St NW     |\r\n",
      "|-----------------------+---------------------------------|\r\n"
     ]
    }
   ],
   "source": [
    "#transfer it into csvlook\n",
    "#the most popular 10 departing stations\n",
    "!csvcut -c4,5 2016q1.csv | head -10 | csvlook"
   ]
  },
  {
   "cell_type": "code",
   "execution_count": 14,
   "metadata": {
    "collapsed": false
   },
   "outputs": [
    {
     "name": "stdout",
     "output_type": "stream",
     "text": [
      "|---------------------+--------------------------------|\r\n",
      "|  End station number | End station                    |\r\n",
      "|---------------------+--------------------------------|\r\n",
      "|  31506              | 1st & Rhode Island Ave NW      |\r\n",
      "|  31114              | 18th St & Wyoming Ave NW       |\r\n",
      "|  31221              | 18th & M St NW                 |\r\n",
      "|  31214              | 17th & Corcoran St NW          |\r\n",
      "|  31009              | 27th & Crystal Dr              |\r\n",
      "|  31600              | 5th & K St NW                  |\r\n",
      "|  31278              | 18th & R St NW                 |\r\n",
      "|  31600              | 5th & K St NW                  |\r\n",
      "|  31234              | 20th & O St NW / Dupont South  |\r\n",
      "|---------------------+--------------------------------|\r\n"
     ]
    }
   ],
   "source": [
    "#the most popular 10 departing stations\n",
    "!csvcut -c6,7 2016q1.csv | head -10 | csvlook"
   ]
  },
  {
   "cell_type": "code",
   "execution_count": null,
   "metadata": {
    "collapsed": true
   },
   "outputs": [],
   "source": []
  }
 ],
 "metadata": {
  "kernelspec": {
   "display_name": "Python 3",
   "language": "python",
   "name": "python3"
  },
  "language_info": {
   "codemirror_mode": {
    "name": "ipython",
    "version": 3
   },
   "file_extension": ".py",
   "mimetype": "text/x-python",
   "name": "python",
   "nbconvert_exporter": "python",
   "pygments_lexer": "ipython3",
   "version": "3.5.2"
  }
 },
 "nbformat": 4,
 "nbformat_minor": 0
}
