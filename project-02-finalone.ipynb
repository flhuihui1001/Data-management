{
 "cells": [
  {
   "cell_type": "markdown",
   "metadata": {},
   "source": [
    "# Project 02 - Due Friday, November 11 at 12pm\n",
    "\n",
    "*Objectives*: Gain experience loading a transactional dataset into a relational database model you define yourself and using SQL to explore its contents. Transform the data into a star schema, documenting the schema visually, and explore the transformed data analytically by writing and executing a number of SQL queries using common syntax and functions and describing your findings.  Gain practice working on these tasks with a partner.\n",
    "\n",
    "*Grading criteria*: The tasks should all be completed, and questions should all be answered with SQL queries, diagrams, and charts in the space provided, unless a text answer is requested.  The notebook itself should be completely reproducible at datanotebook.org, from start to finish: another person should be able to use the same code to obtain the same results as yours.  Note that you will receive no more than partial credit if you do not add text/markdown cells explaining your thinking at each major step in each problem.\n",
    "\n",
    "*Attestation*: **Work in pairs**.  At the end of your submitted notebook, identify the work each partner performed and attest that each contributed substantially to the work.\n",
    "\n",
    "*Deadline*: Friday, November 11, 12pm.  One member of each pair must submit your notebook to Blackboard; you should not both submit it separately.  You may each push a copy to your own GitHub repository.\n",
    "\n",
    "\n",
    "## Setup - select and obtain data\n",
    "\n",
    "The US City Open Data Census has a variety of [transactional data from all over the country](http://us-city.census.okfn.org/).  Select one topic and one city from this Census, download the data, and explain your reason for this choice before proceeding.  Provide a link to the web page for the data set you've chosen.\n",
    "\n",
    "I strongly encourage you to select a dataset from among the following topics:  Crime, Property Assessment, Campaign Finance Contributions, Service Requests (311), and Web Analytics.\n",
    "\n",
    "By *transactional* data I mean records at the grain of one event per business process.  In the case of Service Requests (311), for example, that would require data at the level of each individual report of a service request.  If this isn't clear, think about the bike trip data - each individual ride was included - and look for data at that level of event/process specificity.  Avoid data like the Connecticut boating data, which was summarized by year, not individual transactions.\n",
    "\n",
    "Please aim for a dataset of at least 10,000 individual records, but less than 250,000 records.  A little more or a little less is okay, but try to stay within these limits.\n",
    "\n",
    "# Choose the dataset\n",
    "We choose to analyze the crime data of New York City. You can also access the dataset via:http://us-city.census.okfn.org/entry/newyorkcity/crime-stats. This dataset is being updated quarterly and is available at the incident level. The data set contains open crime data that helps communities make informed judgements about public safety.\n",
    "\n",
    "Firstly, we download the dataset, rename the dataset and transfer into csv look:"
   ]
  },
  {
   "cell_type": "code",
   "execution_count": 1,
   "metadata": {
    "collapsed": false
   },
   "outputs": [
    {
     "name": "stdout",
     "output_type": "stream",
     "text": [
      "--2016-11-11 10:52:12--  https://data.cityofnewyork.us/api/views/hyij-8hr7/rows.csv?accessType=DOWNLOAD\n",
      "Resolving data.cityofnewyork.us (data.cityofnewyork.us)... 52.206.68.26\n",
      "Connecting to data.cityofnewyork.us (data.cityofnewyork.us)|52.206.68.26|:443... connected.\n",
      "HTTP request sent, awaiting response... 200 OK\n",
      "Length: unspecified [text/csv]\n",
      "Saving to: ‘rows.csv?accessType=DOWNLOAD’\n",
      "\n",
      "rows.csv?accessType     [    <=>               ] 185.12M  2.46MB/s   in 77s    \n",
      "\n",
      "Last-modified header invalid -- time-stamp ignored.\n",
      "2016-11-11 10:53:30 (2.39 MB/s) - ‘rows.csv?accessType=DOWNLOAD’ saved [194111037]\n",
      "\n"
     ]
    }
   ],
   "source": [
    "!wget https://data.cityofnewyork.us/api/views/hyij-8hr7/rows.csv?accessType=DOWNLOAD"
   ]
  },
  {
   "cell_type": "markdown",
   "metadata": {},
   "source": [
    "## Problem 1 - examine the data (20 points)\n",
    "\n",
    "Use `csvstat`, `pandas`, or other tools as you see fit and observe the contents of your dataset.  Review important points from any metadata provided.  Describe what you see:  What do the columns mean?  Are there null values?  Which columns interest you the most?  Which columns present some opportunities, challenges, or questions you would like to ask?"
   ]
  },
  {
   "cell_type": "code",
   "execution_count": 2,
   "metadata": {
    "collapsed": true
   },
   "outputs": [],
   "source": [
    "!mv rows.csv?accessType=DOWNLOAD crime.csv"
   ]
  },
  {
   "cell_type": "code",
   "execution_count": 3,
   "metadata": {
    "collapsed": false
   },
   "outputs": [
    {
     "name": "stdout",
     "output_type": "stream",
     "text": [
      "|-----------+------------+------------------------+-------------+------------------+----------------+-----------------+-----------------+----------------+--------------+---------------+--------------------------------+------------------------+--------+----------+-----------+---------------------+-------------+-------------+----------------------------------------|\r\n",
      "|  OBJECTID | Identifier | Occurrence Date        | Day of Week | Occurrence Month | Occurrence Day | Occurrence Year | Occurrence Hour | CompStat Month | CompStat Day | CompStat Year | Offense                        | Offense Classification | Sector | Precinct | Borough   | Jurisdiction        | XCoordinate | YCoordinate | Location 1                             |\r\n",
      "|-----------+------------+------------------------+-------------+------------------+----------------+-----------------+-----------------+----------------+--------------+---------------+--------------------------------+------------------------+--------+----------+-----------+---------------------+-------------+-------------+----------------------------------------|\r\n",
      "|  1        | f070032d   | 09/06/1940 07:30:00 PM | Friday      | Sep              | 6              | 1940            | 19              | 9              | 7            | 2010          | BURGLARY                       | FELONY                 | D      | 66       | BROOKLYN  | N.Y. POLICE DEPT    | 987478      | 166141      | (40.6227027620001, -73.9883732929999)  |\r\n",
      "|  2        | c6245d4d   | 12/14/1968 12:20:00 AM | Saturday    | Dec              | 14             | 1968            | 0               | 12             | 14           | 2008          | GRAND LARCENY                  | FELONY                 | G      | 28       | MANHATTAN | N.Y. POLICE DEPT    | 996470      | 232106      | (40.8037530600001, -73.955861904)      |\r\n",
      "|  3        | 716dbc6f   | 10/30/1970 03:30:00 PM | Friday      | Oct              | 30             | 1970            | 15              | 10             | 31           | 2008          | BURGLARY                       | FELONY                 | H      | 84       | BROOKLYN  | N.Y. POLICE DEPT    | 986508      | 190249      | (40.688874254, -73.9918594329999)      |\r\n",
      "|  4        | 638cd7b7   | 07/18/1972 11:00:00 PM | Tuesday     | Jul              | 18             | 1972            | 23              | 7              | 19           | 2012          | GRAND LARCENY OF MOTOR VEHICLE | FELONY                 | F      | 73       | BROOKLYN  | N.Y. POLICE DEPT    | 1005876     | 182440      | (40.6674141890001, -73.9220463899999)  |\r\n",
      "|  5        | 6e410287   | 05/21/1987 12:01:00 AM | Thursday    | May              | 21             | 1987            | 0               | 5              | 28           | 2009          | GRAND LARCENY                  | FELONY                 | K      | 75       | BROOKLYN  | N.Y. POLICE DEPT    | 1017958     | 182266      | (40.6668988440001, -73.878495425)      |\r\n",
      "|  6        | 7eebfe3c   | 02/01/1990 09:00:00 AM | Thursday    | Feb              | 1              | 1990            | 9               | 9              | 17           | 2014          | GRAND LARCENY                  | FELONY                 | K      | 105      | QUEENS    | N.Y. POLICE DEPT    | 1058407     | 204788      | (40.7284698170001, -73.7324430589999)  |\r\n",
      "|  7        | da21f94f   | 11/13/1990 12:01:00 AM | Tuesday     | Nov              | 13             | 1990            | 0               | 6              | 7            | 2007          | GRAND LARCENY                  | FELONY                 |        | 73       | BROOKLYN  | N.Y. HOUSING POLICE | 1010272     | 183760      | (40.671025464, -73.906195082)          |\r\n",
      "|  8        | 87c99e8c   | 02/02/1992 04:00:00 PM | Sunday      | Feb              | 2              | 1992            | 16              | 3              | 27           | 2012          | GRAND LARCENY                  | FELONY                 |        | 101      | QUEENS    | N.Y. POLICE DEPT    | 1053678     | 159044      | (40.6029515910001, -73.749976261)      |\r\n",
      "|  9        | 495f57e1   | 08/08/1994 06:00:00 PM | Monday      | Aug              | 8              | 1994            | 18              | 7              | 31           | 2008          | RAPE                           | FELONY                 | A      | 103      | QUEENS    | N.Y. POLICE DEPT    | 1041749     | 196938      | (40.707047475, -73.792611904)          |\r\n",
      "|-----------+------------+------------------------+-------------+------------------+----------------+-----------------+-----------------+----------------+--------------+---------------+--------------------------------+------------------------+--------+----------+-----------+---------------------+-------------+-------------+----------------------------------------|\r\n"
     ]
    }
   ],
   "source": [
    "!csvcut crime.csv | head -10 | csvlook"
   ]
  },
  {
   "cell_type": "code",
   "execution_count": 4,
   "metadata": {
    "collapsed": false
   },
   "outputs": [
    {
     "name": "stdout",
     "output_type": "stream",
     "text": [
      "1123466 crime.csv\r\n"
     ]
    }
   ],
   "source": [
    "!wc -l crime.csv"
   ]
  },
  {
   "cell_type": "markdown",
   "metadata": {},
   "source": [
    "Cleaning the data, i.e replacing all the empty values by data_na"
   ]
  },
  {
   "cell_type": "code",
   "execution_count": 5,
   "metadata": {
    "collapsed": false
   },
   "outputs": [],
   "source": [
    "!perl -pe 's;^,|,$|(?<=,),;data_n\\/a,;g' crime.csv > crime_refined.csv"
   ]
  },
  {
   "cell_type": "code",
   "execution_count": 6,
   "metadata": {
    "collapsed": false
   },
   "outputs": [
    {
     "name": "stdout",
     "output_type": "stream",
     "text": [
      "  1: OBJECTID\r\n",
      "  2: Identifier\r\n",
      "  3: Occurrence Date\r\n",
      "  4: Day of Week\r\n",
      "  5: Occurrence Month\r\n",
      "  6: Occurrence Day\r\n",
      "  7: Occurrence Year\r\n",
      "  8: Occurrence Hour\r\n",
      "  9: CompStat Month\r\n",
      " 10: CompStat Day\r\n",
      " 11: CompStat Year\r\n",
      " 12: Offense\r\n",
      " 13: Offense Classification\r\n",
      " 14: Sector\r\n",
      " 15: Precinct\r\n",
      " 16: Borough\r\n",
      " 17: Jurisdiction\r\n",
      " 18: XCoordinate\r\n",
      " 19: YCoordinate\r\n",
      " 20: Location 1\r\n"
     ]
    }
   ],
   "source": [
    "!csvcut -n crime_refined.csv"
   ]
  },
  {
   "cell_type": "markdown",
   "metadata": {},
   "source": [
    "We have 1123466 samples and 20 columns."
   ]
  },
  {
   "cell_type": "code",
   "execution_count": 7,
   "metadata": {
    "collapsed": true
   },
   "outputs": [],
   "source": [
    "!perl -pe 's;^,|,$|(?<=,),;data_n\\/a,;g' crime.csv > crime_refined.csv"
   ]
  },
  {
   "cell_type": "code",
   "execution_count": 8,
   "metadata": {
    "collapsed": false
   },
   "outputs": [
    {
     "name": "stdout",
     "output_type": "stream",
     "text": [
      "[Errno 2] No such file or directory: 'rape.csv'\r\n"
     ]
    }
   ],
   "source": [
    "!csvcut -n rape.csv "
   ]
  },
  {
   "cell_type": "code",
   "execution_count": 9,
   "metadata": {
    "collapsed": false
   },
   "outputs": [
    {
     "name": "stdout",
     "output_type": "stream",
     "text": [
      "wc: rape.csv: No such file or directory\r\n"
     ]
    }
   ],
   "source": [
    "!wc -l rape.csv"
   ]
  },
  {
   "cell_type": "markdown",
   "metadata": {},
   "source": [
    "Finally, we have a dataset that we want to work with: 13780 observations and 13 columns. Them we will keep exploring these data.\n",
    "\n",
    "#### Here we will post the meaning of each column:\n",
    "\n",
    "  1.2: ObjectId and Identifer are unique numbers assigned to each case,\n",
    "  \n",
    "  3: Occurrence Date: represent the date and time when the rape offenses happen\n",
    "  \n",
    "  4: Day of Week: Text representation of day of week on which the incident occurred\n",
    "  \n",
    "  5: Occurrence Month: Three character abbreviation of month in which the incident occurred\n",
    "  \n",
    "  6: Occurrence Day: Integer representation of day of month in which the incident occurred\n",
    "  \n",
    "  7: Occurrence Year: Integer representation of year in which the incident occurred\n",
    "  \n",
    "  8: Occurrence Hour: Integer representation of time when the incident occurred; based on 24 hour clock\n",
    "  \n",
    "  9: CompStat Month: Three character abbreviation of month in which the incident was reported\n",
    " \n",
    "  10: CompStat Day: Integer representation of day of month in which the incident was reported\n",
    " \n",
    "  11: CompStat Year: Integer representation of year in which the incident was reported\n",
    "  \n",
    "  12: Offense: Type of offense; currently aligned with the FBIs seven major felonies. GLMV is the same as Grand Larceny of Motor Vehicle\n",
    "  \n",
    "  13: Offense Classification: Level of offense; felony, misdemeanor, violation\n",
    "  \n",
    "  14: Sector: Single character indicating patrol sector within given precinct\n",
    "  \n",
    "  15: Precinct: Three character representation of precinct in which incident occurred\n",
    "  \n",
    "  16: Borough: Text representation of borough in which incident occurred\n",
    " \n",
    "  17: Jurisdiction: Internal jurisdiction responsible for incident (eg. NYPD, Transit or Housing)\n",
    " \n",
    "  18: XCoordinate: X-Coordinate for New York State Plane Coordinate System, Long Island Zone, NAD 83, Units feet (FIPS 3104)\n",
    " \n",
    "  19: YCoordinate: Y-Coordinate for New York State Plane Coordinate System, Long Island Zone, NAD 83, Units feet (FIPS 3104)\n",
    "\n",
    "  20: location: Latitude and Longitude Coordinates of the offenses in Global Coordinate System\n",
    "\n",
    "\n",
    "#### We are using these data to answer following questions:\n",
    "\n",
    "1.What's the specific geolocation of rape by time?\n",
    "\n",
    "2.What's the specific geolocation of rape by authoriy?\n",
    "\n",
    "3.What's the specific geolocation of rape by district?"
   ]
  },
  {
   "cell_type": "markdown",
   "metadata": {},
   "source": [
    "\n",
    "\n",
    "#### Filter the data\n",
    "Initially, we have information reagarding many types of offenses, but we only want to discuss abou the rape. Therefore, we firstly filter out information about other ofenses. We Transfer all the data regarding the offesnse of Rape into rape.csv\n",
    "\n",
    "Then, there is 20 columns, but we are not gonna use all of them. we extract the columns that we are interested in -- Colums that shows the time, authority and the location of rape offenses. The reason that we are interested in these information is because we can use these 3 dimension to describe the geolocation of rape offense by time, district, authority.\n",
    "Then we transer the subset into csvlook.\n",
    "\n",
    "We plan to remove the ObjectID, IDdentifier as they are will not help us in any data analysis, Also removing the offense table as all of them are RAPE and offense classification as all of them are felony. Also removing CompStat as it is the time when the data was entered into the NY map system.\n",
    "\n"
   ]
  },
  {
   "cell_type": "code",
   "execution_count": 10,
   "metadata": {
    "collapsed": false
   },
   "outputs": [
    {
     "name": "stdout",
     "output_type": "stream",
     "text": [
      "1123466 crime_refined.csv\r\n"
     ]
    }
   ],
   "source": [
    "!wc -l crime_refined.csv"
   ]
  },
  {
   "cell_type": "code",
   "execution_count": 11,
   "metadata": {
    "collapsed": true
   },
   "outputs": [],
   "source": [
    "!csvcut crime_refined.csv | csvgrep -c12 -m 'RAPE' > rape.csv"
   ]
  },
  {
   "cell_type": "code",
   "execution_count": 12,
   "metadata": {
    "collapsed": false
   },
   "outputs": [
    {
     "name": "stdout",
     "output_type": "stream",
     "text": [
      "13780 rape.csv\r\n"
     ]
    }
   ],
   "source": [
    "!wc -l rape.csv"
   ]
  },
  {
   "cell_type": "code",
   "execution_count": 13,
   "metadata": {
    "collapsed": true
   },
   "outputs": [],
   "source": [
    "!csvcut -c3,4,5,6,7,8,14,15,16,17,20 rape.csv > rape_final.csv"
   ]
  },
  {
   "cell_type": "code",
   "execution_count": null,
   "metadata": {
    "collapsed": false
   },
   "outputs": [],
   "source": [
    "!csvcut -n rape_final.csv "
   ]
  },
  {
   "cell_type": "code",
   "execution_count": null,
   "metadata": {
    "collapsed": false
   },
   "outputs": [],
   "source": [
    "!csvstat rape_final.csv"
   ]
  },
  {
   "cell_type": "code",
   "execution_count": null,
   "metadata": {
    "collapsed": false
   },
   "outputs": [],
   "source": [
    "!wc -l rape_final.csv"
   ]
  },
  {
   "cell_type": "markdown",
   "metadata": {},
   "source": [
    "Finally, we have ....data and ...variables to work with.\n",
    "\n",
    "#### In this dataset, there are null values in some colums:\n",
    "\n",
    "1.Occurrence Date\n",
    "\n",
    "2.Day of Week\n",
    "\n",
    "3.Occurrence Month\n",
    "\n",
    "4.Occurrence Day\n",
    "\n",
    "5.Occurrence Year\n",
    "\n",
    "6.Occurrence Hour\n",
    "\n",
    "7.Sector\n",
    "\n",
    "#### We are using these data to answer following questions:\n",
    "\n",
    "1.What is the geolocation of rape by authority?\n",
    "2.What is the geolocation of rape by time and date?\n",
    "3.What is the geolocation of rape by location?"
   ]
  },
  {
   "cell_type": "markdown",
   "metadata": {},
   "source": [
    "## Problem 2 - define a database model, load the data, and explore (20 points)\n",
    "\n",
    "Based on what you found above, create and connect to a new database, define a database table in it, and load this dataset into it.  You may use either of the methods for this step you have seen in earlier class notebooks.  You may choose to eliminate variables/columns if they are not relevant or interesting to you - explain your reasoning if you do.  Either way, you should load a majority of the columns present in the source dataset as it is in its raw form into the database, and all of its rows.\n",
    "\n",
    "Once your data has loaded successfully, run a `COUNT(*)` query to verify that all the data has loaded correctly.\n",
    "\n",
    "Explore the data to zero in on a few themes you would like to further study analytically.  Discuss columns that present opportunities for extraction into dimensions, and identify the specific columns that contain facts you want to measure."
   ]
  },
  {
   "cell_type": "code",
   "execution_count": null,
   "metadata": {
    "collapsed": false
   },
   "outputs": [],
   "source": [
    "%load_ext sql"
   ]
  },
  {
   "cell_type": "code",
   "execution_count": null,
   "metadata": {
    "collapsed": false
   },
   "outputs": [],
   "source": [
    "!echo 'redspot' | sudo -S service postgresql restart"
   ]
  },
  {
   "cell_type": "code",
   "execution_count": null,
   "metadata": {
    "collapsed": true
   },
   "outputs": [],
   "source": [
    "!createdb -U dbuser Project2"
   ]
  },
  {
   "cell_type": "code",
   "execution_count": null,
   "metadata": {
    "collapsed": false
   },
   "outputs": [],
   "source": [
    "%sql postgresql://dbuser@localhost:5432/Project2"
   ]
  },
  {
   "cell_type": "markdown",
   "metadata": {},
   "source": [
    "Creating the source table which has all our data. Copying the data from the csv to the sql table"
   ]
  },
  {
   "cell_type": "code",
   "execution_count": null,
   "metadata": {
    "collapsed": false
   },
   "outputs": [],
   "source": [
    "%%sql\n",
    "DROP TABLE IF EXISTS rapecrimes;\n",
    "CREATE TABLE rapecrimes (\n",
    "    date CHAR(25),\n",
    "    day CHAR(9),\n",
    "    month CHAR(10),\n",
    "    day_n CHAR(10),\n",
    "    year CHAR(10),\n",
    "    hour CHAR(5),\n",
    "    sector CHAR(10),\n",
    "    precint INT,\n",
    "    borough CHAR(19),\n",
    "    jur char(19),\n",
    "    location POINT\n",
    "    )"
   ]
  },
  {
   "cell_type": "code",
   "execution_count": 12,
   "metadata": {
    "collapsed": false
   },
   "outputs": [
    {
     "name": "stdout",
     "output_type": "stream",
     "text": [
      "13779 rows affected.\n"
     ]
    },
    {
     "data": {
      "text/plain": [
       "[]"
      ]
     },
     "execution_count": 12,
     "metadata": {},
     "output_type": "execute_result"
    }
   ],
   "source": [
    "%%sql\n",
    "COPY rapecrimes FROM '/home/jovyan/work/rape_final.csv'\n",
    "CSV\n",
    "HEADER\n",
    "QUOTE '\"'\n",
    "DELIMITER ',';"
   ]
  },
  {
   "cell_type": "code",
   "execution_count": 13,
   "metadata": {
    "collapsed": false
   },
   "outputs": [
    {
     "name": "stdout",
     "output_type": "stream",
     "text": [
      "10 rows affected.\n"
     ]
    },
    {
     "data": {
      "text/html": [
       "<table>\n",
       "    <tr>\n",
       "        <th>date</th>\n",
       "        <th>day</th>\n",
       "        <th>month</th>\n",
       "        <th>day_n</th>\n",
       "        <th>year</th>\n",
       "        <th>hour</th>\n",
       "        <th>offense</th>\n",
       "        <th>sector</th>\n",
       "        <th>precint</th>\n",
       "        <th>borough</th>\n",
       "        <th>jur</th>\n",
       "        <th>xcor</th>\n",
       "        <th>ycor</th>\n",
       "    </tr>\n",
       "    <tr>\n",
       "        <td>1994-08-08 18:00:00</td>\n",
       "        <td>Monday   </td>\n",
       "        <td>Aug </td>\n",
       "        <td>8</td>\n",
       "        <td>1994</td>\n",
       "        <td>18   </td>\n",
       "        <td>RAPE </td>\n",
       "        <td>A   </td>\n",
       "        <td>103</td>\n",
       "        <td>QUEENS             </td>\n",
       "        <td>N.Y. POLICE DEPT   </td>\n",
       "        <td>1041749</td>\n",
       "        <td>196938</td>\n",
       "    </tr>\n",
       "    <tr>\n",
       "        <td>1995-02-01 08:00:00</td>\n",
       "        <td>Wednesday</td>\n",
       "        <td>Feb </td>\n",
       "        <td>1</td>\n",
       "        <td>1995</td>\n",
       "        <td>8    </td>\n",
       "        <td>RAPE </td>\n",
       "        <td>G   </td>\n",
       "        <td>83</td>\n",
       "        <td>BROOKLYN           </td>\n",
       "        <td>N.Y. POLICE DEPT   </td>\n",
       "        <td>1006965</td>\n",
       "        <td>193571</td>\n",
       "    </tr>\n",
       "    <tr>\n",
       "        <td>2000-01-09 20:00:00</td>\n",
       "        <td>Sunday   </td>\n",
       "        <td>Jan </td>\n",
       "        <td>9</td>\n",
       "        <td>2000</td>\n",
       "        <td>20   </td>\n",
       "        <td>RAPE </td>\n",
       "        <td>G   </td>\n",
       "        <td>108</td>\n",
       "        <td>QUEENS             </td>\n",
       "        <td>N.Y. POLICE DEPT   </td>\n",
       "        <td>996793</td>\n",
       "        <td>210001</td>\n",
       "    </tr>\n",
       "    <tr>\n",
       "        <td>2001-01-09 15:00:00</td>\n",
       "        <td>Tuesday  </td>\n",
       "        <td>Jan </td>\n",
       "        <td>9</td>\n",
       "        <td>2001</td>\n",
       "        <td>15   </td>\n",
       "        <td>RAPE </td>\n",
       "        <td>H   </td>\n",
       "        <td>63</td>\n",
       "        <td>BROOKLYN           </td>\n",
       "        <td>N.Y. HOUSING POLICE</td>\n",
       "        <td>1000448</td>\n",
       "        <td>168068</td>\n",
       "    </tr>\n",
       "    <tr>\n",
       "        <td>2001-02-11 00:01:00</td>\n",
       "        <td>Sunday   </td>\n",
       "        <td>Feb </td>\n",
       "        <td>11</td>\n",
       "        <td>2001</td>\n",
       "        <td>0    </td>\n",
       "        <td>RAPE </td>\n",
       "        <td>B   </td>\n",
       "        <td>25</td>\n",
       "        <td>MANHATTAN          </td>\n",
       "        <td>N.Y. POLICE DEPT   </td>\n",
       "        <td>1000555</td>\n",
       "        <td>230994</td>\n",
       "    </tr>\n",
       "    <tr>\n",
       "        <td>2001-11-19 12:00:00</td>\n",
       "        <td>Monday   </td>\n",
       "        <td>Nov </td>\n",
       "        <td>19</td>\n",
       "        <td>2001</td>\n",
       "        <td>12   </td>\n",
       "        <td>RAPE </td>\n",
       "        <td>G   </td>\n",
       "        <td>75</td>\n",
       "        <td>BROOKLYN           </td>\n",
       "        <td>N.Y. POLICE DEPT   </td>\n",
       "        <td>1017141</td>\n",
       "        <td>183798</td>\n",
       "    </tr>\n",
       "    <tr>\n",
       "        <td>2002-07-25 12:00:00</td>\n",
       "        <td>Thursday </td>\n",
       "        <td>Jul </td>\n",
       "        <td>25</td>\n",
       "        <td>2002</td>\n",
       "        <td>12   </td>\n",
       "        <td>RAPE </td>\n",
       "        <td>A   </td>\n",
       "        <td>101</td>\n",
       "        <td>QUEENS             </td>\n",
       "        <td>N.Y. POLICE DEPT   </td>\n",
       "        <td>1053678</td>\n",
       "        <td>159044</td>\n",
       "    </tr>\n",
       "    <tr>\n",
       "        <td>2002-07-30 12:00:00</td>\n",
       "        <td>Tuesday  </td>\n",
       "        <td>Jul </td>\n",
       "        <td>30</td>\n",
       "        <td>2002</td>\n",
       "        <td>12   </td>\n",
       "        <td>RAPE </td>\n",
       "        <td>E   </td>\n",
       "        <td>47</td>\n",
       "        <td>BRONX              </td>\n",
       "        <td>N.Y. POLICE DEPT   </td>\n",
       "        <td>1026387</td>\n",
       "        <td>262634</td>\n",
       "    </tr>\n",
       "    <tr>\n",
       "        <td>2002-10-15 07:00:00</td>\n",
       "        <td>Tuesday  </td>\n",
       "        <td>Oct </td>\n",
       "        <td>15</td>\n",
       "        <td>2002</td>\n",
       "        <td>7    </td>\n",
       "        <td>RAPE </td>\n",
       "        <td>C   </td>\n",
       "        <td>79</td>\n",
       "        <td>BROOKLYN           </td>\n",
       "        <td>N.Y. POLICE DEPT   </td>\n",
       "        <td>999634</td>\n",
       "        <td>190253</td>\n",
       "    </tr>\n",
       "    <tr>\n",
       "        <td>2002-11-25 00:01:00</td>\n",
       "        <td>Monday   </td>\n",
       "        <td>Nov </td>\n",
       "        <td>25</td>\n",
       "        <td>2002</td>\n",
       "        <td>0    </td>\n",
       "        <td>RAPE </td>\n",
       "        <td>B   </td>\n",
       "        <td>17</td>\n",
       "        <td>MANHATTAN          </td>\n",
       "        <td>N.Y. POLICE DEPT   </td>\n",
       "        <td>992411</td>\n",
       "        <td>215025</td>\n",
       "    </tr>\n",
       "</table>"
      ],
      "text/plain": [
       "[(datetime.datetime(1994, 8, 8, 18, 0), 'Monday   ', 'Aug ', 8, 1994, '18   ', 'RAPE ', 'A   ', 103, 'QUEENS             ', 'N.Y. POLICE DEPT   ', 1041749, 196938),\n",
       " (datetime.datetime(1995, 2, 1, 8, 0), 'Wednesday', 'Feb ', 1, 1995, '8    ', 'RAPE ', 'G   ', 83, 'BROOKLYN           ', 'N.Y. POLICE DEPT   ', 1006965, 193571),\n",
       " (datetime.datetime(2000, 1, 9, 20, 0), 'Sunday   ', 'Jan ', 9, 2000, '20   ', 'RAPE ', 'G   ', 108, 'QUEENS             ', 'N.Y. POLICE DEPT   ', 996793, 210001),\n",
       " (datetime.datetime(2001, 1, 9, 15, 0), 'Tuesday  ', 'Jan ', 9, 2001, '15   ', 'RAPE ', 'H   ', 63, 'BROOKLYN           ', 'N.Y. HOUSING POLICE', 1000448, 168068),\n",
       " (datetime.datetime(2001, 2, 11, 0, 1), 'Sunday   ', 'Feb ', 11, 2001, '0    ', 'RAPE ', 'B   ', 25, 'MANHATTAN          ', 'N.Y. POLICE DEPT   ', 1000555, 230994),\n",
       " (datetime.datetime(2001, 11, 19, 12, 0), 'Monday   ', 'Nov ', 19, 2001, '12   ', 'RAPE ', 'G   ', 75, 'BROOKLYN           ', 'N.Y. POLICE DEPT   ', 1017141, 183798),\n",
       " (datetime.datetime(2002, 7, 25, 12, 0), 'Thursday ', 'Jul ', 25, 2002, '12   ', 'RAPE ', 'A   ', 101, 'QUEENS             ', 'N.Y. POLICE DEPT   ', 1053678, 159044),\n",
       " (datetime.datetime(2002, 7, 30, 12, 0), 'Tuesday  ', 'Jul ', 30, 2002, '12   ', 'RAPE ', 'E   ', 47, 'BRONX              ', 'N.Y. POLICE DEPT   ', 1026387, 262634),\n",
       " (datetime.datetime(2002, 10, 15, 7, 0), 'Tuesday  ', 'Oct ', 15, 2002, '7    ', 'RAPE ', 'C   ', 79, 'BROOKLYN           ', 'N.Y. POLICE DEPT   ', 999634, 190253),\n",
       " (datetime.datetime(2002, 11, 25, 0, 1), 'Monday   ', 'Nov ', 25, 2002, '0    ', 'RAPE ', 'B   ', 17, 'MANHATTAN          ', 'N.Y. POLICE DEPT   ', 992411, 215025)]"
      ]
     },
     "execution_count": 13,
     "metadata": {},
     "output_type": "execute_result"
    }
   ],
   "source": [
    "%%sql\n",
    "select * from rapecrimes\n",
    "LIMIT 10;"
   ]
  },
  {
   "cell_type": "code",
   "execution_count": null,
   "metadata": {
    "collapsed": true
   },
   "outputs": [],
   "source": [
    "%%sql\n",
    "SELECT count(*) FROM rapecrimes"
   ]
  },
  {
   "cell_type": "markdown",
   "metadata": {},
   "source": [
    "All the data has been transferred. \n",
    "\n",
    "The date,month, day_n, year,hour are time related and combine into one dimension, which can tell us a lot about the occurence of the crime.\n",
    "\n",
    "We can find out on which days the maximum occurences have happened, or what is the trend of the occurences year by year. In a day what time is more prone to these occurences. Or is all of it just extremely random.\n",
    "\n",
    "The sector and borough coloumns are also pretty interesting as it tells us which areas are more prone to the occurences and hence need more protection.\n",
    "\n",
    "Also the precint and jurisdiction tells us under whose authority does the offence fall, and can tell us the load work of these authorities.\n",
    "\n",
    "The location is the occurence of the crime, and is a countable value.\n",
    "\n",
    "Exploring the data graphically below.\n",
    "\n",
    "### Now we will do some simple queries:"
   ]
  },
  {
   "cell_type": "markdown",
   "metadata": {},
   "source": [
    "#### 1. In which years does the rape tend to happen most frequently?"
   ]
  },
  {
   "cell_type": "code",
   "execution_count": 16,
   "metadata": {
    "collapsed": false
   },
   "outputs": [
    {
     "name": "stdout",
     "output_type": "stream",
     "text": [
      "5 rows affected.\n"
     ]
    },
    {
     "data": {
      "text/html": [
       "<table>\n",
       "    <tr>\n",
       "        <th>year</th>\n",
       "        <th>count</th>\n",
       "    </tr>\n",
       "    <tr>\n",
       "        <td>2006</td>\n",
       "        <td>1520</td>\n",
       "    </tr>\n",
       "    <tr>\n",
       "        <td>2011</td>\n",
       "        <td>1382</td>\n",
       "    </tr>\n",
       "    <tr>\n",
       "        <td>2012</td>\n",
       "        <td>1372</td>\n",
       "    </tr>\n",
       "    <tr>\n",
       "        <td>2010</td>\n",
       "        <td>1351</td>\n",
       "    </tr>\n",
       "    <tr>\n",
       "        <td>2013</td>\n",
       "        <td>1294</td>\n",
       "    </tr>\n",
       "</table>"
      ],
      "text/plain": [
       "[(2006, 1520), (2011, 1382), (2012, 1372), (2010, 1351), (2013, 1294)]"
      ]
     },
     "execution_count": 16,
     "metadata": {},
     "output_type": "execute_result"
    }
   ],
   "source": [
    "%%sql\n",
    "select year,count(*) from rapecrimes\n",
    "GROUP BY year\n",
    "ORDER BY count desc\n",
    "LIMIT 5;"
   ]
  },
  {
   "cell_type": "code",
   "execution_count": 17,
   "metadata": {
    "collapsed": false
   },
   "outputs": [
    {
     "data": {
      "text/plain": [
       "<Container object of 5 artists>"
      ]
     },
     "execution_count": 17,
     "metadata": {},
     "output_type": "execute_result"
    },
    {
     "data": {
      "image/png": "[encoded data removed]",
      "text/plain": [
       "<matplotlib.figure.Figure at 0x7f39d2732b00>"
      ]
     },
     "metadata": {},
     "output_type": "display_data"
    }
   ],
   "source": [
    "import matplotlib as plt\n",
    "result = _\n",
    "result.bar()"
   ]
  },
  {
   "cell_type": "markdown",
   "metadata": {},
   "source": [
    "#### 2. In which day of the week does the rape tend to happen most frequently?"
   ]
  },
  {
   "cell_type": "code",
   "execution_count": 18,
   "metadata": {
    "collapsed": false
   },
   "outputs": [
    {
     "name": "stdout",
     "output_type": "stream",
     "text": [
      "5 rows affected.\n"
     ]
    },
    {
     "data": {
      "text/html": [
       "<table>\n",
       "    <tr>\n",
       "        <th>day</th>\n",
       "        <th>count</th>\n",
       "    </tr>\n",
       "    <tr>\n",
       "        <td>Saturday </td>\n",
       "        <td>2312</td>\n",
       "    </tr>\n",
       "    <tr>\n",
       "        <td>Sunday   </td>\n",
       "        <td>2255</td>\n",
       "    </tr>\n",
       "    <tr>\n",
       "        <td>Friday   </td>\n",
       "        <td>2067</td>\n",
       "    </tr>\n",
       "    <tr>\n",
       "        <td>Monday   </td>\n",
       "        <td>1831</td>\n",
       "    </tr>\n",
       "    <tr>\n",
       "        <td>Thursday </td>\n",
       "        <td>1776</td>\n",
       "    </tr>\n",
       "</table>"
      ],
      "text/plain": [
       "[('Saturday ', 2312),\n",
       " ('Sunday   ', 2255),\n",
       " ('Friday   ', 2067),\n",
       " ('Monday   ', 1831),\n",
       " ('Thursday ', 1776)]"
      ]
     },
     "execution_count": 18,
     "metadata": {},
     "output_type": "execute_result"
    }
   ],
   "source": [
    "%%sql\n",
    "SELECT day,count(*) FROM rapecrimes\n",
    "GROUP BY day\n",
    "ORDER BY count desc\n",
    "LIMIT 5"
   ]
  },
  {
   "cell_type": "code",
   "execution_count": 19,
   "metadata": {
    "collapsed": false
   },
   "outputs": [
    {
     "data": {
      "text/plain": [
       "<Container object of 5 artists>"
      ]
     },
     "execution_count": 19,
     "metadata": {},
     "output_type": "execute_result"
    },
    {
     "data": {
      "image/png": "[encoded data removed]",
      "text/plain": [
       "<matplotlib.figure.Figure at 0x7f39d23b0438>"
      ]
     },
     "metadata": {},
     "output_type": "display_data"
    }
   ],
   "source": [
    "import matplotlib as plt\n",
    "result = _\n",
    "result.bar()"
   ]
  },
  {
   "cell_type": "markdown",
   "metadata": {},
   "source": [
    "#### 3. In which month does the rape tend to happen most frequently?"
   ]
  },
  {
   "cell_type": "code",
   "execution_count": 20,
   "metadata": {
    "collapsed": false
   },
   "outputs": [
    {
     "name": "stdout",
     "output_type": "stream",
     "text": [
      "5 rows affected.\n"
     ]
    },
    {
     "data": {
      "text/html": [
       "<table>\n",
       "    <tr>\n",
       "        <th>month</th>\n",
       "        <th>count</th>\n",
       "    </tr>\n",
       "    <tr>\n",
       "        <td>Jan </td>\n",
       "        <td>1414</td>\n",
       "    </tr>\n",
       "    <tr>\n",
       "        <td>Jul </td>\n",
       "        <td>1299</td>\n",
       "    </tr>\n",
       "    <tr>\n",
       "        <td>Aug </td>\n",
       "        <td>1268</td>\n",
       "    </tr>\n",
       "    <tr>\n",
       "        <td>Jun </td>\n",
       "        <td>1266</td>\n",
       "    </tr>\n",
       "    <tr>\n",
       "        <td>Oct </td>\n",
       "        <td>1166</td>\n",
       "    </tr>\n",
       "</table>"
      ],
      "text/plain": [
       "[('Jan ', 1414),\n",
       " ('Jul ', 1299),\n",
       " ('Aug ', 1268),\n",
       " ('Jun ', 1266),\n",
       " ('Oct ', 1166)]"
      ]
     },
     "execution_count": 20,
     "metadata": {},
     "output_type": "execute_result"
    }
   ],
   "source": [
    "%%sql\n",
    "SELECT month,count(*) FROM rapecrimes\n",
    "GROUP BY month\n",
    "ORDER BY count desc\n",
    "LIMIT 5"
   ]
  },
  {
   "cell_type": "code",
   "execution_count": 21,
   "metadata": {
    "collapsed": false
   },
   "outputs": [
    {
     "data": {
      "text/plain": [
       "<Container object of 5 artists>"
      ]
     },
     "execution_count": 21,
     "metadata": {},
     "output_type": "execute_result"
    },
    {
     "data": {
      "image/png": "[encoded data removed]",
      "text/plain": [
       "<matplotlib.figure.Figure at 0x7f39d27a6e80>"
      ]
     },
     "metadata": {},
     "output_type": "display_data"
    }
   ],
   "source": [
    "import matplotlib as plt\n",
    "result = _\n",
    "result.bar()"
   ]
  },
  {
   "cell_type": "markdown",
   "metadata": {},
   "source": [
    "#### 4. In which area does the rape tend to happen most frequently?"
   ]
  },
  {
   "cell_type": "code",
   "execution_count": 22,
   "metadata": {
    "collapsed": false
   },
   "outputs": [
    {
     "name": "stdout",
     "output_type": "stream",
     "text": [
      "5 rows affected.\n"
     ]
    },
    {
     "data": {
      "text/html": [
       "<table>\n",
       "    <tr>\n",
       "        <th>borough</th>\n",
       "        <th>count</th>\n",
       "    </tr>\n",
       "    <tr>\n",
       "        <td>BROOKLYN           </td>\n",
       "        <td>4097</td>\n",
       "    </tr>\n",
       "    <tr>\n",
       "        <td>QUEENS             </td>\n",
       "        <td>3182</td>\n",
       "    </tr>\n",
       "    <tr>\n",
       "        <td>BRONX              </td>\n",
       "        <td>3018</td>\n",
       "    </tr>\n",
       "    <tr>\n",
       "        <td>MANHATTAN          </td>\n",
       "        <td>2941</td>\n",
       "    </tr>\n",
       "    <tr>\n",
       "        <td>STATEN ISLAND      </td>\n",
       "        <td>541</td>\n",
       "    </tr>\n",
       "</table>"
      ],
      "text/plain": [
       "[('BROOKLYN           ', 4097),\n",
       " ('QUEENS             ', 3182),\n",
       " ('BRONX              ', 3018),\n",
       " ('MANHATTAN          ', 2941),\n",
       " ('STATEN ISLAND      ', 541)]"
      ]
     },
     "execution_count": 22,
     "metadata": {},
     "output_type": "execute_result"
    }
   ],
   "source": [
    "%%sql\n",
    "SELECT borough,count(*) FROM rapecrimes\n",
    "GROUP BY borough\n",
    "ORDER BY count desc\n",
    "LIMIT 5"
   ]
  },
  {
   "cell_type": "code",
   "execution_count": 23,
   "metadata": {
    "collapsed": false
   },
   "outputs": [
    {
     "data": {
      "text/plain": [
       "<Container object of 5 artists>"
      ]
     },
     "execution_count": 23,
     "metadata": {},
     "output_type": "execute_result"
    },
    {
     "data": {
      "image/png": "[encoded data removed]",
      "text/plain": [
       "<matplotlib.figure.Figure at 0x7f39d2609e80>"
      ]
     },
     "metadata": {},
     "output_type": "display_data"
    }
   ],
   "source": [
    "import matplotlib as plt\n",
    "result = _\n",
    "result.bar()"
   ]
  },
  {
   "cell_type": "markdown",
   "metadata": {},
   "source": [
    "#### 5. In which jurisdiction does the rape tend to happen most frequently?"
   ]
  },
  {
   "cell_type": "code",
   "execution_count": 24,
   "metadata": {
    "collapsed": false
   },
   "outputs": [
    {
     "name": "stdout",
     "output_type": "stream",
     "text": [
      "5 rows affected.\n"
     ]
    },
    {
     "data": {
      "text/html": [
       "<table>\n",
       "    <tr>\n",
       "        <th>jur</th>\n",
       "        <th>count</th>\n",
       "    </tr>\n",
       "    <tr>\n",
       "        <td>N.Y. POLICE DEPT   </td>\n",
       "        <td>12183</td>\n",
       "    </tr>\n",
       "    <tr>\n",
       "        <td>N.Y. HOUSING POLICE</td>\n",
       "        <td>1497</td>\n",
       "    </tr>\n",
       "    <tr>\n",
       "        <td>N.Y. TRANSIT POLICE</td>\n",
       "        <td>34</td>\n",
       "    </tr>\n",
       "    <tr>\n",
       "        <td>POLICE DEPT NYC    </td>\n",
       "        <td>16</td>\n",
       "    </tr>\n",
       "    <tr>\n",
       "        <td>OTHER              </td>\n",
       "        <td>14</td>\n",
       "    </tr>\n",
       "</table>"
      ],
      "text/plain": [
       "[('N.Y. POLICE DEPT   ', 12183),\n",
       " ('N.Y. HOUSING POLICE', 1497),\n",
       " ('N.Y. TRANSIT POLICE', 34),\n",
       " ('POLICE DEPT NYC    ', 16),\n",
       " ('OTHER              ', 14)]"
      ]
     },
     "execution_count": 24,
     "metadata": {},
     "output_type": "execute_result"
    }
   ],
   "source": [
    "%%sql\n",
    "SELECT jur,count(*) FROM rapecrimes\n",
    "GROUP BY jur\n",
    "ORDER BY count desc\n",
    "LIMIT 5"
   ]
  },
  {
   "cell_type": "code",
   "execution_count": 25,
   "metadata": {
    "collapsed": false
   },
   "outputs": [
    {
     "data": {
      "text/plain": [
       "<Container object of 5 artists>"
      ]
     },
     "execution_count": 25,
     "metadata": {},
     "output_type": "execute_result"
    },
    {
     "data": {
      "image/png": "[encoded data removed]",
      "text/plain": [
       "<matplotlib.figure.Figure at 0x7f39fed730b8>"
      ]
     },
     "metadata": {},
     "output_type": "display_data"
    }
   ],
   "source": [
    "import matplotlib as plt\n",
    "result = _\n",
    "result.bar()"
   ]
  },
  {
   "cell_type": "markdown",
   "metadata": {},
   "source": [
    "## Problem 3 - define a star schema, and load your data into it (30 points)\n",
    "\n",
    "Define a star schema consisting of at least one fact table and at least two dimensions.  Transform your source data into the new fact table and dimensions.  Discuss your key modeling decisions.\n",
    "\n",
    "Document your star schema with a diagram.  There several tools available for this, such as Google Docs and Microsoft Visio."
   ]
  },
  {
   "cell_type": "markdown",
   "metadata": {},
   "source": [
    "#### Star Schema Design\n",
    "\n",
    "Our model consists of one fact and three dimension tables. The fact table has the co-ordinates of the location where the offense occured, The dimesnion tables are as follows:\n",
    "1. Location : Consists of the sector and borough where the offense happened \n",
    "2. Authority : Under whose authority is the offense occured\n",
    "2. Time : The complete time history of the occurening of the offense"
   ]
  },
  {
   "cell_type": "code",
   "execution_count": 30,
   "metadata": {
    "collapsed": true
   },
   "outputs": [],
   "source": [
    "!csvcut -c3,4,5,6,7,8,9,10,11,14,15,16,17,18,19,20 rape.csv > rape_final.csv"
   ]
  },
  {
   "cell_type": "code",
   "execution_count": 31,
   "metadata": {
    "collapsed": false
   },
   "outputs": [
    {
     "name": "stdout",
     "output_type": "stream",
     "text": [
      "Done.\n",
      "Done.\n"
     ]
    },
    {
     "data": {
      "text/plain": [
       "[]"
      ]
     },
     "execution_count": 31,
     "metadata": {},
     "output_type": "execute_result"
    }
   ],
   "source": [
    "%%sql\n",
    "DROP TABLE IF EXISTS rapecrimes;\n",
    "CREATE TABLE rapecrimes (\n",
    "    date TIMESTAMP,\n",
    "    day CHAR(9),\n",
    "    month CHAR(4),\n",
    "    day_n INT,\n",
    "    year INT,\n",
    "    hour CHAR(5),\n",
    "    c_month CHAR(4),\n",
    "    c_day_n INT,\n",
    "    c_year INT,\n",
    "    sector CHAR(4),\n",
    "    precint INT,\n",
    "    borough CHAR(19),\n",
    "    jur char(19),\n",
    "    xcor BIGINT,\n",
    "    ycor BIGINT,\n",
    "    location POINT\n",
    "    )"
   ]
  },
  {
   "cell_type": "code",
   "execution_count": 32,
   "metadata": {
    "collapsed": false
   },
   "outputs": [
    {
     "name": "stdout",
     "output_type": "stream",
     "text": [
      "13779 rows affected.\n"
     ]
    },
    {
     "data": {
      "text/plain": [
       "[]"
      ]
     },
     "execution_count": 32,
     "metadata": {},
     "output_type": "execute_result"
    }
   ],
   "source": [
    "%%sql\n",
    "COPY rapecrimes FROM '/home/jovyan/work/rape_final.csv'\n",
    "CSV\n",
    "HEADER\n",
    "QUOTE '\"'\n",
    "DELIMITER ',';"
   ]
  },
  {
   "cell_type": "code",
   "execution_count": 33,
   "metadata": {
    "collapsed": false
   },
   "outputs": [
    {
     "name": "stdout",
     "output_type": "stream",
     "text": [
      "3 rows affected.\n"
     ]
    },
    {
     "data": {
      "text/html": [
       "<table>\n",
       "    <tr>\n",
       "        <th>date</th>\n",
       "        <th>day</th>\n",
       "        <th>month</th>\n",
       "        <th>day_n</th>\n",
       "        <th>year</th>\n",
       "        <th>hour</th>\n",
       "        <th>c_month</th>\n",
       "        <th>c_day_n</th>\n",
       "        <th>c_year</th>\n",
       "        <th>sector</th>\n",
       "        <th>precint</th>\n",
       "        <th>borough</th>\n",
       "        <th>jur</th>\n",
       "        <th>xcor</th>\n",
       "        <th>ycor</th>\n",
       "        <th>location</th>\n",
       "    </tr>\n",
       "    <tr>\n",
       "        <td>1994-08-08 18:00:00</td>\n",
       "        <td>Monday   </td>\n",
       "        <td>Aug </td>\n",
       "        <td>8</td>\n",
       "        <td>1994</td>\n",
       "        <td>18   </td>\n",
       "        <td>7   </td>\n",
       "        <td>31</td>\n",
       "        <td>2008</td>\n",
       "        <td>A   </td>\n",
       "        <td>103</td>\n",
       "        <td>QUEENS             </td>\n",
       "        <td>N.Y. POLICE DEPT   </td>\n",
       "        <td>1041749</td>\n",
       "        <td>196938</td>\n",
       "        <td>(40.707047475,-73.792611904)</td>\n",
       "    </tr>\n",
       "    <tr>\n",
       "        <td>1995-02-01 08:00:00</td>\n",
       "        <td>Wednesday</td>\n",
       "        <td>Feb </td>\n",
       "        <td>1</td>\n",
       "        <td>1995</td>\n",
       "        <td>8    </td>\n",
       "        <td>3   </td>\n",
       "        <td>6</td>\n",
       "        <td>2009</td>\n",
       "        <td>G   </td>\n",
       "        <td>83</td>\n",
       "        <td>BROOKLYN           </td>\n",
       "        <td>N.Y. POLICE DEPT   </td>\n",
       "        <td>1006965</td>\n",
       "        <td>193571</td>\n",
       "        <td>(40.697963515,-73.9180833619999)</td>\n",
       "    </tr>\n",
       "    <tr>\n",
       "        <td>2000-01-09 20:00:00</td>\n",
       "        <td>Sunday   </td>\n",
       "        <td>Jan </td>\n",
       "        <td>9</td>\n",
       "        <td>2000</td>\n",
       "        <td>20   </td>\n",
       "        <td>11  </td>\n",
       "        <td>6</td>\n",
       "        <td>2006</td>\n",
       "        <td>G   </td>\n",
       "        <td>108</td>\n",
       "        <td>QUEENS             </td>\n",
       "        <td>N.Y. POLICE DEPT   </td>\n",
       "        <td>996793</td>\n",
       "        <td>210001</td>\n",
       "        <td>(40.7430801680001,-73.954736461)</td>\n",
       "    </tr>\n",
       "</table>"
      ],
      "text/plain": [
       "[(datetime.datetime(1994, 8, 8, 18, 0), 'Monday   ', 'Aug ', 8, 1994, '18   ', '7   ', 31, 2008, 'A   ', 103, 'QUEENS             ', 'N.Y. POLICE DEPT   ', 1041749, 196938, '(40.707047475,-73.792611904)'),\n",
       " (datetime.datetime(1995, 2, 1, 8, 0), 'Wednesday', 'Feb ', 1, 1995, '8    ', '3   ', 6, 2009, 'G   ', 83, 'BROOKLYN           ', 'N.Y. POLICE DEPT   ', 1006965, 193571, '(40.697963515,-73.9180833619999)'),\n",
       " (datetime.datetime(2000, 1, 9, 20, 0), 'Sunday   ', 'Jan ', 9, 2000, '20   ', '11  ', 6, 2006, 'G   ', 108, 'QUEENS             ', 'N.Y. POLICE DEPT   ', 996793, 210001, '(40.7430801680001,-73.954736461)')]"
      ]
     },
     "execution_count": 33,
     "metadata": {},
     "output_type": "execute_result"
    }
   ],
   "source": [
    "%%sql\n",
    "select * from rapecrimes\n",
    "LIMIT 3;"
   ]
  },
  {
   "cell_type": "markdown",
   "metadata": {},
   "source": [
    "#### Dimension 1: Authority: Create dimension location_table to describe the sector and borough "
   ]
  },
  {
   "cell_type": "code",
   "execution_count": 44,
   "metadata": {
    "collapsed": false
   },
   "outputs": [
    {
     "name": "stdout",
     "output_type": "stream",
     "text": [
      "Done.\n",
      "Done.\n"
     ]
    },
    {
     "data": {
      "text/plain": [
       "[]"
      ]
     },
     "execution_count": 44,
     "metadata": {},
     "output_type": "execute_result"
    }
   ],
   "source": [
    "%%sql\n",
    "DROP TABLE IF EXISTS location_table;\n",
    "CREATE TABLE location_table (\n",
    "    borough CHAR(19),\n",
    "    location_key SERIAL PRIMARY KEY\n",
    ");\n"
   ]
  },
  {
   "cell_type": "code",
   "execution_count": 45,
   "metadata": {
    "collapsed": false
   },
   "outputs": [
    {
     "name": "stdout",
     "output_type": "stream",
     "text": [
      "5 rows affected.\n"
     ]
    },
    {
     "data": {
      "text/plain": [
       "[]"
      ]
     },
     "execution_count": 45,
     "metadata": {},
     "output_type": "execute_result"
    }
   ],
   "source": [
    "%%sql\n",
    "INSERT INTO location_table (borough)\n",
    "SELECT DISTINCT borough FROM rapecrimes\n",
    ";"
   ]
  },
  {
   "cell_type": "code",
   "execution_count": 46,
   "metadata": {
    "collapsed": false
   },
   "outputs": [
    {
     "name": "stdout",
     "output_type": "stream",
     "text": [
      "5 rows affected.\n"
     ]
    },
    {
     "data": {
      "text/html": [
       "<table>\n",
       "    <tr>\n",
       "        <th>borough</th>\n",
       "        <th>location_key</th>\n",
       "    </tr>\n",
       "    <tr>\n",
       "        <td>QUEENS             </td>\n",
       "        <td>1</td>\n",
       "    </tr>\n",
       "    <tr>\n",
       "        <td>MANHATTAN          </td>\n",
       "        <td>2</td>\n",
       "    </tr>\n",
       "    <tr>\n",
       "        <td>BRONX              </td>\n",
       "        <td>3</td>\n",
       "    </tr>\n",
       "    <tr>\n",
       "        <td>BROOKLYN           </td>\n",
       "        <td>4</td>\n",
       "    </tr>\n",
       "    <tr>\n",
       "        <td>STATEN ISLAND      </td>\n",
       "        <td>5</td>\n",
       "    </tr>\n",
       "</table>"
      ],
      "text/plain": [
       "[('QUEENS             ', 1),\n",
       " ('MANHATTAN          ', 2),\n",
       " ('BRONX              ', 3),\n",
       " ('BROOKLYN           ', 4),\n",
       " ('STATEN ISLAND      ', 5)]"
      ]
     },
     "execution_count": 46,
     "metadata": {},
     "output_type": "execute_result"
    }
   ],
   "source": [
    "%%sql\n",
    "select * from location_table"
   ]
  },
  {
   "cell_type": "markdown",
   "metadata": {},
   "source": [
    "#### Dimension 2:  Location: Create dimension authority_table to describe the jurisdiction"
   ]
  },
  {
   "cell_type": "code",
   "execution_count": 53,
   "metadata": {
    "collapsed": false
   },
   "outputs": [
    {
     "name": "stdout",
     "output_type": "stream",
     "text": [
      "Done.\n",
      "Done.\n"
     ]
    },
    {
     "data": {
      "text/plain": [
       "[]"
      ]
     },
     "execution_count": 53,
     "metadata": {},
     "output_type": "execute_result"
    }
   ],
   "source": [
    "%%sql\n",
    "DROP TABLE IF EXISTS authority_table;\n",
    "CREATE TABLE authority_table (\n",
    "    jur char(19),\n",
    "    authority_key SERIAL PRIMARY KEY\n",
    ");"
   ]
  },
  {
   "cell_type": "code",
   "execution_count": 54,
   "metadata": {
    "collapsed": false
   },
   "outputs": [
    {
     "name": "stdout",
     "output_type": "stream",
     "text": [
      "14 rows affected.\n"
     ]
    },
    {
     "data": {
      "text/plain": [
       "[]"
      ]
     },
     "execution_count": 54,
     "metadata": {},
     "output_type": "execute_result"
    }
   ],
   "source": [
    "%%sql\n",
    "INSERT INTO authority_table (jur)\n",
    "SELECT DISTINCT jur FROM rapecrimes\n",
    ";"
   ]
  },
  {
   "cell_type": "code",
   "execution_count": 55,
   "metadata": {
    "collapsed": false
   },
   "outputs": [
    {
     "name": "stdout",
     "output_type": "stream",
     "text": [
      "14 rows affected.\n"
     ]
    },
    {
     "data": {
      "text/html": [
       "<table>\n",
       "    <tr>\n",
       "        <th>jur</th>\n",
       "        <th>authority_key</th>\n",
       "    </tr>\n",
       "    <tr>\n",
       "        <td>N.Y. POLICE DEPT   </td>\n",
       "        <td>1</td>\n",
       "    </tr>\n",
       "    <tr>\n",
       "        <td>HEALTH &amp; HOSP CORP </td>\n",
       "        <td>2</td>\n",
       "    </tr>\n",
       "    <tr>\n",
       "        <td>N.Y. STATE POLICE  </td>\n",
       "        <td>3</td>\n",
       "    </tr>\n",
       "    <tr>\n",
       "        <td>METRO NORTH        </td>\n",
       "        <td>4</td>\n",
       "    </tr>\n",
       "    <tr>\n",
       "        <td>U.S. PARK POLICE   </td>\n",
       "        <td>5</td>\n",
       "    </tr>\n",
       "    <tr>\n",
       "        <td>PORT AUTHORITY     </td>\n",
       "        <td>6</td>\n",
       "    </tr>\n",
       "    <tr>\n",
       "        <td>DEPT OF CORRECTIONS</td>\n",
       "        <td>7</td>\n",
       "    </tr>\n",
       "    <tr>\n",
       "        <td>(null)             </td>\n",
       "        <td>8</td>\n",
       "    </tr>\n",
       "    <tr>\n",
       "        <td>N.Y. HOUSING POLICE</td>\n",
       "        <td>9</td>\n",
       "    </tr>\n",
       "    <tr>\n",
       "        <td>OTHER              </td>\n",
       "        <td>10</td>\n",
       "    </tr>\n",
       "    <tr>\n",
       "        <td>N.Y. STATE PARKS   </td>\n",
       "        <td>11</td>\n",
       "    </tr>\n",
       "    <tr>\n",
       "        <td>N.Y. TRANSIT POLICE</td>\n",
       "        <td>12</td>\n",
       "    </tr>\n",
       "    <tr>\n",
       "        <td>POLICE DEPT NYC    </td>\n",
       "        <td>13</td>\n",
       "    </tr>\n",
       "    <tr>\n",
       "        <td>AMTRACK            </td>\n",
       "        <td>14</td>\n",
       "    </tr>\n",
       "</table>"
      ],
      "text/plain": [
       "[('N.Y. POLICE DEPT   ', 1),\n",
       " ('HEALTH & HOSP CORP ', 2),\n",
       " ('N.Y. STATE POLICE  ', 3),\n",
       " ('METRO NORTH        ', 4),\n",
       " ('U.S. PARK POLICE   ', 5),\n",
       " ('PORT AUTHORITY     ', 6),\n",
       " ('DEPT OF CORRECTIONS', 7),\n",
       " ('(null)             ', 8),\n",
       " ('N.Y. HOUSING POLICE', 9),\n",
       " ('OTHER              ', 10),\n",
       " ('N.Y. STATE PARKS   ', 11),\n",
       " ('N.Y. TRANSIT POLICE', 12),\n",
       " ('POLICE DEPT NYC    ', 13),\n",
       " ('AMTRACK            ', 14)]"
      ]
     },
     "execution_count": 55,
     "metadata": {},
     "output_type": "execute_result"
    }
   ],
   "source": [
    "%%sql\n",
    "select * from authority_table"
   ]
  },
  {
   "cell_type": "markdown",
   "metadata": {},
   "source": [
    "#### Dimension 3:  Time: Create dimension time_table to describe the date and time"
   ]
  },
  {
   "cell_type": "code",
   "execution_count": 67,
   "metadata": {
    "collapsed": true
   },
   "outputs": [],
   "source": [
    "!csvcut -c1,2,3,4,5,6 rape_final.csv > rape_time.csv"
   ]
  },
  {
   "cell_type": "code",
   "execution_count": 80,
   "metadata": {
    "collapsed": false
   },
   "outputs": [
    {
     "name": "stdout",
     "output_type": "stream",
     "text": [
      "Done.\n",
      "Done.\n"
     ]
    },
    {
     "data": {
      "text/plain": [
       "[]"
      ]
     },
     "execution_count": 80,
     "metadata": {},
     "output_type": "execute_result"
    }
   ],
   "source": [
    "%%sql\n",
    "DROP TABLE IF EXISTS time_table;\n",
    "CREATE TABLE time_table (\n",
    "    date TIMESTAMP,\n",
    "    day CHAR(9),\n",
    "    month CHAR(4),\n",
    "    day_n INT,\n",
    "    year INT,\n",
    "    hour CHAR(5)\n",
    "    )"
   ]
  },
  {
   "cell_type": "code",
   "execution_count": 81,
   "metadata": {
    "collapsed": false
   },
   "outputs": [
    {
     "name": "stdout",
     "output_type": "stream",
     "text": [
      "13779 rows affected.\n"
     ]
    },
    {
     "data": {
      "text/plain": [
       "[]"
      ]
     },
     "execution_count": 81,
     "metadata": {},
     "output_type": "execute_result"
    }
   ],
   "source": [
    "%%sql\n",
    "COPY time_table FROM '/home/jovyan/work/rape_time.csv'\n",
    "CSV\n",
    "HEADER\n",
    "QUOTE '\"'\n",
    "DELIMITER ',';"
   ]
  },
  {
   "cell_type": "code",
   "execution_count": 82,
   "metadata": {
    "collapsed": false
   },
   "outputs": [
    {
     "name": "stdout",
     "output_type": "stream",
     "text": [
      "Done.\n"
     ]
    },
    {
     "data": {
      "text/plain": [
       "[]"
      ]
     },
     "execution_count": 82,
     "metadata": {},
     "output_type": "execute_result"
    }
   ],
   "source": [
    "%%sql\n",
    "ALTER TABLE time_table\n",
    "ADD time_key SERIAL PRIMARY KEY"
   ]
  },
  {
   "cell_type": "code",
   "execution_count": 83,
   "metadata": {
    "collapsed": false
   },
   "outputs": [
    {
     "name": "stdout",
     "output_type": "stream",
     "text": [
      "10 rows affected.\n"
     ]
    },
    {
     "data": {
      "text/html": [
       "<table>\n",
       "    <tr>\n",
       "        <th>date</th>\n",
       "        <th>day</th>\n",
       "        <th>month</th>\n",
       "        <th>day_n</th>\n",
       "        <th>year</th>\n",
       "        <th>hour</th>\n",
       "        <th>time_key</th>\n",
       "    </tr>\n",
       "    <tr>\n",
       "        <td>1994-08-08 18:00:00</td>\n",
       "        <td>Monday   </td>\n",
       "        <td>Aug </td>\n",
       "        <td>8</td>\n",
       "        <td>1994</td>\n",
       "        <td>18   </td>\n",
       "        <td>1</td>\n",
       "    </tr>\n",
       "    <tr>\n",
       "        <td>1995-02-01 08:00:00</td>\n",
       "        <td>Wednesday</td>\n",
       "        <td>Feb </td>\n",
       "        <td>1</td>\n",
       "        <td>1995</td>\n",
       "        <td>8    </td>\n",
       "        <td>2</td>\n",
       "    </tr>\n",
       "    <tr>\n",
       "        <td>2000-01-09 20:00:00</td>\n",
       "        <td>Sunday   </td>\n",
       "        <td>Jan </td>\n",
       "        <td>9</td>\n",
       "        <td>2000</td>\n",
       "        <td>20   </td>\n",
       "        <td>3</td>\n",
       "    </tr>\n",
       "    <tr>\n",
       "        <td>2001-01-09 15:00:00</td>\n",
       "        <td>Tuesday  </td>\n",
       "        <td>Jan </td>\n",
       "        <td>9</td>\n",
       "        <td>2001</td>\n",
       "        <td>15   </td>\n",
       "        <td>4</td>\n",
       "    </tr>\n",
       "    <tr>\n",
       "        <td>2001-02-11 00:01:00</td>\n",
       "        <td>Sunday   </td>\n",
       "        <td>Feb </td>\n",
       "        <td>11</td>\n",
       "        <td>2001</td>\n",
       "        <td>0    </td>\n",
       "        <td>5</td>\n",
       "    </tr>\n",
       "    <tr>\n",
       "        <td>2001-11-19 12:00:00</td>\n",
       "        <td>Monday   </td>\n",
       "        <td>Nov </td>\n",
       "        <td>19</td>\n",
       "        <td>2001</td>\n",
       "        <td>12   </td>\n",
       "        <td>6</td>\n",
       "    </tr>\n",
       "    <tr>\n",
       "        <td>2002-07-25 12:00:00</td>\n",
       "        <td>Thursday </td>\n",
       "        <td>Jul </td>\n",
       "        <td>25</td>\n",
       "        <td>2002</td>\n",
       "        <td>12   </td>\n",
       "        <td>7</td>\n",
       "    </tr>\n",
       "    <tr>\n",
       "        <td>2002-07-30 12:00:00</td>\n",
       "        <td>Tuesday  </td>\n",
       "        <td>Jul </td>\n",
       "        <td>30</td>\n",
       "        <td>2002</td>\n",
       "        <td>12   </td>\n",
       "        <td>8</td>\n",
       "    </tr>\n",
       "    <tr>\n",
       "        <td>2002-10-15 07:00:00</td>\n",
       "        <td>Tuesday  </td>\n",
       "        <td>Oct </td>\n",
       "        <td>15</td>\n",
       "        <td>2002</td>\n",
       "        <td>7    </td>\n",
       "        <td>9</td>\n",
       "    </tr>\n",
       "    <tr>\n",
       "        <td>2002-11-25 00:01:00</td>\n",
       "        <td>Monday   </td>\n",
       "        <td>Nov </td>\n",
       "        <td>25</td>\n",
       "        <td>2002</td>\n",
       "        <td>0    </td>\n",
       "        <td>10</td>\n",
       "    </tr>\n",
       "</table>"
      ],
      "text/plain": [
       "[(datetime.datetime(1994, 8, 8, 18, 0), 'Monday   ', 'Aug ', 8, 1994, '18   ', 1),\n",
       " (datetime.datetime(1995, 2, 1, 8, 0), 'Wednesday', 'Feb ', 1, 1995, '8    ', 2),\n",
       " (datetime.datetime(2000, 1, 9, 20, 0), 'Sunday   ', 'Jan ', 9, 2000, '20   ', 3),\n",
       " (datetime.datetime(2001, 1, 9, 15, 0), 'Tuesday  ', 'Jan ', 9, 2001, '15   ', 4),\n",
       " (datetime.datetime(2001, 2, 11, 0, 1), 'Sunday   ', 'Feb ', 11, 2001, '0    ', 5),\n",
       " (datetime.datetime(2001, 11, 19, 12, 0), 'Monday   ', 'Nov ', 19, 2001, '12   ', 6),\n",
       " (datetime.datetime(2002, 7, 25, 12, 0), 'Thursday ', 'Jul ', 25, 2002, '12   ', 7),\n",
       " (datetime.datetime(2002, 7, 30, 12, 0), 'Tuesday  ', 'Jul ', 30, 2002, '12   ', 8),\n",
       " (datetime.datetime(2002, 10, 15, 7, 0), 'Tuesday  ', 'Oct ', 15, 2002, '7    ', 9),\n",
       " (datetime.datetime(2002, 11, 25, 0, 1), 'Monday   ', 'Nov ', 25, 2002, '0    ', 10)]"
      ]
     },
     "execution_count": 83,
     "metadata": {},
     "output_type": "execute_result"
    }
   ],
   "source": [
    "%%sql\n",
    "SELECT * FROM time_table \n",
    "LIMIT 10;"
   ]
  },
  {
   "cell_type": "markdown",
   "metadata": {},
   "source": [
    "#### Create the fact table to store foreign keys and geolocation of rape offenses."
   ]
  },
  {
   "cell_type": "code",
   "execution_count": 112,
   "metadata": {
    "collapsed": false
   },
   "outputs": [
    {
     "name": "stdout",
     "output_type": "stream",
     "text": [
      "Done.\n",
      "Done.\n"
     ]
    },
    {
     "data": {
      "text/plain": [
       "[]"
      ]
     },
     "execution_count": 112,
     "metadata": {},
     "output_type": "execute_result"
    }
   ],
   "source": [
    "%%sql\n",
    "DROP TABLE IF EXISTS fact_table;\n",
    "CREATE TABLE fact_table (\n",
    "  location_key INT,\n",
    "  authority_key INT,\n",
    "  time_key INT,\n",
    "  location POINT\n",
    ");"
   ]
  },
  {
   "cell_type": "code",
   "execution_count": 113,
   "metadata": {
    "collapsed": false
   },
   "outputs": [
    {
     "name": "stdout",
     "output_type": "stream",
     "text": [
      "41337 rows affected.\n",
      "(psycopg2.ProgrammingError) can't execute an empty query [SQL: ';']\n"
     ]
    }
   ],
   "source": [
    "%%sql\n",
    "INSERT INTO fact_table(location)\n",
    "SELECT location FROM rapecrimes;\n",
    "\n",
    ";"
   ]
  },
  {
   "cell_type": "code",
   "execution_count": 114,
   "metadata": {
    "collapsed": false
   },
   "outputs": [
    {
     "name": "stdout",
     "output_type": "stream",
     "text": [
      "10 rows affected.\n"
     ]
    },
    {
     "data": {
      "text/html": [
       "<table>\n",
       "    <tr>\n",
       "        <th>location_key</th>\n",
       "        <th>authority_key</th>\n",
       "        <th>time_key</th>\n",
       "        <th>location</th>\n",
       "    </tr>\n",
       "    <tr>\n",
       "        <td>None</td>\n",
       "        <td>None</td>\n",
       "        <td>None</td>\n",
       "        <td>(40.707047475,-73.792611904)</td>\n",
       "    </tr>\n",
       "    <tr>\n",
       "        <td>None</td>\n",
       "        <td>None</td>\n",
       "        <td>None</td>\n",
       "        <td>(40.697963515,-73.9180833619999)</td>\n",
       "    </tr>\n",
       "    <tr>\n",
       "        <td>None</td>\n",
       "        <td>None</td>\n",
       "        <td>None</td>\n",
       "        <td>(40.7430801680001,-73.954736461)</td>\n",
       "    </tr>\n",
       "    <tr>\n",
       "        <td>None</td>\n",
       "        <td>None</td>\n",
       "        <td>None</td>\n",
       "        <td>(40.6279777550001,-73.941647157)</td>\n",
       "    </tr>\n",
       "    <tr>\n",
       "        <td>None</td>\n",
       "        <td>None</td>\n",
       "        <td>None</td>\n",
       "        <td>(40.800694331,-73.941109286)</td>\n",
       "    </tr>\n",
       "    <tr>\n",
       "        <td>None</td>\n",
       "        <td>None</td>\n",
       "        <td>None</td>\n",
       "        <td>(40.671106911,-73.881432957)</td>\n",
       "    </tr>\n",
       "    <tr>\n",
       "        <td>None</td>\n",
       "        <td>None</td>\n",
       "        <td>None</td>\n",
       "        <td>(40.6029515910001,-73.749976261)</td>\n",
       "    </tr>\n",
       "    <tr>\n",
       "        <td>None</td>\n",
       "        <td>None</td>\n",
       "        <td>None</td>\n",
       "        <td>(40.887451313,-73.847607787)</td>\n",
       "    </tr>\n",
       "    <tr>\n",
       "        <td>None</td>\n",
       "        <td>None</td>\n",
       "        <td>None</td>\n",
       "        <td>(40.688872153,-73.9445290319999)</td>\n",
       "    </tr>\n",
       "    <tr>\n",
       "        <td>None</td>\n",
       "        <td>None</td>\n",
       "        <td>None</td>\n",
       "        <td>(40.7568749110001,-73.970544057)</td>\n",
       "    </tr>\n",
       "</table>"
      ],
      "text/plain": [
       "[(None, None, None, '(40.707047475,-73.792611904)'),\n",
       " (None, None, None, '(40.697963515,-73.9180833619999)'),\n",
       " (None, None, None, '(40.7430801680001,-73.954736461)'),\n",
       " (None, None, None, '(40.6279777550001,-73.941647157)'),\n",
       " (None, None, None, '(40.800694331,-73.941109286)'),\n",
       " (None, None, None, '(40.671106911,-73.881432957)'),\n",
       " (None, None, None, '(40.6029515910001,-73.749976261)'),\n",
       " (None, None, None, '(40.887451313,-73.847607787)'),\n",
       " (None, None, None, '(40.688872153,-73.9445290319999)'),\n",
       " (None, None, None, '(40.7568749110001,-73.970544057)')]"
      ]
     },
     "execution_count": 114,
     "metadata": {},
     "output_type": "execute_result"
    }
   ],
   "source": [
    "%%sql\n",
    "SELECT * FROM fact_table\n",
    "LIMIT 10;"
   ]
  },
  {
   "cell_type": "markdown",
   "metadata": {},
   "source": [
    "#### Next step is to join the fact table and the dimension table. "
   ]
  },
  {
   "cell_type": "code",
   "execution_count": null,
   "metadata": {
    "collapsed": true
   },
   "outputs": [],
   "source": []
  },
  {
   "cell_type": "code",
   "execution_count": null,
   "metadata": {
    "collapsed": true
   },
   "outputs": [],
   "source": []
  },
  {
   "cell_type": "markdown",
   "metadata": {},
   "source": [
    "## Problem 4 - explore your data in its new schema (30 points)\n",
    "\n",
    "Strictly using the dimensional model tables you defined and populated for Problem 3, explore your data in its new form.  Use any of the query strategies we've seen in class, including transformations, aggregates, subqueries, rollups, and, of course, joins.  Add plots to highlight particular themes that stand out.  Describe your thinking and observations along the way."
   ]
  },
  {
   "cell_type": "markdown",
   "metadata": {},
   "source": [
    "## Bonus (10 points for one of A or B)\n",
    "\n",
    "\n",
    "### Option A - Automating ETL\n",
    "\n",
    "Consider the work you did to load your original raw dataset and then transform it into a dimensional model for analysis.  What would it take to automate this process?  How often would you need to update the data?  Could you easily automate any data cleaning steps?  What checks would you need to put in place to ensure quality?  Would humans need to be involved, or could you automate it all?\n",
    "\n",
    "Discuss.\n",
    "\n",
    "\n",
    "### Option B - Augmenting dimensions\n",
    "\n",
    "Considering your dimensional model, what external data could you find to augment it?  As in the case of bike trips, where weather might provide an interesting added dimension/context not present in the original data, you can probably find another source of data to complement your own model.  Identify one such source and add it to your model, demonstrating its value with a few new queries."
   ]
  }
 ],
 "metadata": {
  "anaconda-cloud": {},
  "kernelspec": {
   "display_name": "Python 3",
   "language": "python",
   "name": "python3"
  },
  "language_info": {
   "codemirror_mode": {
    "name": "ipython",
    "version": 3
   },
   "file_extension": ".py",
   "mimetype": "text/x-python",
   "name": "python",
   "nbconvert_exporter": "python",
   "pygments_lexer": "ipython3",
   "version": "3.5.2"
  }
 },
 "nbformat": 4,
 "nbformat_minor": 1
}
