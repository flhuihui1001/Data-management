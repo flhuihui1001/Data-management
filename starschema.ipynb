{
 "cells": [
  {
   "cell_type": "markdown",
   "metadata": {},
   "source": [
    "### Project 3 - due Friday, 12/9 at 12pm\n",
    "\n",
    "Work in groups of four people per project.\n",
    "\n",
    "Select a dataset of at least 250,000 records, preferably at the level of individual transactions. Acquire the data, survey it, wrangle it into a suitable format, and analyze it. Present your work in a brief (8-10 minute) talk in class on Tuesday, 12/6, and write up your process and results in a reproducible notebook.\n",
    "\n",
    "You may use any of the methods we studied in class: Unix command line tools, relational databases and dimensional models with SQLite or PostgreSQL, or Spark. The datanotebook.org server will remain available until the end of the semester and may be used for the project.\n",
    "\n",
    "Attestation: All project team members should contribute meaningfully to the final results. Please attest to your individual contributions and that each member contributed substantially to the project in your final writeup.\n",
    "\n",
    "Deadline: Friday, 12/9, 12pm. Submit your presentation (PDF export), your notebook, and any additionally necessary files like scripts or images together in one zip file. Only one team member should submit on behalf of all members. All team members should post their projects to GitHub for reviews after the deadline has passed. \n"
   ]
  },
  {
   "cell_type": "markdown",
   "metadata": {},
   "source": [
    "### Part 1 - Selection (30 points)\n",
    "\n",
    "Identify and describe your dataset, its source, and what appeals to you about it. Acquire the data and perform an initial exploration to determine which themes you wish to explore. Describe the questions you want to be able to answer with the data, any concerns you have about the data, and any challenges you expect to have to overcome.\n"
   ]
  },
  {
   "cell_type": "markdown",
   "metadata": {},
   "source": [
    "### Data Source: \n",
    " This time we choose 2016 Property Assessment data of Los Angeles, which dataset is available at the following website:\n",
    "https://data.lacounty.gov/Parcel-/Assessor-Parcels-Data-2016/7rjj-f2pv.\n",
    "We choose this website is because it is LAcounty government website, which means the data is very persuasive, accurate, comprehensive and powerful.\n",
    " \n",
    "### The reason that we choose this dataset:\n",
    "·   \tCulture reason:\n",
    "We all love California and we think CA is a really nice place to live, also LA is known as “city of angels” which is a really charming and beautiful city. Because of these fact, we are interested in and want to get some acknowledge about the valuation and property of LA county.\n",
    " \n",
    "·      About data itself:\n",
    "The data set that we choose contain a lot of values (columns) and very comprehensive and useful information that help us get better knowledge of LA property, also with future analysis. Our original data have 51 columns, about 4,800,000 rows, which also means the data (records) is very persuasive and comprehensive. Here we list the description of each column that we are interested in:\n",
    " \n",
    "  1: ZIPcode: Zip code in suits address, 9 digits or 5 digits\n",
    "  \n",
    "  2: TaxRateArea_CITY: Incorporated city name based on tax rate area\n",
    "  \n",
    "  3: AIN: Unique 10-digit number assigned to each parcel in LA county\n",
    "  \n",
    "  4: TaxRateArea: Area code that corresponding to TaxRateArea_City\n",
    "  \n",
    "  5: PropertyType: Type of property based on what the property used for\n",
    "  \n",
    "  6: PropertyUseCode: Code for describing the overall use of the property\n",
    "  \n",
    "  7: GeneralUseType: General use type of the property(residential/commercial/irrigated farm. etc.)\n",
    "    \n",
    "  8: SpecificUseType: More specific use type of the property.(Camp/Bank/Cemetery. etc.)\n",
    "     \n",
    "  9: SpecificUseDetail1: Additional property usage detail(Auto Service/Beverage/Car Wash. etc.)\n",
    "  \n",
    " 10: SpecificUseDetail2: Additional property usage detail(Fast Food/Five Stories/Convenience Store. etc.)\n",
    " \n",
    " 11: YearBuilt: original year of property that built in\n",
    " \n",
    " 12: EffectiveYearBuilt: Effective year that property had construction, re \tmodeling building maintenance, etc.\n",
    " \n",
    " 13: SQFTmain: total square feet of the structure(s)\n",
    " \n",
    " 14: Bedrooms: number of bedrooms that each structure has\n",
    " \n",
    " 15: Bathrooms: number of bathrooms that each structure has\n",
    " \n",
    " 16: Units: number of living units that each structure has\n",
    " \n",
    " 17: RecordingYear: last recording year for the property\n",
    " \n",
    " 18: RecordingMonth: last recording month for the property\n",
    " \n",
    " 19: LandValue: Land value on the assessment roll\n",
    " \n",
    " 20: LandBaseYear: Year of owner registered for the land\n",
    " \n",
    " 21: ImprovementValue: Improvement value on the assessment roll\n",
    " \n",
    " 22: ImpBaseYear: Year of owner registered for the improvement\n",
    " \n",
    " 23: TotalLandImpValue: Sum of the land value and improvement value\n",
    " \n",
    " 24: FixtureExemption: Fixture exemption value on the assessment roll\n",
    " \n",
    " 25: TotalExemption: Total exemption value for each owner on the property\n",
    " \n",
    " 26: netTaxableValue: Total value for the whole property (include land) for paying the tax\n",
    " \n",
    " 27: StreetName: The street name of the property located in\n",
    " \n",
    " 28: City: The city name of the property located in\n",
    " \n",
    " 29: ZIPcode5: The zip code of the area of property located in\n",
    " \n",
    " \n",
    " \n",
    " \n",
    "### Initial exploration:\n",
    "We are interested in:\n",
    "·      10 most popular cities people liked to live in\n",
    "\n",
    "·      10 most expensive and cheap places for buying houses\n",
    "\n",
    "·      -3 most common type of houses\n",
    "\n",
    "·      -trend of numbers of properties that built in past several years\n",
    "\n",
    "·      -how long for finishing build properties\n",
    "\n",
    "·      -what percent of people can have exemption on buying house(s)\n",
    "\n",
    "·       -what are the prices/values for same type of house in 10 years ago and nowadays(what are the main reason(s) cost this price change? Analyze from certain land value in different years, certain land improvement value in different years and change of exemption for people in certain time period) (focus on this one)\n",
    " \n",
    "### Concerns and challenges:\n",
    "·      We have a very large size of data set(1.07G), which can not be uploaded directly to Trifecta(100M limited) to clean data and to Jupyter Notebook to clean data and analyze data. So we need to find a way to successfully upload and clean data set, and then analyze data.\n",
    "·      Too many information, including duplicated information, we need to clearly understand each column’s meaning, organize data and draw the dimension tables and fact table, and delete some duplicated information.\n"
   ]
  },
  {
   "cell_type": "markdown",
   "metadata": {},
   "source": [
    "### Part 2 - Wrangling (35 points)\n",
    "Based on what you found above, wrangle the data into a format suitable for analysis. This may involve cleaning, filtering, merging, and modeling steps, any and all of which are valid for this project. Describe your process as you proceed, and document any scripts, databases, or other models you develop. Be specific about any key decisions to modify or remove data, how you overcame any challenges, and all assumptions you make about the meaning of variables and their values.\n",
    "Verify that your wrangling steps have succeeded (for example, if you loaded the data into a dimensional model, ensure that the fact table contains the right number of records)."
   ]
  },
  {
   "cell_type": "markdown",
   "metadata": {},
   "source": [
    "### Trifacta:\n",
    "\n",
    "### Trifacta:\n",
    "\n",
    "### We dropped the above columns from the data as they were not relevant to our analysis.\n",
    "drop col: RollYear, AssessorID, PropertyLocation, totBuildingDataLines, HomeownersExemption, RealEstateExemption, FixtureValue, PersonalPropertyValue, PersonalPropertyExemption, isTaxableParcel, TotalValue, SpecialParcelClassification, AdministrativeRegion, cluster, ParcelBoundaryDescription, HouseFraction, HouseNo, StreetDirection, UnitNo, rowID, CENTER_LON, CENTER_LAT, Location_1\n",
    "splitrows col: column1 on: '\\r\\n' quote: '\\\"'\n",
    "split col: column1 on: ',' limit: 28 quote: '\\\"'\n",
    "replace col: * with: '' on: '\\\"' global: true\n",
    "header\n",
    "drop col: ZIPcode\n",
    "drop col: SpecificUseDetail1\n",
    "drop col: FixtureExemption\n",
    "drop col: TotalExemption\n",
    "drop col: netTaxableValue\n",
    "drop col: StreetName\n",
    "drop col: ZIPcode5\n",
    "\n",
    "\n",
    "### We extracted the month and year from the recordingdate column and then split them so they could be analyzed separately, then renamed them to avoid confusion.\n",
    "replace col: RecordingDate with: '' on: `{digit}{2}{end}`\n",
    "\n",
    "extract col: RecordingDate on: `{digit}{2}` after: `{digit}{4}` before: `{end}`\n",
    "\n",
    "replace col: RecordingDate with: '' on: `{digit}{2}{end}`\n",
    "\n",
    "rename col: RecordingDate1 to: 'RecordingMonth'\n",
    "\n",
    "rename col: RecordingDate to: 'RecordingYear'\n",
    "\n",
    "\n",
    "\n",
    "### Changed landvalue column to remove unneeded characters and to make the column into floats for easier analysis.\n",
    "replace col: LandValue with: '' on: `\"` global: true\n",
    "\n",
    "replace col: LandValue with: '' on: `$` global: true\n",
    "\n",
    "replace col: LandValue with: '' on: `,` global: true\n",
    "\n",
    "\n",
    "### Changed improvementvalue column to remove unneeded characters and to make the column into floats for easier analysis.\n",
    "replace col: ImprovementValue with: '' on: `$` global: true\n",
    "\n",
    "replace col: ImprovementValue with: '' on: `\"` global: true\n",
    "\n",
    "replace col: ImprovementValue with: '' on: `,` global: true\n",
    "\n",
    "### Changed totallandimpvalue column to remove unneeded characters and to make the column into floats for easier analysis.\n",
    "replace col: TotalLandImpValue with: '' on: `\"` global: true\n",
    "\n",
    "replace col: TotalLandImpValue with: '' on: `$` global: true\n",
    "\n",
    "replace col: TotalLandImpValue with: '' on: `,` global: true\n",
    "\n",
    "\n",
    "### Changed fixtureexemption column to remove unneeded characters and to make the column into floats for easier analysis.\n",
    "replace col: FixtureExemption with: '' on: `$` global: true\n",
    "\n",
    "replace col: FixtureExemption with: '' on: ',' global: true\n",
    "\n",
    "\n",
    "### Changed nettaxablevalue column to remove unneeded characters and to make the column into floats for easier analysis.\n",
    "replace col: netTaxableValue with: '' on: `$` global: true\n",
    "\n",
    "replace col: netTaxableValue with: '' on: `\"` global: true\n",
    "\n",
    "replace col: netTaxableValue with: '' on: `,` global: true\n",
    "\n",
    "\n",
    "### Changed totalexemption column to remove unneeded characters and to make the column into floats for easier analysis.\n",
    "replace col: TotalExemption with: '' on: '\\\"' global: true\n",
    "\n",
    "replace col: TotalExemption with: '' on: `$` global: true\n",
    "\n",
    "replace col: TotalExemption with: '' on: ',' global: true\n",
    "\n",
    "\n",
    "### deleted mismatched zipcode so that we do not have any entries with incorrectly entered or formatted zip codes.\n",
    "delete row: mismatched(ZIPcode, ['Zipcode'])\n",
    "\n",
    "### deleted rows without zip codes as we will be analyzing based on zip code.\n",
    "delete row: empty([ZIPcode])\n",
    "\n",
    "### deleted rows without zip codes(zipcode5 represents zip code after removing the ‘-‘ and the numbers following that) because we expect to need it for analysis.\n",
    "delete row: empty([ZIPcode5])\n"
   ]
  },
  {
   "cell_type": "code",
   "execution_count": 1,
   "metadata": {
    "collapsed": false
   },
   "outputs": [
    {
     "name": "stdout",
     "output_type": "stream",
     "text": [
      "--2016-12-09 16:39:04--  https://github.com/gwsb-istm-6212-fall-2016/Sifan-Du-istm-6212/raw/master/cleaned.zip\n",
      "Resolving github.com (github.com)... 192.30.253.113, 192.30.253.112\n",
      "Connecting to github.com (github.com)|192.30.253.113|:443... connected.\n",
      "HTTP request sent, awaiting response... 302 Found\n",
      "Location: https://raw.githubusercontent.com/gwsb-istm-6212-fall-2016/Sifan-Du-istm-6212/master/cleaned.zip [following]\n",
      "--2016-12-09 16:39:05--  https://raw.githubusercontent.com/gwsb-istm-6212-fall-2016/Sifan-Du-istm-6212/master/cleaned.zip\n",
      "Resolving raw.githubusercontent.com (raw.githubusercontent.com)... 151.101.32.133\n",
      "Connecting to raw.githubusercontent.com (raw.githubusercontent.com)|151.101.32.133|:443... connected.\n",
      "HTTP request sent, awaiting response... 200 OK\n",
      "Length: 10192382 (9.7M) [application/octet-stream]\n",
      "Saving to: ‘cleaned.zip’\n",
      "\n",
      "cleaned.zip         100%[=====================>]   9.72M  --.-KB/s   in 0.1s   \n",
      "\n",
      "2016-12-09 16:39:05 (88.9 MB/s) - ‘cleaned.zip’ saved [10192382/10192382]\n",
      "\n"
     ]
    }
   ],
   "source": [
    "!wget https://github.com/gwsb-istm-6212-fall-2016/Sifan-Du-istm-6212/raw/master/cleaned.zip"
   ]
  },
  {
   "cell_type": "code",
   "execution_count": 2,
   "metadata": {
    "collapsed": false
   },
   "outputs": [
    {
     "name": "stdout",
     "output_type": "stream",
     "text": [
      "Archive:  cleaned.zip\n",
      "   creating: cleaned/\n",
      "  inflating: cleaned/1.csv           \n",
      "  inflating: cleaned/2.csv           \n",
      "  inflating: cleaned/3.csv           \n",
      "  inflating: cleaned/4.csv           \n",
      "  inflating: cleaned/5.csv           \n",
      "  inflating: cleaned/6.csv           \n"
     ]
    }
   ],
   "source": [
    "!unzip cleaned.zip"
   ]
  },
  {
   "cell_type": "code",
   "execution_count": 3,
   "metadata": {
    "collapsed": false
   },
   "outputs": [],
   "source": [
    "!csvstack cleaned/1.csv cleaned/2.csv cleaned/3.csv cleaned/4.csv cleaned/5.csv cleaned/6.csv  > ladata.csv "
   ]
  },
  {
   "cell_type": "code",
   "execution_count": 4,
   "metadata": {
    "collapsed": false
   },
   "outputs": [
    {
     "name": "stdout",
     "output_type": "stream",
     "text": [
      "380192 ladata.csv\r\n"
     ]
    }
   ],
   "source": [
    "!wc -l ladata.csv"
   ]
  },
  {
   "cell_type": "code",
   "execution_count": 5,
   "metadata": {
    "collapsed": false,
    "scrolled": false
   },
   "outputs": [
    {
     "name": "stdout",
     "output_type": "stream",
     "text": [
      "  1: TaxRateArea_CITY\r\n",
      "  2: AIN\r\n",
      "  3: TaxRateArea\r\n",
      "  4: PropertyType\r\n",
      "  5: PropertyUseCode\r\n",
      "  6: GeneralUseType\r\n",
      "  7: SpecificUseType\r\n",
      "  8: SpecificUseDetail2\r\n",
      "  9: YearBuilt\r\n",
      " 10: EffectiveYearBuilt\r\n",
      " 11: SQFTmain\r\n",
      " 12: Bedrooms\r\n",
      " 13: Bathrooms\r\n",
      " 14: Units\r\n",
      " 15: RecordingYear\r\n",
      " 16: RecordingMonth\r\n",
      " 17: LandValue\r\n",
      " 18: LandBaseYear\r\n",
      " 19: ImprovementValue\r\n",
      " 20: ImpBaseYear\r\n",
      " 21: TotalLandImpValue\r\n",
      " 22: City\r\n"
     ]
    }
   ],
   "source": [
    "!csvcut -n ladata.csv"
   ]
  },
  {
   "cell_type": "markdown",
   "metadata": {},
   "source": [
    "!csvstat la.csv"
   ]
  },
  {
   "cell_type": "markdown",
   "metadata": {},
   "source": [
    "### Null Value\n",
    "\n",
    "#5. PropertyType\n",
    "#9. SpecificUseDetail1\n",
    "#10. SpecificUseDetail2"
   ]
  },
  {
   "cell_type": "code",
   "execution_count": 6,
   "metadata": {
    "collapsed": false
   },
   "outputs": [],
   "source": [
    "#!csvcut -c 3,4,5,6,7,8,9,10,11,12,13,14,15,16,17,18,19,20,21,22,23,25,26,27,28,29  la.csv > la_final.csv"
   ]
  },
  {
   "cell_type": "code",
   "execution_count": 7,
   "metadata": {
    "collapsed": false
   },
   "outputs": [
    {
     "name": "stderr",
     "output_type": "stream",
     "text": [
      "/opt/conda/lib/python3.5/site-packages/IPython/config.py:13: ShimWarning: The `IPython.config` package has been deprecated. You should import from traitlets.config instead.\n",
      "  \"You should import from traitlets.config instead.\", ShimWarning)\n",
      "/opt/conda/lib/python3.5/site-packages/IPython/utils/traitlets.py:5: UserWarning: IPython.utils.traitlets has moved to a top-level traitlets package.\n",
      "  warn(\"IPython.utils.traitlets has moved to a top-level traitlets package.\")\n"
     ]
    }
   ],
   "source": [
    "%load_ext sql"
   ]
  },
  {
   "cell_type": "code",
   "execution_count": 8,
   "metadata": {
    "collapsed": false
   },
   "outputs": [
    {
     "name": "stdout",
     "output_type": "stream",
     "text": [
      "[sudo] password for jovyan: Restarting PostgreSQL 9.5 database server: main.\n"
     ]
    }
   ],
   "source": [
    "!echo 'redspot' | sudo -S service postgresql restart"
   ]
  },
  {
   "cell_type": "code",
   "execution_count": 9,
   "metadata": {
    "collapsed": false
   },
   "outputs": [
    {
     "name": "stdout",
     "output_type": "stream",
     "text": [
      "NOTICE:  database \"final\" does not exist, skipping\r\n"
     ]
    }
   ],
   "source": [
    "!dropdb -U dbuser --if-exists final"
   ]
  },
  {
   "cell_type": "code",
   "execution_count": 10,
   "metadata": {
    "collapsed": true
   },
   "outputs": [],
   "source": [
    "!createdb -U dbuser final"
   ]
  },
  {
   "cell_type": "code",
   "execution_count": 11,
   "metadata": {
    "collapsed": false
   },
   "outputs": [
    {
     "data": {
      "text/plain": [
       "'Connected: dbuser@final'"
      ]
     },
     "execution_count": 11,
     "metadata": {},
     "output_type": "execute_result"
    }
   ],
   "source": [
    "%sql postgresql://dbuser@localhost:5432/final"
   ]
  },
  {
   "cell_type": "markdown",
   "metadata": {},
   "source": [
    "### Create table and import"
   ]
  },
  {
   "cell_type": "code",
   "execution_count": 12,
   "metadata": {
    "collapsed": false
   },
   "outputs": [
    {
     "name": "stdout",
     "output_type": "stream",
     "text": [
      "Done.\n",
      "Done.\n"
     ]
    },
    {
     "data": {
      "text/plain": [
       "[]"
      ]
     },
     "execution_count": 12,
     "metadata": {},
     "output_type": "execute_result"
    }
   ],
   "source": [
    "%%sql\n",
    "    DROP TABLE IF EXISTS ladata;\n",
    "    CREATE TABLE ladata (   \n",
    "    TaxRateArea_CITY VARCHAR(500),\n",
    "    AIN CHAR(1000),\n",
    "    TaxRateArea VARCHAR(500),    \n",
    "    PropertyType VARCHAR(1000),\n",
    "    PropertyUseCode VARCHAR(1000),\n",
    "    GeneralUseType VARCHAR(1000),\n",
    "    SpecificUseType VARCHAR(1000),\n",
    "    SpecificUseDetail2 VARCHAR(1000),  \n",
    "    YearBuilt INTEGER,\n",
    "    EffectiveYearBuilt INTEGER,\n",
    "    SQFTmain INTEGER,\n",
    "    Bedrooms INTEGER,\n",
    "    Bathrooms INTEGER,\n",
    "    Units INTEGER,    \n",
    "    RecordingYear INTEGER,\n",
    "    RecordingMonth CHAR(1000),   \n",
    "    LandValue DECIMAL,      \n",
    "    LandBaseYear INTEGER,\n",
    "    ImprovementValue DECIMAL,      \n",
    "    ImpBaseYear INTEGER,\n",
    "    TotalLandImpValue DECIMAL,  \n",
    "    City VARCHAR(500)\n",
    ");"
   ]
  },
  {
   "cell_type": "code",
   "execution_count": 13,
   "metadata": {
    "collapsed": false
   },
   "outputs": [
    {
     "name": "stdout",
     "output_type": "stream",
     "text": [
      "/home/jovyan/work\r\n"
     ]
    }
   ],
   "source": [
    "!pwd"
   ]
  },
  {
   "cell_type": "code",
   "execution_count": 14,
   "metadata": {
    "collapsed": false
   },
   "outputs": [
    {
     "name": "stdout",
     "output_type": "stream",
     "text": [
      "380191 rows affected.\n"
     ]
    },
    {
     "data": {
      "text/plain": [
       "[]"
      ]
     },
     "execution_count": 14,
     "metadata": {},
     "output_type": "execute_result"
    }
   ],
   "source": [
    "%%sql\n",
    "COPY ladata FROM '/home/jovyan/work/ladata.csv'\n",
    "CSV\n",
    "HEADER\n",
    "QUOTE '\"'\n",
    "DELIMITER ',';"
   ]
  },
  {
   "cell_type": "code",
   "execution_count": 15,
   "metadata": {
    "collapsed": false
   },
   "outputs": [
    {
     "name": "stdout",
     "output_type": "stream",
     "text": [
      "1 rows affected.\n"
     ]
    },
    {
     "data": {
      "text/html": [
       "<table>\n",
       "    <tr>\n",
       "        <th>count</th>\n",
       "    </tr>\n",
       "    <tr>\n",
       "        <td>380191</td>\n",
       "    </tr>\n",
       "</table>"
      ],
      "text/plain": [
       "[(380191,)]"
      ]
     },
     "execution_count": 15,
     "metadata": {},
     "output_type": "execute_result"
    }
   ],
   "source": [
    "%%sql\n",
    "\n",
    "SELECT COUNT(*) FROM ladata;"
   ]
  },
  {
   "cell_type": "markdown",
   "metadata": {},
   "source": [
    "# Star Schema"
   ]
  },
  {
   "cell_type": "code",
   "execution_count": 44,
   "metadata": {
    "collapsed": false
   },
   "outputs": [
    {
     "data": {
      "image/png": "[encoded data removed]",
      "text/plain": [
       "<IPython.core.display.Image object>"
      ]
     },
     "execution_count": 44,
     "metadata": {
      "image/png": {
       "height": 1000,
       "width": 1000
      }
     },
     "output_type": "execute_result"
    }
   ],
   "source": [
    "from IPython.display import Image\n",
    "Image(\"https://github.com/gwsb-istm-6212-fall-2016/Yatao-Lu/raw/master/star_schema.png\", width=1000, height=1000)"
   ]
  },
  {
   "cell_type": "code",
   "execution_count": 16,
   "metadata": {
    "collapsed": false
   },
   "outputs": [
    {
     "name": "stdout",
     "output_type": "stream",
     "text": [
      "Done.\n",
      "380191 rows affected.\n"
     ]
    },
    {
     "data": {
      "text/plain": [
       "[]"
      ]
     },
     "execution_count": 16,
     "metadata": {},
     "output_type": "execute_result"
    }
   ],
   "source": [
    "%%sql\n",
    "DROP TABLE IF EXISTS fact;\n",
    "CREATE TABLE fact AS\n",
    "    (SELECT * FROM ladata);"
   ]
  },
  {
   "cell_type": "code",
   "execution_count": 17,
   "metadata": {
    "collapsed": false
   },
   "outputs": [
    {
     "name": "stdout",
     "output_type": "stream",
     "text": [
      "Done.\n",
      "1837 rows affected.\n"
     ]
    },
    {
     "data": {
      "text/plain": [
       "[]"
      ]
     },
     "execution_count": 17,
     "metadata": {},
     "output_type": "execute_result"
    }
   ],
   "source": [
    "%%sql\n",
    "DROP TABLE IF EXISTS location_dim;\n",
    "CREATE TABLE location_dim AS\n",
    "    SELECT DISTINCT\n",
    "    TaxRateArea_CITY,\n",
    "    TaxRateArea,\n",
    "    City\n",
    "FROM ladata;"
   ]
  },
  {
   "cell_type": "code",
   "execution_count": 18,
   "metadata": {
    "collapsed": false
   },
   "outputs": [
    {
     "name": "stdout",
     "output_type": "stream",
     "text": [
      "Done.\n"
     ]
    },
    {
     "data": {
      "text/plain": [
       "[]"
      ]
     },
     "execution_count": 18,
     "metadata": {},
     "output_type": "execute_result"
    }
   ],
   "source": [
    "%%sql\n",
    "ALTER TABLE location_dim ADD COLUMN location_dim_id BIGSERIAL PRIMARY KEY;"
   ]
  },
  {
   "cell_type": "code",
   "execution_count": 19,
   "metadata": {
    "collapsed": false
   },
   "outputs": [
    {
     "name": "stdout",
     "output_type": "stream",
     "text": [
      "5 rows affected.\n"
     ]
    },
    {
     "data": {
      "text/html": [
       "<table>\n",
       "    <tr>\n",
       "        <th>taxratearea_city</th>\n",
       "        <th>taxratearea</th>\n",
       "        <th>city</th>\n",
       "        <th>location_dim_id</th>\n",
       "    </tr>\n",
       "    <tr>\n",
       "        <td>unincorporated</td>\n",
       "        <td>4957</td>\n",
       "        <td>VALENCIA CA</td>\n",
       "        <td>1</td>\n",
       "    </tr>\n",
       "    <tr>\n",
       "        <td>SANTA CLARITA</td>\n",
       "        <td>1299</td>\n",
       "        <td>SANTA CLARITA CA</td>\n",
       "        <td>2</td>\n",
       "    </tr>\n",
       "    <tr>\n",
       "        <td>SANTA CLARITA</td>\n",
       "        <td>330</td>\n",
       "        <td>SANTA CLARITA CA</td>\n",
       "        <td>3</td>\n",
       "    </tr>\n",
       "    <tr>\n",
       "        <td>unincorporated</td>\n",
       "        <td>04395</td>\n",
       "        <td>LA PUENTE CA</td>\n",
       "        <td>4</td>\n",
       "    </tr>\n",
       "    <tr>\n",
       "        <td>DIAMOND BAR</td>\n",
       "        <td>10106</td>\n",
       "        <td>DIAMOND BAR CA</td>\n",
       "        <td>5</td>\n",
       "    </tr>\n",
       "</table>"
      ],
      "text/plain": [
       "[('unincorporated', '4957', 'VALENCIA CA', 1),\n",
       " ('SANTA CLARITA', '1299', 'SANTA CLARITA CA', 2),\n",
       " ('SANTA CLARITA', '330', 'SANTA CLARITA CA', 3),\n",
       " ('unincorporated', '04395', 'LA PUENTE CA', 4),\n",
       " ('DIAMOND BAR', '10106', 'DIAMOND BAR CA', 5)]"
      ]
     },
     "execution_count": 19,
     "metadata": {},
     "output_type": "execute_result"
    }
   ],
   "source": [
    "%%sql\n",
    "SELECT * FROM location_dim \n",
    "LIMIT 5"
   ]
  },
  {
   "cell_type": "code",
   "execution_count": 20,
   "metadata": {
    "collapsed": false
   },
   "outputs": [
    {
     "name": "stdout",
     "output_type": "stream",
     "text": [
      "Done.\n",
      "105161 rows affected.\n"
     ]
    },
    {
     "data": {
      "text/plain": [
       "[]"
      ]
     },
     "execution_count": 20,
     "metadata": {},
     "output_type": "execute_result"
    }
   ],
   "source": [
    "%%sql\n",
    "DROP TABLE IF EXISTS type_dim;\n",
    "CREATE TABLE type_dim AS\n",
    "    SELECT DISTINCT\n",
    "    PropertyType,\n",
    "    PropertyUseCode,\n",
    "    GeneralUseType,\n",
    "    SpecificUseType,\n",
    "    SpecificUseDetail2,  \n",
    "    Bedrooms,\n",
    "    Bathrooms,\n",
    "    SQFTmain,\n",
    "    Units   \n",
    "FROM ladata;"
   ]
  },
  {
   "cell_type": "code",
   "execution_count": 21,
   "metadata": {
    "collapsed": false
   },
   "outputs": [
    {
     "name": "stdout",
     "output_type": "stream",
     "text": [
      "Done.\n"
     ]
    },
    {
     "data": {
      "text/plain": [
       "[]"
      ]
     },
     "execution_count": 21,
     "metadata": {},
     "output_type": "execute_result"
    }
   ],
   "source": [
    "%%sql\n",
    "ALTER TABLE type_dim ADD COLUMN type_dim_id BIGSERIAL PRIMARY KEY;"
   ]
  },
  {
   "cell_type": "code",
   "execution_count": 22,
   "metadata": {
    "collapsed": false
   },
   "outputs": [
    {
     "name": "stdout",
     "output_type": "stream",
     "text": [
      "5 rows affected.\n"
     ]
    },
    {
     "data": {
      "text/html": [
       "<table>\n",
       "    <tr>\n",
       "        <th>propertytype</th>\n",
       "        <th>propertyusecode</th>\n",
       "        <th>generalusetype</th>\n",
       "        <th>specificusetype</th>\n",
       "        <th>specificusedetail2</th>\n",
       "        <th>bedrooms</th>\n",
       "        <th>bathrooms</th>\n",
       "        <th>sqftmain</th>\n",
       "        <th>units</th>\n",
       "        <th>type_dim_id</th>\n",
       "    </tr>\n",
       "    <tr>\n",
       "        <td>R-I</td>\n",
       "        <td>200</td>\n",
       "        <td>Residential</td>\n",
       "        <td>Double, Duplex, or Two Units</td>\n",
       "        <td> </td>\n",
       "        <td>6</td>\n",
       "        <td>5</td>\n",
       "        <td>2874</td>\n",
       "        <td>2</td>\n",
       "        <td>1</td>\n",
       "    </tr>\n",
       "    <tr>\n",
       "        <td>SFR</td>\n",
       "        <td>0100</td>\n",
       "        <td>Residential</td>\n",
       "        <td>Single Family Residence</td>\n",
       "        <td> </td>\n",
       "        <td>2</td>\n",
       "        <td>1</td>\n",
       "        <td>1382</td>\n",
       "        <td>1</td>\n",
       "        <td>2</td>\n",
       "    </tr>\n",
       "    <tr>\n",
       "        <td>SFR</td>\n",
       "        <td>0100</td>\n",
       "        <td>Residential</td>\n",
       "        <td>Single Family Residence</td>\n",
       "        <td> </td>\n",
       "        <td>6</td>\n",
       "        <td>3</td>\n",
       "        <td>2579</td>\n",
       "        <td>1</td>\n",
       "        <td>3</td>\n",
       "    </tr>\n",
       "    <tr>\n",
       "        <td>SFR</td>\n",
       "        <td>101</td>\n",
       "        <td>Residential</td>\n",
       "        <td>Single Family Residence</td>\n",
       "        <td>Pool</td>\n",
       "        <td>4</td>\n",
       "        <td>3</td>\n",
       "        <td>2940</td>\n",
       "        <td>1</td>\n",
       "        <td>4</td>\n",
       "    </tr>\n",
       "    <tr>\n",
       "        <td>CND</td>\n",
       "        <td>010C</td>\n",
       "        <td>Residential</td>\n",
       "        <td>Single Family Residence</td>\n",
       "        <td>Condominium</td>\n",
       "        <td>3</td>\n",
       "        <td>3</td>\n",
       "        <td>1655</td>\n",
       "        <td>1</td>\n",
       "        <td>5</td>\n",
       "    </tr>\n",
       "</table>"
      ],
      "text/plain": [
       "[('R-I', '200', 'Residential', 'Double, Duplex, or Two Units', ' ', 6, 5, 2874, 2, 1),\n",
       " ('SFR', '0100', 'Residential', 'Single Family Residence', ' ', 2, 1, 1382, 1, 2),\n",
       " ('SFR', '0100', 'Residential', 'Single Family Residence', ' ', 6, 3, 2579, 1, 3),\n",
       " ('SFR', '101', 'Residential', 'Single Family Residence', 'Pool', 4, 3, 2940, 1, 4),\n",
       " ('CND', '010C', 'Residential', 'Single Family Residence', 'Condominium', 3, 3, 1655, 1, 5)]"
      ]
     },
     "execution_count": 22,
     "metadata": {},
     "output_type": "execute_result"
    }
   ],
   "source": [
    "%%sql\n",
    "SELECT * FROM type_dim \n",
    "LIMIT 5"
   ]
  },
  {
   "cell_type": "code",
   "execution_count": 23,
   "metadata": {
    "collapsed": false
   },
   "outputs": [
    {
     "name": "stdout",
     "output_type": "stream",
     "text": [
      "Done.\n",
      "331369 rows affected.\n"
     ]
    },
    {
     "data": {
      "text/plain": [
       "[]"
      ]
     },
     "execution_count": 23,
     "metadata": {},
     "output_type": "execute_result"
    }
   ],
   "source": [
    "%%sql\n",
    "DROP TABLE IF EXISTS value_dim;\n",
    "CREATE TABLE value_dim AS\n",
    "    SELECT DISTINCT\n",
    "    LandValue,\n",
    "    TotalLandImpValue,\n",
    "    ImprovementValue\n",
    "FROM ladata;"
   ]
  },
  {
   "cell_type": "code",
   "execution_count": 24,
   "metadata": {
    "collapsed": false
   },
   "outputs": [
    {
     "name": "stdout",
     "output_type": "stream",
     "text": [
      "Done.\n"
     ]
    },
    {
     "data": {
      "text/plain": [
       "[]"
      ]
     },
     "execution_count": 24,
     "metadata": {},
     "output_type": "execute_result"
    }
   ],
   "source": [
    "%%sql\n",
    "ALTER TABLE value_dim ADD COLUMN value_dim_id BIGSERIAL PRIMARY KEY;"
   ]
  },
  {
   "cell_type": "code",
   "execution_count": 25,
   "metadata": {
    "collapsed": false
   },
   "outputs": [
    {
     "name": "stdout",
     "output_type": "stream",
     "text": [
      "5 rows affected.\n"
     ]
    },
    {
     "data": {
      "text/html": [
       "<table>\n",
       "    <tr>\n",
       "        <th>landvalue</th>\n",
       "        <th>totallandimpvalue</th>\n",
       "        <th>improvementvalue</th>\n",
       "        <th>value_dim_id</th>\n",
       "    </tr>\n",
       "    <tr>\n",
       "        <td>97565.00</td>\n",
       "        <td>251273.00</td>\n",
       "        <td>153708.00</td>\n",
       "        <td>1</td>\n",
       "    </tr>\n",
       "    <tr>\n",
       "        <td>318947.00</td>\n",
       "        <td>419108.00</td>\n",
       "        <td>100161.00</td>\n",
       "        <td>2</td>\n",
       "    </tr>\n",
       "    <tr>\n",
       "        <td>17161.00</td>\n",
       "        <td>59591.00</td>\n",
       "        <td>42430.00</td>\n",
       "        <td>3</td>\n",
       "    </tr>\n",
       "    <tr>\n",
       "        <td>157927.00</td>\n",
       "        <td>693547.00</td>\n",
       "        <td>535620.00</td>\n",
       "        <td>4</td>\n",
       "    </tr>\n",
       "    <tr>\n",
       "        <td>134109.00</td>\n",
       "        <td>159111.00</td>\n",
       "        <td>25002.00</td>\n",
       "        <td>5</td>\n",
       "    </tr>\n",
       "</table>"
      ],
      "text/plain": [
       "[(Decimal('97565.00'), Decimal('251273.00'), Decimal('153708.00'), 1),\n",
       " (Decimal('318947.00'), Decimal('419108.00'), Decimal('100161.00'), 2),\n",
       " (Decimal('17161.00'), Decimal('59591.00'), Decimal('42430.00'), 3),\n",
       " (Decimal('157927.00'), Decimal('693547.00'), Decimal('535620.00'), 4),\n",
       " (Decimal('134109.00'), Decimal('159111.00'), Decimal('25002.00'), 5)]"
      ]
     },
     "execution_count": 25,
     "metadata": {},
     "output_type": "execute_result"
    }
   ],
   "source": [
    "%%sql\n",
    "SELECT * FROM value_dim \n",
    "LIMIT 5"
   ]
  },
  {
   "cell_type": "code",
   "execution_count": 26,
   "metadata": {
    "collapsed": false
   },
   "outputs": [
    {
     "name": "stdout",
     "output_type": "stream",
     "text": [
      "Done.\n",
      "380191 rows affected.\n"
     ]
    },
    {
     "data": {
      "text/plain": [
       "[]"
      ]
     },
     "execution_count": 26,
     "metadata": {},
     "output_type": "execute_result"
    }
   ],
   "source": [
    "%%sql\n",
    "DROP TABLE IF EXISTS fact2;\n",
    "CREATE TABLE fact2 AS\n",
    "(\n",
    "SELECT f.AIN,\n",
    "    f.PropertyType,\n",
    "    f.PropertyUseCode,\n",
    "    f.GeneralUseType,\n",
    "    f.SpecificUseType,\n",
    "    f.SpecificUseDetail2,  \n",
    "    f.Bedrooms,\n",
    "    f.Bathrooms,\n",
    "    f.SQFTmain,\n",
    "    f.Units, f.LandValue,\n",
    "    f.TotalLandImpValue,\n",
    "    f.ImprovementValue, d.location_dim_id\n",
    "FROM (SELECT * FROM location_dim) AS d\n",
    "INNER JOIN (SELECT * FROM fact) AS f\n",
    "ON d.TaxRateArea_CITY = f.TaxRateArea_CITY\n",
    "AND d.TaxRateArea = f.TaxRateArea\n",
    "AND d.City = f.City\n",
    "    )\n",
    ";"
   ]
  },
  {
   "cell_type": "code",
   "execution_count": 27,
   "metadata": {
    "collapsed": false
   },
   "outputs": [
    {
     "name": "stdout",
     "output_type": "stream",
     "text": [
      "Done.\n",
      "380191 rows affected.\n"
     ]
    },
    {
     "data": {
      "text/plain": [
       "[]"
      ]
     },
     "execution_count": 27,
     "metadata": {},
     "output_type": "execute_result"
    }
   ],
   "source": [
    "%%sql\n",
    "DROP TABLE IF EXISTS fact3;\n",
    "CREATE TABLE fact3 AS\n",
    "(\n",
    "SELECT f2.AIN,\n",
    "    f2.PropertyType,\n",
    "    f2.PropertyUseCode,\n",
    "    f2.GeneralUseType,\n",
    "    f2.SpecificUseType,\n",
    "    f2.SpecificUseDetail2,  \n",
    "    f2.Bedrooms,\n",
    "    f2.Bathrooms,\n",
    "    f2.SQFTmain,\n",
    "    f2.Units,\n",
    "    f2.location_dim_id, d.value_dim_id\n",
    "FROM (SELECT * FROM value_dim) AS d\n",
    "INNER JOIN (SELECT * FROM fact2) AS f2\n",
    "ON d.ImprovementValue = f2.ImprovementValue\n",
    "AND d.TotalLandImpValue = f2.TotalLandImpValue\n",
    "AND d.LandValue = f2.LandValue\n",
    "    )\n",
    ";"
   ]
  },
  {
   "cell_type": "code",
   "execution_count": 28,
   "metadata": {
    "collapsed": false
   },
   "outputs": [
    {
     "name": "stdout",
     "output_type": "stream",
     "text": [
      "Done.\n",
      "380191 rows affected.\n"
     ]
    },
    {
     "data": {
      "text/plain": [
       "[]"
      ]
     },
     "execution_count": 28,
     "metadata": {},
     "output_type": "execute_result"
    }
   ],
   "source": [
    "%%sql\n",
    "DROP TABLE IF EXISTS fact4;\n",
    "CREATE TABLE fact4 AS\n",
    "(\n",
    "SELECT f3.AIN, f3.location_dim_id, f3.value_dim_id, d.type_dim_id\n",
    "FROM (SELECT * FROM type_dim) AS d\n",
    "INNER JOIN (SELECT * FROM fact3) AS f3\n",
    "ON  d.PropertyType = f3.PropertyType\n",
    "AND    d.PropertyUseCode = f3.PropertyUseCode\n",
    "AND    d.GeneralUseType = f3.GeneralUseType\n",
    "AND    d.SpecificUseType = f3.SpecificUseType\n",
    "AND    d.SpecificUseDetail2 = f3.SpecificUseDetail2\n",
    "AND    d.Bedrooms = f3.Bedrooms\n",
    "AND    d.Bathrooms = f3.Bathrooms\n",
    "AND    d.SQFTmain = f3.SQFTmain\n",
    "AND    d.Units = f3.Units\n",
    "    )\n",
    ";"
   ]
  },
  {
   "cell_type": "code",
   "execution_count": 29,
   "metadata": {
    "collapsed": false
   },
   "outputs": [
    {
     "name": "stdout",
     "output_type": "stream",
     "text": [
      "Done.\n"
     ]
    },
    {
     "data": {
      "text/plain": [
       "[]"
      ]
     },
     "execution_count": 29,
     "metadata": {},
     "output_type": "execute_result"
    }
   ],
   "source": [
    "%%sql\n",
    "ALTER TABLE fact4\n",
    "ADD FOREIGN KEY (location_dim_id) REFERENCES location_dim(location_dim_id),\n",
    "ADD FOREIGN KEY (value_dim_id) REFERENCES value_dim(value_dim_id),\n",
    "ADD FOREIGN KEY (type_dim_id) REFERENCES type_dim(type_dim_id)\n",
    ";"
   ]
  },
  {
   "cell_type": "code",
   "execution_count": 30,
   "metadata": {
    "collapsed": false
   },
   "outputs": [
    {
     "name": "stdout",
     "output_type": "stream",
     "text": [
      "5 rows affected.\n"
     ]
    },
    {
     "data": {
      "text/html": [
       "<table>\n",
       "    <tr>\n",
       "        <th>taxratearea_city</th>\n",
       "        <th>ain</th>\n",
       "        <th>taxratearea</th>\n",
       "        <th>propertytype</th>\n",
       "        <th>propertyusecode</th>\n",
       "        <th>generalusetype</th>\n",
       "        <th>specificusetype</th>\n",
       "        <th>specificusedetail2</th>\n",
       "        <th>yearbuilt</th>\n",
       "        <th>effectiveyearbuilt</th>\n",
       "        <th>sqftmain</th>\n",
       "        <th>bedrooms</th>\n",
       "        <th>bathrooms</th>\n",
       "        <th>units</th>\n",
       "        <th>recordingyear</th>\n",
       "        <th>recordingmonth</th>\n",
       "        <th>landvalue</th>\n",
       "        <th>landbaseyear</th>\n",
       "        <th>improvementvalue</th>\n",
       "        <th>impbaseyear</th>\n",
       "        <th>totallandimpvalue</th>\n",
       "        <th>city</th>\n",
       "    </tr>\n",
       "    <tr>\n",
       "        <td>BURBANK    </td>\n",
       "        <td>2437006019                                                                                                                                                                                                                                                                                                                                                                                                                                                                                                                                                                                                                                                                                                                                                                                                                                                                                                                                                                                                                              </td>\n",
       "        <td>2530</td>\n",
       "        <td>SFR</td>\n",
       "        <td>100</td>\n",
       "        <td>Residential</td>\n",
       "        <td>Single Family Residence</td>\n",
       "        <td> </td>\n",
       "        <td>1938</td>\n",
       "        <td>1941</td>\n",
       "        <td>1112</td>\n",
       "        <td>2</td>\n",
       "        <td>1</td>\n",
       "        <td>1</td>\n",
       "        <td>2015</td>\n",
       "        <td>07                                                                                                                                                                                                                                                                                                                                                                                                                                                                                                                                                                                                                                                                                                                                                                                                                                                                                                                                                                                                                                      </td>\n",
       "        <td>515200.00</td>\n",
       "        <td>2016</td>\n",
       "        <td>128800.00</td>\n",
       "        <td>2016</td>\n",
       "        <td>644000.00</td>\n",
       "        <td>BURBANK CA</td>\n",
       "    </tr>\n",
       "    <tr>\n",
       "        <td>BURBANK    </td>\n",
       "        <td>2437006020                                                                                                                                                                                                                                                                                                                                                                                                                                                                                                                                                                                                                                                                                                                                                                                                                                                                                                                                                                                                                              </td>\n",
       "        <td>2530</td>\n",
       "        <td>SFR</td>\n",
       "        <td>100</td>\n",
       "        <td>Residential</td>\n",
       "        <td>Single Family Residence</td>\n",
       "        <td> </td>\n",
       "        <td>1940</td>\n",
       "        <td>1964</td>\n",
       "        <td>1312</td>\n",
       "        <td>3</td>\n",
       "        <td>2</td>\n",
       "        <td>1</td>\n",
       "        <td>2009</td>\n",
       "        <td>10                                                                                                                                                                                                                                                                                                                                                                                                                                                                                                                                                                                                                                                                                                                                                                                                                                                                                                                                                                                                                                      </td>\n",
       "        <td>150834.00</td>\n",
       "        <td>1991</td>\n",
       "        <td>164171.00</td>\n",
       "        <td>1991</td>\n",
       "        <td>315005.00</td>\n",
       "        <td>BURBANK CA</td>\n",
       "    </tr>\n",
       "    <tr>\n",
       "        <td>BURBANK    </td>\n",
       "        <td>2437006021                                                                                                                                                                                                                                                                                                                                                                                                                                                                                                                                                                                                                                                                                                                                                                                                                                                                                                                                                                                                                              </td>\n",
       "        <td>2530</td>\n",
       "        <td>SFR</td>\n",
       "        <td>100</td>\n",
       "        <td>Residential</td>\n",
       "        <td>Single Family Residence</td>\n",
       "        <td> </td>\n",
       "        <td>1940</td>\n",
       "        <td>1940</td>\n",
       "        <td>1026</td>\n",
       "        <td>2</td>\n",
       "        <td>1</td>\n",
       "        <td>1</td>\n",
       "        <td>2005</td>\n",
       "        <td>10                                                                                                                                                                                                                                                                                                                                                                                                                                                                                                                                                                                                                                                                                                                                                                                                                                                                                                                                                                                                                                      </td>\n",
       "        <td>454000.00</td>\n",
       "        <td>2006</td>\n",
       "        <td>114000.00</td>\n",
       "        <td>2006</td>\n",
       "        <td>568000.00</td>\n",
       "        <td>BURBANK CA</td>\n",
       "    </tr>\n",
       "    <tr>\n",
       "        <td>BURBANK    </td>\n",
       "        <td>2437006022                                                                                                                                                                                                                                                                                                                                                                                                                                                                                                                                                                                                                                                                                                                                                                                                                                                                                                                                                                                                                              </td>\n",
       "        <td>2530</td>\n",
       "        <td>SFR</td>\n",
       "        <td>100</td>\n",
       "        <td>Residential</td>\n",
       "        <td>Single Family Residence</td>\n",
       "        <td> </td>\n",
       "        <td>1927</td>\n",
       "        <td>1927</td>\n",
       "        <td>1237</td>\n",
       "        <td>2</td>\n",
       "        <td>1</td>\n",
       "        <td>1</td>\n",
       "        <td>2001</td>\n",
       "        <td>07                                                                                                                                                                                                                                                                                                                                                                                                                                                                                                                                                                                                                                                                                                                                                                                                                                                                                                                                                                                                                                      </td>\n",
       "        <td>259564.00</td>\n",
       "        <td>2002</td>\n",
       "        <td>64887.00</td>\n",
       "        <td>2002</td>\n",
       "        <td>324451.00</td>\n",
       "        <td>BURBANK CA</td>\n",
       "    </tr>\n",
       "    <tr>\n",
       "        <td>BURBANK    </td>\n",
       "        <td>2437006023                                                                                                                                                                                                                                                                                                                                                                                                                                                                                                                                                                                                                                                                                                                                                                                                                                                                                                                                                                                                                              </td>\n",
       "        <td>2530</td>\n",
       "        <td>SFR</td>\n",
       "        <td>100</td>\n",
       "        <td>Residential</td>\n",
       "        <td>Single Family Residence</td>\n",
       "        <td> </td>\n",
       "        <td>1941</td>\n",
       "        <td>1941</td>\n",
       "        <td>1175</td>\n",
       "        <td>3</td>\n",
       "        <td>2</td>\n",
       "        <td>1</td>\n",
       "        <td>2013</td>\n",
       "        <td>02                                                                                                                                                                                                                                                                                                                                                                                                                                                                                                                                                                                                                                                                                                                                                                                                                                                                                                                                                                                                                                      </td>\n",
       "        <td>385566.00</td>\n",
       "        <td>2010</td>\n",
       "        <td>173809.00</td>\n",
       "        <td>2010</td>\n",
       "        <td>559375.00</td>\n",
       "        <td>BURBANK CA</td>\n",
       "    </tr>\n",
       "</table>"
      ],
      "text/plain": [
       "[('BURBANK    ', '2437006019                                                                                                                                                                                                                                                                                                                                                                                                                                                                                                                                                                                                                                                                                                                                                                                                                                                                                                                                                                                                                              ', '2530', 'SFR', '100', 'Residential', 'Single Family Residence', ' ', 1938, 1941, 1112, 2, 1, 1, 2015, '07                                                                                                                                                                                                                                                                                                                                                                                                                                                                                                                                                                                                                                                                                                                                                                                                                                                                                                                                                                                                                                      ', Decimal('515200.00'), 2016, Decimal('128800.00'), 2016, Decimal('644000.00'), 'BURBANK CA'),\n",
       " ('BURBANK    ', '2437006020                                                                                                                                                                                                                                                                                                                                                                                                                                                                                                                                                                                                                                                                                                                                                                                                                                                                                                                                                                                                                              ', '2530', 'SFR', '100', 'Residential', 'Single Family Residence', ' ', 1940, 1964, 1312, 3, 2, 1, 2009, '10                                                                                                                                                                                                                                                                                                                                                                                                                                                                                                                                                                                                                                                                                                                                                                                                                                                                                                                                                                                                                                      ', Decimal('150834.00'), 1991, Decimal('164171.00'), 1991, Decimal('315005.00'), 'BURBANK CA'),\n",
       " ('BURBANK    ', '2437006021                                                                                                                                                                                                                                                                                                                                                                                                                                                                                                                                                                                                                                                                                                                                                                                                                                                                                                                                                                                                                              ', '2530', 'SFR', '100', 'Residential', 'Single Family Residence', ' ', 1940, 1940, 1026, 2, 1, 1, 2005, '10                                                                                                                                                                                                                                                                                                                                                                                                                                                                                                                                                                                                                                                                                                                                                                                                                                                                                                                                                                                                                                      ', Decimal('454000.00'), 2006, Decimal('114000.00'), 2006, Decimal('568000.00'), 'BURBANK CA'),\n",
       " ('BURBANK    ', '2437006022                                                                                                                                                                                                                                                                                                                                                                                                                                                                                                                                                                                                                                                                                                                                                                                                                                                                                                                                                                                                                              ', '2530', 'SFR', '100', 'Residential', 'Single Family Residence', ' ', 1927, 1927, 1237, 2, 1, 1, 2001, '07                                                                                                                                                                                                                                                                                                                                                                                                                                                                                                                                                                                                                                                                                                                                                                                                                                                                                                                                                                                                                                      ', Decimal('259564.00'), 2002, Decimal('64887.00'), 2002, Decimal('324451.00'), 'BURBANK CA'),\n",
       " ('BURBANK    ', '2437006023                                                                                                                                                                                                                                                                                                                                                                                                                                                                                                                                                                                                                                                                                                                                                                                                                                                                                                                                                                                                                              ', '2530', 'SFR', '100', 'Residential', 'Single Family Residence', ' ', 1941, 1941, 1175, 3, 2, 1, 2013, '02                                                                                                                                                                                                                                                                                                                                                                                                                                                                                                                                                                                                                                                                                                                                                                                                                                                                                                                                                                                                                                      ', Decimal('385566.00'), 2010, Decimal('173809.00'), 2010, Decimal('559375.00'), 'BURBANK CA')]"
      ]
     },
     "execution_count": 30,
     "metadata": {},
     "output_type": "execute_result"
    }
   ],
   "source": [
    "%%sql\n",
    "SELECT * FROM fact \n",
    "LIMIT 5"
   ]
  },
  {
   "cell_type": "code",
   "execution_count": 31,
   "metadata": {
    "collapsed": false
   },
   "outputs": [
    {
     "name": "stdout",
     "output_type": "stream",
     "text": [
      "5 rows affected.\n"
     ]
    },
    {
     "data": {
      "text/html": [
       "<table>\n",
       "    <tr>\n",
       "        <th>ain</th>\n",
       "        <th>propertytype</th>\n",
       "        <th>propertyusecode</th>\n",
       "        <th>generalusetype</th>\n",
       "        <th>specificusetype</th>\n",
       "        <th>specificusedetail2</th>\n",
       "        <th>bedrooms</th>\n",
       "        <th>bathrooms</th>\n",
       "        <th>sqftmain</th>\n",
       "        <th>units</th>\n",
       "        <th>landvalue</th>\n",
       "        <th>totallandimpvalue</th>\n",
       "        <th>improvementvalue</th>\n",
       "        <th>location_dim_id</th>\n",
       "    </tr>\n",
       "    <tr>\n",
       "        <td>2437006019                                                                                                                                                                                                                                                                                                                                                                                                                                                                                                                                                                                                                                                                                                                                                                                                                                                                                                                                                                                                                              </td>\n",
       "        <td>SFR</td>\n",
       "        <td>100</td>\n",
       "        <td>Residential</td>\n",
       "        <td>Single Family Residence</td>\n",
       "        <td> </td>\n",
       "        <td>2</td>\n",
       "        <td>1</td>\n",
       "        <td>1112</td>\n",
       "        <td>1</td>\n",
       "        <td>515200.00</td>\n",
       "        <td>644000.00</td>\n",
       "        <td>128800.00</td>\n",
       "        <td>1503</td>\n",
       "    </tr>\n",
       "    <tr>\n",
       "        <td>2437006020                                                                                                                                                                                                                                                                                                                                                                                                                                                                                                                                                                                                                                                                                                                                                                                                                                                                                                                                                                                                                              </td>\n",
       "        <td>SFR</td>\n",
       "        <td>100</td>\n",
       "        <td>Residential</td>\n",
       "        <td>Single Family Residence</td>\n",
       "        <td> </td>\n",
       "        <td>3</td>\n",
       "        <td>2</td>\n",
       "        <td>1312</td>\n",
       "        <td>1</td>\n",
       "        <td>150834.00</td>\n",
       "        <td>315005.00</td>\n",
       "        <td>164171.00</td>\n",
       "        <td>1503</td>\n",
       "    </tr>\n",
       "    <tr>\n",
       "        <td>2437006021                                                                                                                                                                                                                                                                                                                                                                                                                                                                                                                                                                                                                                                                                                                                                                                                                                                                                                                                                                                                                              </td>\n",
       "        <td>SFR</td>\n",
       "        <td>100</td>\n",
       "        <td>Residential</td>\n",
       "        <td>Single Family Residence</td>\n",
       "        <td> </td>\n",
       "        <td>2</td>\n",
       "        <td>1</td>\n",
       "        <td>1026</td>\n",
       "        <td>1</td>\n",
       "        <td>454000.00</td>\n",
       "        <td>568000.00</td>\n",
       "        <td>114000.00</td>\n",
       "        <td>1503</td>\n",
       "    </tr>\n",
       "    <tr>\n",
       "        <td>2437006022                                                                                                                                                                                                                                                                                                                                                                                                                                                                                                                                                                                                                                                                                                                                                                                                                                                                                                                                                                                                                              </td>\n",
       "        <td>SFR</td>\n",
       "        <td>100</td>\n",
       "        <td>Residential</td>\n",
       "        <td>Single Family Residence</td>\n",
       "        <td> </td>\n",
       "        <td>2</td>\n",
       "        <td>1</td>\n",
       "        <td>1237</td>\n",
       "        <td>1</td>\n",
       "        <td>259564.00</td>\n",
       "        <td>324451.00</td>\n",
       "        <td>64887.00</td>\n",
       "        <td>1503</td>\n",
       "    </tr>\n",
       "    <tr>\n",
       "        <td>2437006023                                                                                                                                                                                                                                                                                                                                                                                                                                                                                                                                                                                                                                                                                                                                                                                                                                                                                                                                                                                                                              </td>\n",
       "        <td>SFR</td>\n",
       "        <td>100</td>\n",
       "        <td>Residential</td>\n",
       "        <td>Single Family Residence</td>\n",
       "        <td> </td>\n",
       "        <td>3</td>\n",
       "        <td>2</td>\n",
       "        <td>1175</td>\n",
       "        <td>1</td>\n",
       "        <td>385566.00</td>\n",
       "        <td>559375.00</td>\n",
       "        <td>173809.00</td>\n",
       "        <td>1503</td>\n",
       "    </tr>\n",
       "</table>"
      ],
      "text/plain": [
       "[('2437006019                                                                                                                                                                                                                                                                                                                                                                                                                                                                                                                                                                                                                                                                                                                                                                                                                                                                                                                                                                                                                              ', 'SFR', '100', 'Residential', 'Single Family Residence', ' ', 2, 1, 1112, 1, Decimal('515200.00'), Decimal('644000.00'), Decimal('128800.00'), 1503),\n",
       " ('2437006020                                                                                                                                                                                                                                                                                                                                                                                                                                                                                                                                                                                                                                                                                                                                                                                                                                                                                                                                                                                                                              ', 'SFR', '100', 'Residential', 'Single Family Residence', ' ', 3, 2, 1312, 1, Decimal('150834.00'), Decimal('315005.00'), Decimal('164171.00'), 1503),\n",
       " ('2437006021                                                                                                                                                                                                                                                                                                                                                                                                                                                                                                                                                                                                                                                                                                                                                                                                                                                                                                                                                                                                                              ', 'SFR', '100', 'Residential', 'Single Family Residence', ' ', 2, 1, 1026, 1, Decimal('454000.00'), Decimal('568000.00'), Decimal('114000.00'), 1503),\n",
       " ('2437006022                                                                                                                                                                                                                                                                                                                                                                                                                                                                                                                                                                                                                                                                                                                                                                                                                                                                                                                                                                                                                              ', 'SFR', '100', 'Residential', 'Single Family Residence', ' ', 2, 1, 1237, 1, Decimal('259564.00'), Decimal('324451.00'), Decimal('64887.00'), 1503),\n",
       " ('2437006023                                                                                                                                                                                                                                                                                                                                                                                                                                                                                                                                                                                                                                                                                                                                                                                                                                                                                                                                                                                                                              ', 'SFR', '100', 'Residential', 'Single Family Residence', ' ', 3, 2, 1175, 1, Decimal('385566.00'), Decimal('559375.00'), Decimal('173809.00'), 1503)]"
      ]
     },
     "execution_count": 31,
     "metadata": {},
     "output_type": "execute_result"
    }
   ],
   "source": [
    "%%sql\n",
    "SELECT * FROM fact2\n",
    "LIMIT 5"
   ]
  },
  {
   "cell_type": "code",
   "execution_count": 32,
   "metadata": {
    "collapsed": false
   },
   "outputs": [
    {
     "name": "stdout",
     "output_type": "stream",
     "text": [
      "5 rows affected.\n"
     ]
    },
    {
     "data": {
      "text/html": [
       "<table>\n",
       "    <tr>\n",
       "        <th>ain</th>\n",
       "        <th>propertytype</th>\n",
       "        <th>propertyusecode</th>\n",
       "        <th>generalusetype</th>\n",
       "        <th>specificusetype</th>\n",
       "        <th>specificusedetail2</th>\n",
       "        <th>bedrooms</th>\n",
       "        <th>bathrooms</th>\n",
       "        <th>sqftmain</th>\n",
       "        <th>units</th>\n",
       "        <th>location_dim_id</th>\n",
       "        <th>value_dim_id</th>\n",
       "    </tr>\n",
       "    <tr>\n",
       "        <td>2437006025                                                                                                                                                                                                                                                                                                                                                                                                                                                                                                                                                                                                                                                                                                                                                                                                                                                                                                                                                                                                                              </td>\n",
       "        <td>SFR</td>\n",
       "        <td>100</td>\n",
       "        <td>Residential</td>\n",
       "        <td>Single Family Residence</td>\n",
       "        <td> </td>\n",
       "        <td>2</td>\n",
       "        <td>2</td>\n",
       "        <td>1251</td>\n",
       "        <td>1</td>\n",
       "        <td>1503</td>\n",
       "        <td>208317</td>\n",
       "    </tr>\n",
       "    <tr>\n",
       "        <td>2437007002                                                                                                                                                                                                                                                                                                                                                                                                                                                                                                                                                                                                                                                                                                                                                                                                                                                                                                                                                                                                                              </td>\n",
       "        <td>SFR</td>\n",
       "        <td>100</td>\n",
       "        <td>Residential</td>\n",
       "        <td>Single Family Residence</td>\n",
       "        <td> </td>\n",
       "        <td>2</td>\n",
       "        <td>1</td>\n",
       "        <td>893</td>\n",
       "        <td>1</td>\n",
       "        <td>1503</td>\n",
       "        <td>140570</td>\n",
       "    </tr>\n",
       "    <tr>\n",
       "        <td>2437007003                                                                                                                                                                                                                                                                                                                                                                                                                                                                                                                                                                                                                                                                                                                                                                                                                                                                                                                                                                                                                              </td>\n",
       "        <td>R-I</td>\n",
       "        <td>300</td>\n",
       "        <td>Residential</td>\n",
       "        <td>Three Units (Any Combination)</td>\n",
       "        <td> </td>\n",
       "        <td>1</td>\n",
       "        <td>3</td>\n",
       "        <td>1173</td>\n",
       "        <td>3</td>\n",
       "        <td>1503</td>\n",
       "        <td>158305</td>\n",
       "    </tr>\n",
       "    <tr>\n",
       "        <td>2437007012                                                                                                                                                                                                                                                                                                                                                                                                                                                                                                                                                                                                                                                                                                                                                                                                                                                                                                                                                                                                                              </td>\n",
       "        <td>SFR</td>\n",
       "        <td>100</td>\n",
       "        <td>Residential</td>\n",
       "        <td>Single Family Residence</td>\n",
       "        <td> </td>\n",
       "        <td>2</td>\n",
       "        <td>2</td>\n",
       "        <td>1195</td>\n",
       "        <td>1</td>\n",
       "        <td>1503</td>\n",
       "        <td>20283</td>\n",
       "    </tr>\n",
       "    <tr>\n",
       "        <td>2437007021                                                                                                                                                                                                                                                                                                                                                                                                                                                                                                                                                                                                                                                                                                                                                                                                                                                                                                                                                                                                                              </td>\n",
       "        <td>SFR</td>\n",
       "        <td>100</td>\n",
       "        <td>Residential</td>\n",
       "        <td>Single Family Residence</td>\n",
       "        <td> </td>\n",
       "        <td>3</td>\n",
       "        <td>2</td>\n",
       "        <td>1448</td>\n",
       "        <td>1</td>\n",
       "        <td>1503</td>\n",
       "        <td>189201</td>\n",
       "    </tr>\n",
       "</table>"
      ],
      "text/plain": [
       "[('2437006025                                                                                                                                                                                                                                                                                                                                                                                                                                                                                                                                                                                                                                                                                                                                                                                                                                                                                                                                                                                                                              ', 'SFR', '100', 'Residential', 'Single Family Residence', ' ', 2, 2, 1251, 1, 1503, 208317),\n",
       " ('2437007002                                                                                                                                                                                                                                                                                                                                                                                                                                                                                                                                                                                                                                                                                                                                                                                                                                                                                                                                                                                                                              ', 'SFR', '100', 'Residential', 'Single Family Residence', ' ', 2, 1, 893, 1, 1503, 140570),\n",
       " ('2437007003                                                                                                                                                                                                                                                                                                                                                                                                                                                                                                                                                                                                                                                                                                                                                                                                                                                                                                                                                                                                                              ', 'R-I', '300', 'Residential', 'Three Units (Any Combination)', ' ', 1, 3, 1173, 3, 1503, 158305),\n",
       " ('2437007012                                                                                                                                                                                                                                                                                                                                                                                                                                                                                                                                                                                                                                                                                                                                                                                                                                                                                                                                                                                                                              ', 'SFR', '100', 'Residential', 'Single Family Residence', ' ', 2, 2, 1195, 1, 1503, 20283),\n",
       " ('2437007021                                                                                                                                                                                                                                                                                                                                                                                                                                                                                                                                                                                                                                                                                                                                                                                                                                                                                                                                                                                                                              ', 'SFR', '100', 'Residential', 'Single Family Residence', ' ', 3, 2, 1448, 1, 1503, 189201)]"
      ]
     },
     "execution_count": 32,
     "metadata": {},
     "output_type": "execute_result"
    }
   ],
   "source": [
    "%%sql\n",
    "SELECT * FROM fact3\n",
    "LIMIT 5"
   ]
  },
  {
   "cell_type": "code",
   "execution_count": 33,
   "metadata": {
    "collapsed": false
   },
   "outputs": [
    {
     "name": "stdout",
     "output_type": "stream",
     "text": [
      "5 rows affected.\n"
     ]
    },
    {
     "data": {
      "text/html": [
       "<table>\n",
       "    <tr>\n",
       "        <th>ain</th>\n",
       "        <th>location_dim_id</th>\n",
       "        <th>value_dim_id</th>\n",
       "        <th>type_dim_id</th>\n",
       "    </tr>\n",
       "    <tr>\n",
       "        <td>2468028904                                                                                                                                                                                                                                                                                                                                                                                                                                                                                                                                                                                                                                                                                                                                                                                                                                                                                                                                                                                                                              </td>\n",
       "        <td>409</td>\n",
       "        <td>287299</td>\n",
       "        <td>76682</td>\n",
       "    </tr>\n",
       "    <tr>\n",
       "        <td>2769018902                                                                                                                                                                                                                                                                                                                                                                                                                                                                                                                                                                                                                                                                                                                                                                                                                                                                                                                                                                                                                              </td>\n",
       "        <td>1557</td>\n",
       "        <td>287299</td>\n",
       "        <td>76682</td>\n",
       "    </tr>\n",
       "    <tr>\n",
       "        <td>2717005901                                                                                                                                                                                                                                                                                                                                                                                                                                                                                                                                                                                                                                                                                                                                                                                                                                                                                                                                                                                                                              </td>\n",
       "        <td>1557</td>\n",
       "        <td>287299</td>\n",
       "        <td>76682</td>\n",
       "    </tr>\n",
       "    <tr>\n",
       "        <td>2717005902                                                                                                                                                                                                                                                                                                                                                                                                                                                                                                                                                                                                                                                                                                                                                                                                                                                                                                                                                                                                                              </td>\n",
       "        <td>1557</td>\n",
       "        <td>287299</td>\n",
       "        <td>76682</td>\n",
       "    </tr>\n",
       "    <tr>\n",
       "        <td>2722037900                                                                                                                                                                                                                                                                                                                                                                                                                                                                                                                                                                                                                                                                                                                                                                                                                                                                                                                                                                                                                              </td>\n",
       "        <td>1557</td>\n",
       "        <td>287299</td>\n",
       "        <td>76682</td>\n",
       "    </tr>\n",
       "</table>"
      ],
      "text/plain": [
       "[('2468028904                                                                                                                                                                                                                                                                                                                                                                                                                                                                                                                                                                                                                                                                                                                                                                                                                                                                                                                                                                                                                              ', 409, 287299, 76682),\n",
       " ('2769018902                                                                                                                                                                                                                                                                                                                                                                                                                                                                                                                                                                                                                                                                                                                                                                                                                                                                                                                                                                                                                              ', 1557, 287299, 76682),\n",
       " ('2717005901                                                                                                                                                                                                                                                                                                                                                                                                                                                                                                                                                                                                                                                                                                                                                                                                                                                                                                                                                                                                                              ', 1557, 287299, 76682),\n",
       " ('2717005902                                                                                                                                                                                                                                                                                                                                                                                                                                                                                                                                                                                                                                                                                                                                                                                                                                                                                                                                                                                                                              ', 1557, 287299, 76682),\n",
       " ('2722037900                                                                                                                                                                                                                                                                                                                                                                                                                                                                                                                                                                                                                                                                                                                                                                                                                                                                                                                                                                                                                              ', 1557, 287299, 76682)]"
      ]
     },
     "execution_count": 33,
     "metadata": {},
     "output_type": "execute_result"
    }
   ],
   "source": [
    "%%sql\n",
    "SELECT * FROM fact4 \n",
    "LIMIT 5"
   ]
  },
  {
   "cell_type": "markdown",
   "metadata": {},
   "source": [
    "### Part 3 - Analysis (35 points)\n",
    "\n",
    "Explore and analyze your data in its wrangled form. Follow through on the themes you identified in Part 1 with queries or scripts that answer the questions you had in mind. Be clear about the answers you discover, discussing them and whether the results match your expectations. Include charts or other visuals that support your analysis. You may use Tableau, ggplot, or other tools we have not covered in class for visualization, but be sure to export images and to include them properly in your writeup.\n"
   ]
  },
  {
   "cell_type": "markdown",
   "metadata": {},
   "source": [
    "# 3b2b: top 10 in LA"
   ]
  },
  {
   "cell_type": "markdown",
   "metadata": {},
   "source": [
    "we wrote query to verify our analysis before. The below shows most expensive property in LA with 3 bedrooms and 2 bathrooms. We can see the result is pretty same as our analysis from the whole table."
   ]
  },
  {
   "cell_type": "code",
   "execution_count": 35,
   "metadata": {
    "collapsed": false
   },
   "outputs": [
    {
     "name": "stdout",
     "output_type": "stream",
     "text": [
      "10 rows affected.\n"
     ]
    },
    {
     "data": {
      "text/html": [
       "<table>\n",
       "    <tr>\n",
       "        <th>taxratearea_city</th>\n",
       "        <th>count</th>\n",
       "    </tr>\n",
       "    <tr>\n",
       "        <td>LOS ANGELES</td>\n",
       "        <td>18846</td>\n",
       "    </tr>\n",
       "    <tr>\n",
       "        <td>LONG BEACH </td>\n",
       "        <td>16376</td>\n",
       "    </tr>\n",
       "    <tr>\n",
       "        <td>SANTA CLARITA</td>\n",
       "        <td>10691</td>\n",
       "    </tr>\n",
       "    <tr>\n",
       "        <td>LAKEWOOD   </td>\n",
       "        <td>7005</td>\n",
       "    </tr>\n",
       "    <tr>\n",
       "        <td>POMONA     </td>\n",
       "        <td>6425</td>\n",
       "    </tr>\n",
       "    <tr>\n",
       "        <td>BURBANK    </td>\n",
       "        <td>4504</td>\n",
       "    </tr>\n",
       "    <tr>\n",
       "        <td>unincorporated</td>\n",
       "        <td>4072</td>\n",
       "    </tr>\n",
       "    <tr>\n",
       "        <td>CERRITOS   </td>\n",
       "        <td>3333</td>\n",
       "    </tr>\n",
       "    <tr>\n",
       "        <td>COVINA     </td>\n",
       "        <td>2517</td>\n",
       "    </tr>\n",
       "    <tr>\n",
       "        <td>CLAREMONT  </td>\n",
       "        <td>2140</td>\n",
       "    </tr>\n",
       "</table>"
      ],
      "text/plain": [
       "[('LOS ANGELES', 18846),\n",
       " ('LONG BEACH ', 16376),\n",
       " ('SANTA CLARITA', 10691),\n",
       " ('LAKEWOOD   ', 7005),\n",
       " ('POMONA     ', 6425),\n",
       " ('BURBANK    ', 4504),\n",
       " ('unincorporated', 4072),\n",
       " ('CERRITOS   ', 3333),\n",
       " ('COVINA     ', 2517),\n",
       " ('CLAREMONT  ', 2140)]"
      ]
     },
     "execution_count": 35,
     "metadata": {},
     "output_type": "execute_result"
    }
   ],
   "source": [
    "%%sql\n",
    "SELECT TaxRateArea_CITY, COUNT(*) FROM(\n",
    "    SELECT l.TaxRateArea_CITY\n",
    "    FROM fact4 AS f, location_dim AS l, type_dim AS t\n",
    "    WHERE l.location_dim_id = f.location_dim_id\n",
    "    AND t.type_dim_id = f.type_dim_id\n",
    "    AND t.Bedrooms = '3'\n",
    "    AND t.Bathrooms = '2') AS citys\n",
    "GROUP BY TaxRateArea_CITY\n",
    "ORDER BY COUNT DESC\n",
    "LIMIT 10\n",
    ";"
   ]
  },
  {
   "cell_type": "code",
   "execution_count": 36,
   "metadata": {
    "collapsed": false
   },
   "outputs": [
    {
     "name": "stderr",
     "output_type": "stream",
     "text": [
      "/opt/conda/lib/python3.5/site-packages/matplotlib/font_manager.py:273: UserWarning: Matplotlib is building the font cache using fc-list. This may take a moment.\n",
      "  warnings.warn('Matplotlib is building the font cache using fc-list. This may take a moment.')\n",
      "/opt/conda/lib/python3.5/site-packages/matplotlib/font_manager.py:273: UserWarning: Matplotlib is building the font cache using fc-list. This may take a moment.\n",
      "  warnings.warn('Matplotlib is building the font cache using fc-list. This may take a moment.')\n"
     ]
    },
    {
     "data": {
      "text/plain": [
       "<Container object of 10 artists>"
      ]
     },
     "execution_count": 36,
     "metadata": {},
     "output_type": "execute_result"
    },
    {
     "data": {
      "image/png": "[encoded data removed]",
      "text/plain": [
       "<matplotlib.figure.Figure at 0x7f02240f4438>"
      ]
     },
     "metadata": {},
     "output_type": "display_data"
    }
   ],
   "source": [
    "%matplotlib inline\n",
    "result = _\n",
    "result.bar(color='yellow')"
   ]
  },
  {
   "cell_type": "markdown",
   "metadata": {},
   "source": [
    "# Average land price in Serveral Area"
   ]
  },
  {
   "cell_type": "markdown",
   "metadata": {},
   "source": [
    "we wrote query to verify our analysis before. The below shows the average land price in different cities in LA from high to low. We can see the result is pretty same as our analysis from the whole table."
   ]
  },
  {
   "cell_type": "code",
   "execution_count": 37,
   "metadata": {
    "collapsed": false
   },
   "outputs": [
    {
     "name": "stdout",
     "output_type": "stream",
     "text": [
      "10 rows affected.\n"
     ]
    },
    {
     "data": {
      "text/html": [
       "<table>\n",
       "    <tr>\n",
       "        <th>taxratearea_city</th>\n",
       "        <th>ave</th>\n",
       "    </tr>\n",
       "    <tr>\n",
       "        <td>MALIBU</td>\n",
       "        <td>2204333.155717761557</td>\n",
       "    </tr>\n",
       "    <tr>\n",
       "        <td>LAKEWOOD</td>\n",
       "        <td>728641.520782396088</td>\n",
       "    </tr>\n",
       "    <tr>\n",
       "        <td>BURBANK</td>\n",
       "        <td>661630.903945111492</td>\n",
       "    </tr>\n",
       "    <tr>\n",
       "        <td>CLAREMONT</td>\n",
       "        <td>590464.074074074074</td>\n",
       "    </tr>\n",
       "    <tr>\n",
       "        <td>PARAMOUNT</td>\n",
       "        <td>548301.300000000000</td>\n",
       "    </tr>\n",
       "    <tr>\n",
       "        <td>GLENDORA   </td>\n",
       "        <td>507737.666666666667</td>\n",
       "    </tr>\n",
       "    <tr>\n",
       "        <td>ARTESIA</td>\n",
       "        <td>470041.535410764873</td>\n",
       "    </tr>\n",
       "    <tr>\n",
       "        <td>CULVER CITY</td>\n",
       "        <td>454974.053571428571</td>\n",
       "    </tr>\n",
       "    <tr>\n",
       "        <td>IRWINDALE  </td>\n",
       "        <td>444728.813186813187</td>\n",
       "    </tr>\n",
       "    <tr>\n",
       "        <td>WHITTIER   </td>\n",
       "        <td>348143.944193061840</td>\n",
       "    </tr>\n",
       "</table>"
      ],
      "text/plain": [
       "[('MALIBU', Decimal('2204333.155717761557')),\n",
       " ('LAKEWOOD', Decimal('728641.520782396088')),\n",
       " ('BURBANK', Decimal('661630.903945111492')),\n",
       " ('CLAREMONT', Decimal('590464.074074074074')),\n",
       " ('PARAMOUNT', Decimal('548301.300000000000')),\n",
       " ('GLENDORA   ', Decimal('507737.666666666667')),\n",
       " ('ARTESIA', Decimal('470041.535410764873')),\n",
       " ('CULVER CITY', Decimal('454974.053571428571')),\n",
       " ('IRWINDALE  ', Decimal('444728.813186813187')),\n",
       " ('WHITTIER   ', Decimal('348143.944193061840'))]"
      ]
     },
     "execution_count": 37,
     "metadata": {},
     "output_type": "execute_result"
    }
   ],
   "source": [
    "%%sql\n",
    "SELECT TaxRateArea_CITY, AVG(LandValue) AS ave FROM(\n",
    "SELECT v.LandValue, l.TaxRateArea_CITY\n",
    "FROM fact4 AS f, location_dim AS l, value_dim AS v\n",
    "WHERE l.location_dim_id = f.location_dim_id\n",
    "AND v.value_dim_id = f.value_dim_id) AS c\n",
    "GROUP BY TaxRateArea_CITY\n",
    "ORDER BY ave DESC\n",
    "LIMIT 10\n",
    ";"
   ]
  },
  {
   "cell_type": "code",
   "execution_count": 38,
   "metadata": {
    "collapsed": false
   },
   "outputs": [
    {
     "data": {
      "text/plain": [
       "<Container object of 10 artists>"
      ]
     },
     "execution_count": 38,
     "metadata": {},
     "output_type": "execute_result"
    },
    {
     "data": {
      "image/png": "[encoded data removed]",
      "text/plain": [
       "<matplotlib.figure.Figure at 0x7f02240f44a8>"
      ]
     },
     "metadata": {},
     "output_type": "display_data"
    }
   ],
   "source": [
    "%matplotlib inline\n",
    "result = _\n",
    "result.bar(color='yellow')"
   ]
  },
  {
   "cell_type": "markdown",
   "metadata": {
    "collapsed": true
   },
   "source": [
    "# Santa Clarita's general use type"
   ]
  },
  {
   "cell_type": "markdown",
   "metadata": {},
   "source": [
    "we wrote query to verify our analysis before. The below shows the number of different general use types in SANTA CLARITA from high to low. We can see the result is pretty same as our analysis from the whole table."
   ]
  },
  {
   "cell_type": "code",
   "execution_count": 41,
   "metadata": {
    "collapsed": false
   },
   "outputs": [
    {
     "name": "stdout",
     "output_type": "stream",
     "text": [
      "5 rows affected.\n"
     ]
    },
    {
     "data": {
      "text/html": [
       "<table>\n",
       "    <tr>\n",
       "        <th>generalusetype</th>\n",
       "        <th>count</th>\n",
       "    </tr>\n",
       "    <tr>\n",
       "        <td>Residential</td>\n",
       "        <td>49586</td>\n",
       "    </tr>\n",
       "    <tr>\n",
       "        <td>Commercial</td>\n",
       "        <td>820</td>\n",
       "    </tr>\n",
       "    <tr>\n",
       "        <td>Industrial</td>\n",
       "        <td>302</td>\n",
       "    </tr>\n",
       "    <tr>\n",
       "        <td>Institutional</td>\n",
       "        <td>88</td>\n",
       "    </tr>\n",
       "    <tr>\n",
       "        <td>Miscellaneous</td>\n",
       "        <td>30</td>\n",
       "    </tr>\n",
       "</table>"
      ],
      "text/plain": [
       "[('Residential', 49586),\n",
       " ('Commercial', 820),\n",
       " ('Industrial', 302),\n",
       " ('Institutional', 88),\n",
       " ('Miscellaneous', 30)]"
      ]
     },
     "execution_count": 41,
     "metadata": {},
     "output_type": "execute_result"
    }
   ],
   "source": [
    "%%sql\n",
    "SELECT GeneralUseType, COUNT(*) AS count FROM(\n",
    "SELECT t.GeneralUseType\n",
    "FROM fact4 AS f, location_dim AS l, type_dim AS t\n",
    "WHERE l.location_dim_id = f.location_dim_id\n",
    "AND t.type_dim_id = f.type_dim_id\n",
    "AND l.TaxRateArea_CITY = 'SANTA CLARITA') AS ty\n",
    "GROUP BY GeneralUseType\n",
    "ORDER BY count DESC\n",
    "LIMIT 5\n",
    ";"
   ]
  },
  {
   "cell_type": "markdown",
   "metadata": {},
   "source": [
    "# Top city with commercial use"
   ]
  },
  {
   "cell_type": "raw",
   "metadata": {},
   "source": [
    "we wrote query to verify our analysis before. The below shows the top cities in LA with most commercial used property . We can see the result is pretty same as our analysis from the whole table."
   ]
  },
  {
   "cell_type": "code",
   "execution_count": 47,
   "metadata": {
    "collapsed": false
   },
   "outputs": [
    {
     "name": "stdout",
     "output_type": "stream",
     "text": [
      "10 rows affected.\n"
     ]
    },
    {
     "data": {
      "text/html": [
       "<table>\n",
       "    <tr>\n",
       "        <th>taxratearea_city</th>\n",
       "        <th>count</th>\n",
       "    </tr>\n",
       "    <tr>\n",
       "        <td>LOS ANGELES</td>\n",
       "        <td>4807</td>\n",
       "    </tr>\n",
       "    <tr>\n",
       "        <td>LONG BEACH </td>\n",
       "        <td>2328</td>\n",
       "    </tr>\n",
       "    <tr>\n",
       "        <td>BURBANK    </td>\n",
       "        <td>1361</td>\n",
       "    </tr>\n",
       "    <tr>\n",
       "        <td>POMONA     </td>\n",
       "        <td>851</td>\n",
       "    </tr>\n",
       "    <tr>\n",
       "        <td>SANTA CLARITA</td>\n",
       "        <td>820</td>\n",
       "    </tr>\n",
       "    <tr>\n",
       "        <td>BELLFLOWER </td>\n",
       "        <td>616</td>\n",
       "    </tr>\n",
       "    <tr>\n",
       "        <td>POMONA</td>\n",
       "        <td>436</td>\n",
       "    </tr>\n",
       "    <tr>\n",
       "        <td>unincorporated</td>\n",
       "        <td>234</td>\n",
       "    </tr>\n",
       "    <tr>\n",
       "        <td>BURBANK</td>\n",
       "        <td>223</td>\n",
       "    </tr>\n",
       "    <tr>\n",
       "        <td>SAN DIMAS  </td>\n",
       "        <td>218</td>\n",
       "    </tr>\n",
       "</table>"
      ],
      "text/plain": [
       "[('LOS ANGELES', 4807),\n",
       " ('LONG BEACH ', 2328),\n",
       " ('BURBANK    ', 1361),\n",
       " ('POMONA     ', 851),\n",
       " ('SANTA CLARITA', 820),\n",
       " ('BELLFLOWER ', 616),\n",
       " ('POMONA', 436),\n",
       " ('unincorporated', 234),\n",
       " ('BURBANK', 223),\n",
       " ('SAN DIMAS  ', 218)]"
      ]
     },
     "execution_count": 47,
     "metadata": {},
     "output_type": "execute_result"
    }
   ],
   "source": [
    "%%sql\n",
    "SELECT TaxRateArea_CITY, COUNT(*) AS count FROM(\n",
    "SELECT l.TaxRateArea_CITY\n",
    "FROM fact4 AS f, location_dim AS l, type_dim AS t\n",
    "WHERE l.location_dim_id = f.location_dim_id\n",
    "AND t.type_dim_id = f.type_dim_id\n",
    "AND t.GeneralUseType = 'Commercial') AS ct\n",
    "GROUP BY TaxRateArea_CITY\n",
    "ORDER BY count DESC\n",
    "LIMIT 10\n",
    ";"
   ]
  },
  {
   "cell_type": "code",
   "execution_count": 53,
   "metadata": {
    "collapsed": false
   },
   "outputs": [
    {
     "data": {
      "text/plain": [
       "<Container object of 10 artists>"
      ]
     },
     "execution_count": 53,
     "metadata": {},
     "output_type": "execute_result"
    },
    {
     "data": {
      "image/png": "[encoded data removed]",
      "text/plain": [
       "<matplotlib.figure.Figure at 0x7f02184af5f8>"
      ]
     },
     "metadata": {},
     "output_type": "display_data"
    }
   ],
   "source": [
    "%matplotlib inline\n",
    "result = _\n",
    "result.bar(color='yellow')"
   ]
  },
  {
   "cell_type": "markdown",
   "metadata": {},
   "source": [
    "# The no. of properties with different use "
   ]
  },
  {
   "cell_type": "code",
   "execution_count": 54,
   "metadata": {
    "collapsed": false
   },
   "outputs": [
    {
     "name": "stdout",
     "output_type": "stream",
     "text": [
      "7 rows affected.\n"
     ]
    },
    {
     "data": {
      "text/html": [
       "<table>\n",
       "    <tr>\n",
       "        <th>propertytype</th>\n",
       "        <th>Number of Properties</th>\n",
       "    </tr>\n",
       "    <tr>\n",
       "        <td>SFR</td>\n",
       "        <td>271820</td>\n",
       "    </tr>\n",
       "    <tr>\n",
       "        <td>CND</td>\n",
       "        <td>44332</td>\n",
       "    </tr>\n",
       "    <tr>\n",
       "        <td>R-I</td>\n",
       "        <td>39326</td>\n",
       "    </tr>\n",
       "    <tr>\n",
       "        <td>C/I</td>\n",
       "        <td>18362</td>\n",
       "    </tr>\n",
       "    <tr>\n",
       "        <td>VAC</td>\n",
       "        <td>3377</td>\n",
       "    </tr>\n",
       "    <tr>\n",
       "        <td>OTH</td>\n",
       "        <td>2964</td>\n",
       "    </tr>\n",
       "    <tr>\n",
       "        <td> </td>\n",
       "        <td>10</td>\n",
       "    </tr>\n",
       "</table>"
      ],
      "text/plain": [
       "[('SFR', 271820),\n",
       " ('CND', 44332),\n",
       " ('R-I', 39326),\n",
       " ('C/I', 18362),\n",
       " ('VAC', 3377),\n",
       " ('OTH', 2964),\n",
       " (' ', 10)]"
      ]
     },
     "execution_count": 54,
     "metadata": {},
     "output_type": "execute_result"
    }
   ],
   "source": [
    "%%sql\n",
    "SELECT PropertyType, COUNT(AIN) AS \"Number of Properties\"\n",
    "FROM fact4, type_dim\n",
    "WHERE type_dim.type_dim_id = fact4.type_dim_id\n",
    "GROUP BY PropertyType\n",
    "ORDER BY \"Number of Properties\" DESC"
   ]
  },
  {
   "cell_type": "code",
   "execution_count": 55,
   "metadata": {
    "collapsed": false
   },
   "outputs": [
    {
     "data": {
      "text/plain": [
       "([<matplotlib.patches.Wedge at 0x7f021c9df470>,\n",
       "  <matplotlib.patches.Wedge at 0x7f021c9e9128>,\n",
       "  <matplotlib.patches.Wedge at 0x7f021c9e9d68>,\n",
       "  <matplotlib.patches.Wedge at 0x7f021c9ed9e8>,\n",
       "  <matplotlib.patches.Wedge at 0x7f021c9f3668>,\n",
       "  <matplotlib.patches.Wedge at 0x7f021c9f82e8>,\n",
       "  <matplotlib.patches.Wedge at 0x7f021c9f8f28>],\n",
       " [<matplotlib.text.Text at 0x7f021c9dfc88>,\n",
       "  <matplotlib.text.Text at 0x7f021c9e9908>,\n",
       "  <matplotlib.text.Text at 0x7f021c9ed588>,\n",
       "  <matplotlib.text.Text at 0x7f021c9f3208>,\n",
       "  <matplotlib.text.Text at 0x7f021c9f3e48>,\n",
       "  <matplotlib.text.Text at 0x7f021c9f8ac8>,\n",
       "  <matplotlib.text.Text at 0x7f021ca00748>])"
      ]
     },
     "execution_count": 55,
     "metadata": {},
     "output_type": "execute_result"
    },
    {
     "data": {
      "image/png": "[encoded data removed]",
      "text/plain": [
       "<matplotlib.figure.Figure at 0x7f02197c05c0>"
      ]
     },
     "metadata": {},
     "output_type": "display_data"
    }
   ],
   "source": [
    "%matplotlib inline\n",
    "result=_\n",
    "result.pie()"
   ]
  }
 ],
 "metadata": {
  "anaconda-cloud": {},
  "kernelspec": {
   "display_name": "Python 3",
   "language": "python",
   "name": "python3"
  },
  "language_info": {
   "codemirror_mode": {
    "name": "ipython",
    "version": 3
   },
   "file_extension": ".py",
   "mimetype": "text/x-python",
   "name": "python",
   "nbconvert_exporter": "python",
   "pygments_lexer": "ipython3",
   "version": "3.5.2"
  }
 },
 "nbformat": 4,
 "nbformat_minor": 1
}
