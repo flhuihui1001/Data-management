{
 "cells": [
  {
   "cell_type": "markdown",
   "metadata": {},
   "source": [
    "# Project 02 - Due Friday, November 11 at 12pm\n",
    "\n",
    "*Objectives*: Gain experience loading a transactional dataset into a relational database model you define yourself and using SQL to explore its contents. Transform the data into a star schema, documenting the schema visually, and explore the transformed data analytically by writing and executing a number of SQL queries using common syntax and functions and describing your findings.  Gain practice working on these tasks with a partner.\n",
    "\n",
    "*Grading criteria*: The tasks should all be completed, and questions should all be answered with SQL queries, diagrams, and charts in the space provided, unless a text answer is requested.  The notebook itself should be completely reproducible at datanotebook.org, from start to finish: another person should be able to use the same code to obtain the same results as yours.  Note that you will receive no more than partial credit if you do not add text/markdown cells explaining your thinking at each major step in each problem.\n",
    "\n",
    "*Attestation*: **Work in pairs**.  At the end of your submitted notebook, identify the work each partner performed and attest that each contributed substantially to the work.\n",
    "\n",
    "*Deadline*: Friday, November 11, 12pm.  One member of each pair must submit your notebook to Blackboard; you should not both submit it separately.  You may each push a copy to your own GitHub repository.\n",
    "\n",
    "\n",
    "## Setup - select and obtain data\n",
    "\n",
    "The US City Open Data Census has a variety of [transactional data from all over the country](http://us-city.census.okfn.org/).  Select one topic and one city from this Census, download the data, and explain your reason for this choice before proceeding.  Provide a link to the web page for the data set you've chosen.\n",
    "\n",
    "I strongly encourage you to select a dataset from among the following topics:  Crime, Property Assessment, Campaign Finance Contributions, Service Requests (311), and Web Analytics.\n",
    "\n",
    "By *transactional* data I mean records at the grain of one event per business process.  In the case of Service Requests (311), for example, that would require data at the level of each individual report of a service request.  If this isn't clear, think about the bike trip data - each individual ride was included - and look for data at that level of event/process specificity.  Avoid data like the Connecticut boating data, which was summarized by year, not individual transactions.\n",
    "\n",
    "Please aim for a dataset of at least 10,000 individual records, but less than 250,000 records.  A little more or a little less is okay, but try to stay within these limits.\n",
    "\n",
    "# Choose the dataset\n",
    "We choose to analyze the crime data of New York City. You can also access the dataset via:http://us-city.census.okfn.org/entry/newyorkcity/crime-stats. This dataset is being updated quarterly and is available at the incident level. The data set contains open crime data that helps communities make informed judgements about public safety.\n",
    "\n",
    "Firstly, we download the dataset, rename the dataset and transfer into csv look:"
   ]
  },
  {
   "cell_type": "markdown",
   "metadata": {},
   "source": [
    "## Name = \"Abhinav Chandel\" and \"Linhui Fu\""
   ]
  },
  {
   "cell_type": "code",
   "execution_count": 3,
   "metadata": {
    "collapsed": false
   },
   "outputs": [
    {
     "name": "stdout",
     "output_type": "stream",
     "text": [
      "--2016-11-11 12:16:56--  https://data.cityofnewyork.us/api/views/hyij-8hr7/rows.csv?accessType=DOWNLOAD\n",
      "Resolving data.cityofnewyork.us (data.cityofnewyork.us)... 52.206.140.199\n",
      "Connecting to data.cityofnewyork.us (data.cityofnewyork.us)|52.206.140.199|:443... connected.\n",
      "HTTP request sent, awaiting response... 200 OK\n",
      "Length: unspecified [text/csv]\n",
      "Saving to: ‘rows.csv?accessType=DOWNLOAD’\n",
      "\n",
      "rows.csv?accessType     [  <=>                 ] 185.12M  1.84MB/s   in 1m 42s \n",
      "\n",
      "Last-modified header invalid -- time-stamp ignored.\n",
      "2016-11-11 12:18:38 (1.82 MB/s) - ‘rows.csv?accessType=DOWNLOAD’ saved [194111037]\n",
      "\n"
     ]
    }
   ],
   "source": [
    "!wget https://data.cityofnewyork.us/api/views/hyij-8hr7/rows.csv?accessType=DOWNLOAD"
   ]
  },
  {
   "cell_type": "markdown",
   "metadata": {},
   "source": [
    "## Problem 1 - examine the data (20 points)\n",
    "\n",
    "Use `csvstat`, `pandas`, or other tools as you see fit and observe the contents of your dataset.  Review important points from any metadata provided.  Describe what you see:  What do the columns mean?  Are there null values?  Which columns interest you the most?  Which columns present some opportunities, challenges, or questions you would like to ask?"
   ]
  },
  {
   "cell_type": "code",
   "execution_count": 4,
   "metadata": {
    "collapsed": true
   },
   "outputs": [],
   "source": [
    "!mv rows.csv?accessType=DOWNLOAD crime.csv"
   ]
  },
  {
   "cell_type": "markdown",
   "metadata": {},
   "source": [
    "Renaming the file as crime.csv"
   ]
  },
  {
   "cell_type": "code",
   "execution_count": 5,
   "metadata": {
    "collapsed": true
   },
   "outputs": [],
   "source": [
    "!perl -pe 's;^,|,$|(?<=,),;data_n\\/a,;g' crime.csv > crime_refined.csv"
   ]
  },
  {
   "cell_type": "markdown",
   "metadata": {},
   "source": [
    "Cleaning the data, i.e replacing all the empty values by data_na"
   ]
  },
  {
   "cell_type": "code",
   "execution_count": 6,
   "metadata": {
    "collapsed": false
   },
   "outputs": [
    {
     "name": "stdout",
     "output_type": "stream",
     "text": [
      "|-----------+------------+------------------------+-------------+------------------+----------------+-----------------+-----------------+----------------+--------------+---------------+--------------------------------+------------------------+----------+----------+-----------+---------------------+-------------+-------------+----------------------------------------|\r\n",
      "|  OBJECTID | Identifier | Occurrence Date        | Day of Week | Occurrence Month | Occurrence Day | Occurrence Year | Occurrence Hour | CompStat Month | CompStat Day | CompStat Year | Offense                        | Offense Classification | Sector   | Precinct | Borough   | Jurisdiction        | XCoordinate | YCoordinate | Location 1                             |\r\n",
      "|-----------+------------+------------------------+-------------+------------------+----------------+-----------------+-----------------+----------------+--------------+---------------+--------------------------------+------------------------+----------+----------+-----------+---------------------+-------------+-------------+----------------------------------------|\r\n",
      "|  1        | f070032d   | 09/06/1940 07:30:00 PM | Friday      | Sep              | 6              | 1940            | 19              | 9              | 7            | 2010          | BURGLARY                       | FELONY                 | D        | 66       | BROOKLYN  | N.Y. POLICE DEPT    | 987478      | 166141      | (40.6227027620001, -73.9883732929999)  |\r\n",
      "|  2        | c6245d4d   | 12/14/1968 12:20:00 AM | Saturday    | Dec              | 14             | 1968            | 0               | 12             | 14           | 2008          | GRAND LARCENY                  | FELONY                 | G        | 28       | MANHATTAN | N.Y. POLICE DEPT    | 996470      | 232106      | (40.8037530600001, -73.955861904)      |\r\n",
      "|  3        | 716dbc6f   | 10/30/1970 03:30:00 PM | Friday      | Oct              | 30             | 1970            | 15              | 10             | 31           | 2008          | BURGLARY                       | FELONY                 | H        | 84       | BROOKLYN  | N.Y. POLICE DEPT    | 986508      | 190249      | (40.688874254, -73.9918594329999)      |\r\n",
      "|  4        | 638cd7b7   | 07/18/1972 11:00:00 PM | Tuesday     | Jul              | 18             | 1972            | 23              | 7              | 19           | 2012          | GRAND LARCENY OF MOTOR VEHICLE | FELONY                 | F        | 73       | BROOKLYN  | N.Y. POLICE DEPT    | 1005876     | 182440      | (40.6674141890001, -73.9220463899999)  |\r\n",
      "|  5        | 6e410287   | 05/21/1987 12:01:00 AM | Thursday    | May              | 21             | 1987            | 0               | 5              | 28           | 2009          | GRAND LARCENY                  | FELONY                 | K        | 75       | BROOKLYN  | N.Y. POLICE DEPT    | 1017958     | 182266      | (40.6668988440001, -73.878495425)      |\r\n",
      "|  6        | 7eebfe3c   | 02/01/1990 09:00:00 AM | Thursday    | Feb              | 1              | 1990            | 9               | 9              | 17           | 2014          | GRAND LARCENY                  | FELONY                 | K        | 105      | QUEENS    | N.Y. POLICE DEPT    | 1058407     | 204788      | (40.7284698170001, -73.7324430589999)  |\r\n",
      "|  7        | da21f94f   | 11/13/1990 12:01:00 AM | Tuesday     | Nov              | 13             | 1990            | 0               | 6              | 7            | 2007          | GRAND LARCENY                  | FELONY                 | data_n/a | 73       | BROOKLYN  | N.Y. HOUSING POLICE | 1010272     | 183760      | (40.671025464, -73.906195082)          |\r\n",
      "|  8        | 87c99e8c   | 02/02/1992 04:00:00 PM | Sunday      | Feb              | 2              | 1992            | 16              | 3              | 27           | 2012          | GRAND LARCENY                  | FELONY                 | data_n/a | 101      | QUEENS    | N.Y. POLICE DEPT    | 1053678     | 159044      | (40.6029515910001, -73.749976261)      |\r\n",
      "|  9        | 495f57e1   | 08/08/1994 06:00:00 PM | Monday      | Aug              | 8              | 1994            | 18              | 7              | 31           | 2008          | RAPE                           | FELONY                 | A        | 103      | QUEENS    | N.Y. POLICE DEPT    | 1041749     | 196938      | (40.707047475, -73.792611904)          |\r\n",
      "|-----------+------------+------------------------+-------------+------------------+----------------+-----------------+-----------------+----------------+--------------+---------------+--------------------------------+------------------------+----------+----------+-----------+---------------------+-------------+-------------+----------------------------------------|\r\n"
     ]
    }
   ],
   "source": [
    "!csvcut crime_refined.csv | head -10 | csvlook"
   ]
  },
  {
   "cell_type": "code",
   "execution_count": 7,
   "metadata": {
    "collapsed": false
   },
   "outputs": [
    {
     "name": "stdout",
     "output_type": "stream",
     "text": [
      "  1: OBJECTID\r\n",
      "  2: Identifier\r\n",
      "  3: Occurrence Date\r\n",
      "  4: Day of Week\r\n",
      "  5: Occurrence Month\r\n",
      "  6: Occurrence Day\r\n",
      "  7: Occurrence Year\r\n",
      "  8: Occurrence Hour\r\n",
      "  9: CompStat Month\r\n",
      " 10: CompStat Day\r\n",
      " 11: CompStat Year\r\n",
      " 12: Offense\r\n",
      " 13: Offense Classification\r\n",
      " 14: Sector\r\n",
      " 15: Precinct\r\n",
      " 16: Borough\r\n",
      " 17: Jurisdiction\r\n",
      " 18: XCoordinate\r\n",
      " 19: YCoordinate\r\n",
      " 20: Location 1\r\n"
     ]
    }
   ],
   "source": [
    "!csvcut -n crime_refined.csv"
   ]
  },
  {
   "cell_type": "markdown",
   "metadata": {},
   "source": [
    "#### Here we will post the meaning of each column:\n",
    "\n",
    "1.2: ObjectId and Identifer are unique numbers assigned to each case,\n",
    "\n",
    "3: Occurrence Date: represent the date and time when the rape offenses happen\n",
    "\n",
    "4: Day of Week: Text representation of day of week on which the incident occurred\n",
    "\n",
    "5: Occurrence Month: Three character abbreviation of month in which the incident occurred\n",
    "\n",
    "6: Occurrence Day: Integer representation of day of month in which the incident occurred\n",
    "\n",
    "7: Occurrence Year: Integer representation of year in which the incident occurred\n",
    "\n",
    "8: Occurrence Hour: Integer representation of time when the incident occurred; based on 24 hour clock\n",
    "\n",
    "9: CompStat Month: Three character abbreviation of month in which the incident was reported\n",
    "\n",
    "10: CompStat Day: Integer representation of day of month in which the incident was reported\n",
    "\n",
    "11: CompStat Year: Integer representation of year in which the incident was reported\n",
    "\n",
    "12: Offense: Type of offense; currently aligned with the FBIs seven major felonies. GLMV is \n",
    "the same as Grand Larceny of Motor Vehicle\n",
    "\n",
    "13: Offense Classification: Level of offense; felony, misdemeanor, violation\n",
    "\n",
    "14: Sector: Single character indicating patrol sector within given precinct\n",
    "\n",
    "15: Precinct: Three character representation of precinct in which incident occurred\n",
    "\n",
    "16: Borough: Text representation of borough in which incident occurred\n",
    "\n",
    "17: Jurisdiction: Internal jurisdiction responsible for incident (eg. NYPD, Transit or Housing)\n",
    "\n",
    "18: XCoordinate: X-Coordinate for New York State Plane Coordinate System, Long Island Zone, NAD 83, Units feet (FIPS 3104)\n",
    "\n",
    "19: YCoordinate: Y-Coordinate for New York State Plane Coordinate System, Long Island Zone, NAD 83, Units feet (FIPS 3104)\n",
    "\n",
    "20: location: Latitude and Longitude Coordinates of the offenses in Global Coordinate System\n",
    "\n"
   ]
  },
  {
   "cell_type": "code",
   "execution_count": 8,
   "metadata": {
    "collapsed": false
   },
   "outputs": [
    {
     "name": "stdout",
     "output_type": "stream",
     "text": [
      "1123466 crime_refined.csv\r\n"
     ]
    }
   ],
   "source": [
    "!wc -l crime_refined.csv"
   ]
  },
  {
   "cell_type": "code",
   "execution_count": 9,
   "metadata": {
    "collapsed": false
   },
   "outputs": [],
   "source": [
    "!csvcut crime_refined.csv | csvgrep -c12 -m 'RAPE' > rape.csv"
   ]
  },
  {
   "cell_type": "markdown",
   "metadata": {},
   "source": [
    "Transferring all the data regarding the offesnse of Rape into rape.csv"
   ]
  },
  {
   "cell_type": "code",
   "execution_count": 10,
   "metadata": {
    "collapsed": false
   },
   "outputs": [
    {
     "name": "stdout",
     "output_type": "stream",
     "text": [
      "  1: OBJECTID\r\n",
      "  2: Identifier\r\n",
      "  3: Occurrence Date\r\n",
      "  4: Day of Week\r\n",
      "  5: Occurrence Month\r\n",
      "  6: Occurrence Day\r\n",
      "  7: Occurrence Year\r\n",
      "  8: Occurrence Hour\r\n",
      "  9: CompStat Month\r\n",
      " 10: CompStat Day\r\n",
      " 11: CompStat Year\r\n",
      " 12: Offense\r\n",
      " 13: Offense Classification\r\n",
      " 14: Sector\r\n",
      " 15: Precinct\r\n",
      " 16: Borough\r\n",
      " 17: Jurisdiction\r\n",
      " 18: XCoordinate\r\n",
      " 19: YCoordinate\r\n",
      " 20: Location 1\r\n"
     ]
    }
   ],
   "source": [
    "!csvcut -n rape.csv "
   ]
  },
  {
   "cell_type": "code",
   "execution_count": 12,
   "metadata": {
    "collapsed": true
   },
   "outputs": [],
   "source": [
    "!csvcut -c3,4,5,6,7,8,14,15,16,17,20 rape.csv > rape_final.csv"
   ]
  },
  {
   "cell_type": "markdown",
   "metadata": {},
   "source": [
    "#### Filter the data\n",
    "Initially, we have information reagarding many types of offenses, but we only want to discuss abou the rape. Therefore, we firstly filter out information about other ofenses. We Transfer all the data regarding the offesnse of Rape into rape.csv\n",
    "\n",
    "Then, there is 20 columns, but we are not gonna use all of them. we extract the columns that we are interested in -- Colums that shows the time, authority and the location of rape offenses. The reason that we are interested in these information is because we can use these 3 dimension to describe the geolocation of rape offense by time, district, authority.\n",
    "Then we transer the subset into csvlook.\n",
    "\n",
    "We plan to remove the ObjectID, IDdentifier as they are will not help us in any data analysis, Also removing the offense table as all of them are RAPE and offense classification as all of them are felony. Also removing CompStat as it is the time when the data was entered into the NY map system.\n"
   ]
  },
  {
   "cell_type": "code",
   "execution_count": 13,
   "metadata": {
    "collapsed": false
   },
   "outputs": [
    {
     "name": "stdout",
     "output_type": "stream",
     "text": [
      "  1: Occurrence Date\r\n",
      "  2: Day of Week\r\n",
      "  3: Occurrence Month\r\n",
      "  4: Occurrence Day\r\n",
      "  5: Occurrence Year\r\n",
      "  6: Occurrence Hour\r\n",
      "  7: Sector\r\n",
      "  8: Precinct\r\n",
      "  9: Borough\r\n",
      " 10: Jurisdiction\r\n",
      " 11: Location 1\r\n"
     ]
    }
   ],
   "source": [
    "!csvcut -n rape_final.csv "
   ]
  },
  {
   "cell_type": "markdown",
   "metadata": {},
   "source": [
    "#### In this dataset, there are null values in some colums:\n",
    "\n",
    "1.Occurrence Date\n",
    "\n",
    "2.Day of Week\n",
    "\n",
    "3.Occurrence Month\n",
    "\n",
    "4.Occurrence Day\n",
    "\n",
    "5.Occurrence Year\n",
    "\n",
    "6.Occurrence Hour\n",
    "\n",
    "7.Sector\n",
    "\n",
    "However we cleaned the data and replaced them with data_n/a in the start.\n",
    " \n",
    "#### We are using these data to answer following questions:\n",
    "1.What's the specific geolocation of rape by time?\n",
    "\n",
    "2.What's the specific geolocation of rape by authoriy?\n",
    "\n",
    "3.What's the specific geolocation of rape by district?"
   ]
  },
  {
   "cell_type": "markdown",
   "metadata": {},
   "source": [
    "## Problem 2 - define a database model, load the data, and explore (20 points)\n",
    "\n",
    "Based on what you found above, create and connect to a new database, define a database table in it, and load this dataset into it.  You may use either of the methods for this step you have seen in earlier class notebooks.  You may choose to eliminate variables/columns if they are not relevant or interesting to you - explain your reasoning if you do.  Either way, you should load a majority of the columns present in the source dataset as it is in its raw form into the database, and all of its rows.\n",
    "\n",
    "Once your data has loaded successfully, run a `COUNT(*)` query to verify that all the data has loaded correctly.\n",
    "\n",
    "Explore the data to zero in on a few themes you would like to further study analytically.  Discuss columns that present opportunities for extraction into dimensions, and identify the specific columns that contain facts you want to measure."
   ]
  },
  {
   "cell_type": "code",
   "execution_count": 14,
   "metadata": {
    "collapsed": false
   },
   "outputs": [
    {
     "name": "stderr",
     "output_type": "stream",
     "text": [
      "/opt/conda/lib/python3.5/site-packages/IPython/config.py:13: ShimWarning: The `IPython.config` package has been deprecated. You should import from traitlets.config instead.\n",
      "  \"You should import from traitlets.config instead.\", ShimWarning)\n",
      "/opt/conda/lib/python3.5/site-packages/IPython/utils/traitlets.py:5: UserWarning: IPython.utils.traitlets has moved to a top-level traitlets package.\n",
      "  warn(\"IPython.utils.traitlets has moved to a top-level traitlets package.\")\n"
     ]
    }
   ],
   "source": [
    "%reload_ext sql"
   ]
  },
  {
   "cell_type": "code",
   "execution_count": 15,
   "metadata": {
    "collapsed": false
   },
   "outputs": [
    {
     "name": "stdout",
     "output_type": "stream",
     "text": [
      "[sudo] password for jovyan: Restarting PostgreSQL 9.5 database server: main.\n"
     ]
    }
   ],
   "source": [
    "!echo 'redspot' | sudo -S service postgresql restart"
   ]
  },
  {
   "cell_type": "code",
   "execution_count": 16,
   "metadata": {
    "collapsed": false
   },
   "outputs": [],
   "source": [
    "!createdb -U dbuser Project21"
   ]
  },
  {
   "cell_type": "code",
   "execution_count": 17,
   "metadata": {
    "collapsed": false
   },
   "outputs": [
    {
     "data": {
      "text/plain": [
       "'Connected: dbuser@Project21'"
      ]
     },
     "execution_count": 17,
     "metadata": {},
     "output_type": "execute_result"
    }
   ],
   "source": [
    "%sql postgresql://dbuser@localhost:5432/Project21"
   ]
  },
  {
   "cell_type": "code",
   "execution_count": 18,
   "metadata": {
    "collapsed": false
   },
   "outputs": [
    {
     "name": "stdout",
     "output_type": "stream",
     "text": [
      "Done.\n",
      "Done.\n"
     ]
    },
    {
     "data": {
      "text/plain": [
       "[]"
      ]
     },
     "execution_count": 18,
     "metadata": {},
     "output_type": "execute_result"
    }
   ],
   "source": [
    "%%sql\n",
    "DROP TABLE IF EXISTS rapecrimes;\n",
    "CREATE TABLE rapecrimes (\n",
    "    date CHAR(25),\n",
    "    day CHAR(9),\n",
    "    month CHAR(10),\n",
    "    day_n CHAR(10),\n",
    "    year CHAR(10),\n",
    "    hour CHAR(5),\n",
    "    sector CHAR(10),\n",
    "    precint INT,\n",
    "    borough CHAR(19),\n",
    "    jur char(19),\n",
    "    location POINT\n",
    "    )\n"
   ]
  },
  {
   "cell_type": "markdown",
   "metadata": {},
   "source": [
    "Creating the source table which has all our data."
   ]
  },
  {
   "cell_type": "code",
   "execution_count": 19,
   "metadata": {
    "collapsed": false
   },
   "outputs": [
    {
     "name": "stdout",
     "output_type": "stream",
     "text": [
      "13779 rows affected.\n"
     ]
    },
    {
     "data": {
      "text/plain": [
       "[]"
      ]
     },
     "execution_count": 19,
     "metadata": {},
     "output_type": "execute_result"
    }
   ],
   "source": [
    "%%sql\n",
    "COPY rapecrimes FROM '/home/jovyan/work/rape_final.csv'\n",
    "CSV\n",
    "HEADER\n",
    "QUOTE '\"'\n",
    "DELIMITER ',';"
   ]
  },
  {
   "cell_type": "markdown",
   "metadata": {},
   "source": [
    "Copying the data from the csv to the sql table"
   ]
  },
  {
   "cell_type": "code",
   "execution_count": 20,
   "metadata": {
    "collapsed": false
   },
   "outputs": [
    {
     "name": "stdout",
     "output_type": "stream",
     "text": [
      "1 rows affected.\n"
     ]
    },
    {
     "data": {
      "text/html": [
       "<table>\n",
       "    <tr>\n",
       "        <th>count</th>\n",
       "    </tr>\n",
       "    <tr>\n",
       "        <td>13779</td>\n",
       "    </tr>\n",
       "</table>"
      ],
      "text/plain": [
       "[(13779,)]"
      ]
     },
     "execution_count": 20,
     "metadata": {},
     "output_type": "execute_result"
    }
   ],
   "source": [
    "%%sql\n",
    "SELECT count(*) FROM rapecrimes"
   ]
  },
  {
   "cell_type": "markdown",
   "metadata": {},
   "source": [
    "All the data has been transferred"
   ]
  },
  {
   "cell_type": "code",
   "execution_count": 21,
   "metadata": {
    "collapsed": false
   },
   "outputs": [
    {
     "name": "stdout",
     "output_type": "stream",
     "text": [
      "3 rows affected.\n"
     ]
    },
    {
     "data": {
      "text/html": [
       "<table>\n",
       "    <tr>\n",
       "        <th>date</th>\n",
       "        <th>day</th>\n",
       "        <th>month</th>\n",
       "        <th>day_n</th>\n",
       "        <th>year</th>\n",
       "        <th>hour</th>\n",
       "        <th>sector</th>\n",
       "        <th>precint</th>\n",
       "        <th>borough</th>\n",
       "        <th>jur</th>\n",
       "        <th>location</th>\n",
       "    </tr>\n",
       "    <tr>\n",
       "        <td>08/08/1994 06:00:00 PM   </td>\n",
       "        <td>Monday   </td>\n",
       "        <td>Aug       </td>\n",
       "        <td>8         </td>\n",
       "        <td>1994      </td>\n",
       "        <td>18   </td>\n",
       "        <td>A         </td>\n",
       "        <td>103</td>\n",
       "        <td>QUEENS             </td>\n",
       "        <td>N.Y. POLICE DEPT   </td>\n",
       "        <td>(40.707047475,-73.792611904)</td>\n",
       "    </tr>\n",
       "    <tr>\n",
       "        <td>02/01/1995 08:00:00 AM   </td>\n",
       "        <td>Wednesday</td>\n",
       "        <td>Feb       </td>\n",
       "        <td>1         </td>\n",
       "        <td>1995      </td>\n",
       "        <td>8    </td>\n",
       "        <td>G         </td>\n",
       "        <td>83</td>\n",
       "        <td>BROOKLYN           </td>\n",
       "        <td>N.Y. POLICE DEPT   </td>\n",
       "        <td>(40.697963515,-73.9180833619999)</td>\n",
       "    </tr>\n",
       "    <tr>\n",
       "        <td>01/09/2000 08:00:00 PM   </td>\n",
       "        <td>Sunday   </td>\n",
       "        <td>Jan       </td>\n",
       "        <td>9         </td>\n",
       "        <td>2000      </td>\n",
       "        <td>20   </td>\n",
       "        <td>G         </td>\n",
       "        <td>108</td>\n",
       "        <td>QUEENS             </td>\n",
       "        <td>N.Y. POLICE DEPT   </td>\n",
       "        <td>(40.7430801680001,-73.954736461)</td>\n",
       "    </tr>\n",
       "</table>"
      ],
      "text/plain": [
       "[('08/08/1994 06:00:00 PM   ', 'Monday   ', 'Aug       ', '8         ', '1994      ', '18   ', 'A         ', 103, 'QUEENS             ', 'N.Y. POLICE DEPT   ', '(40.707047475,-73.792611904)'),\n",
       " ('02/01/1995 08:00:00 AM   ', 'Wednesday', 'Feb       ', '1         ', '1995      ', '8    ', 'G         ', 83, 'BROOKLYN           ', 'N.Y. POLICE DEPT   ', '(40.697963515,-73.9180833619999)'),\n",
       " ('01/09/2000 08:00:00 PM   ', 'Sunday   ', 'Jan       ', '9         ', '2000      ', '20   ', 'G         ', 108, 'QUEENS             ', 'N.Y. POLICE DEPT   ', '(40.7430801680001,-73.954736461)')]"
      ]
     },
     "execution_count": 21,
     "metadata": {},
     "output_type": "execute_result"
    }
   ],
   "source": [
    "%%sql\n",
    "SELECT * FROM rapecrimes\n",
    "LIMIT 3"
   ]
  },
  {
   "cell_type": "markdown",
   "metadata": {},
   "source": [
    "The date,month, day_n, year,hour are time related and combine into one dimension, which can tell us a lot about the occurence of the crime.\n",
    "\n",
    "We can find out on which days the maximum occurences have happened, or what is the trend of the occurences year by year. In a day what time is more prone to these occurences. Or is all of it just extremely random.\n",
    "\n",
    "The sector and borough coloumns are also pretty interesting as it tells us which areas are more prone to the occurences and hence need more protection.\n",
    "\n",
    "Also the precint and jurisdiction tells us under whose authority does the offence fall, and can tell us the load work of these authorities.\n",
    "\n",
    "The location is the occurence of the crime, and is a countable value.\n",
    "\n",
    "Exploring the data graphically below."
   ]
  },
  {
   "cell_type": "markdown",
   "metadata": {},
   "source": [
    "### Now we will do some simple queries:\n",
    "\n",
    "#### 1. In which years does the rape tend to happen most frequently?"
   ]
  },
  {
   "cell_type": "code",
   "execution_count": 22,
   "metadata": {
    "collapsed": false
   },
   "outputs": [
    {
     "name": "stdout",
     "output_type": "stream",
     "text": [
      "31 rows affected.\n"
     ]
    },
    {
     "data": {
      "text/html": [
       "<table>\n",
       "    <tr>\n",
       "        <th>year</th>\n",
       "        <th>count</th>\n",
       "    </tr>\n",
       "    <tr>\n",
       "        <td>data_n/a  </td>\n",
       "        <td>3</td>\n",
       "    </tr>\n",
       "    <tr>\n",
       "        <td>2015      </td>\n",
       "        <td>1156</td>\n",
       "    </tr>\n",
       "    <tr>\n",
       "        <td>2014      </td>\n",
       "        <td>1204</td>\n",
       "    </tr>\n",
       "    <tr>\n",
       "        <td>2013      </td>\n",
       "        <td>1294</td>\n",
       "    </tr>\n",
       "    <tr>\n",
       "        <td>2012      </td>\n",
       "        <td>1372</td>\n",
       "    </tr>\n",
       "    <tr>\n",
       "        <td>2011      </td>\n",
       "        <td>1382</td>\n",
       "    </tr>\n",
       "    <tr>\n",
       "        <td>2010      </td>\n",
       "        <td>1351</td>\n",
       "    </tr>\n",
       "    <tr>\n",
       "        <td>2009      </td>\n",
       "        <td>1175</td>\n",
       "    </tr>\n",
       "    <tr>\n",
       "        <td>2008      </td>\n",
       "        <td>1255</td>\n",
       "    </tr>\n",
       "    <tr>\n",
       "        <td>2007      </td>\n",
       "        <td>1265</td>\n",
       "    </tr>\n",
       "    <tr>\n",
       "        <td>2006      </td>\n",
       "        <td>1520</td>\n",
       "    </tr>\n",
       "    <tr>\n",
       "        <td>2005      </td>\n",
       "        <td>308</td>\n",
       "    </tr>\n",
       "    <tr>\n",
       "        <td>2004      </td>\n",
       "        <td>115</td>\n",
       "    </tr>\n",
       "    <tr>\n",
       "        <td>2003      </td>\n",
       "        <td>99</td>\n",
       "    </tr>\n",
       "    <tr>\n",
       "        <td>2002      </td>\n",
       "        <td>60</td>\n",
       "    </tr>\n",
       "    <tr>\n",
       "        <td>2001      </td>\n",
       "        <td>57</td>\n",
       "    </tr>\n",
       "    <tr>\n",
       "        <td>2000      </td>\n",
       "        <td>42</td>\n",
       "    </tr>\n",
       "    <tr>\n",
       "        <td>1999      </td>\n",
       "        <td>37</td>\n",
       "    </tr>\n",
       "    <tr>\n",
       "        <td>1998      </td>\n",
       "        <td>25</td>\n",
       "    </tr>\n",
       "    <tr>\n",
       "        <td>1997      </td>\n",
       "        <td>15</td>\n",
       "    </tr>\n",
       "    <tr>\n",
       "        <td>1996      </td>\n",
       "        <td>12</td>\n",
       "    </tr>\n",
       "    <tr>\n",
       "        <td>1995      </td>\n",
       "        <td>5</td>\n",
       "    </tr>\n",
       "    <tr>\n",
       "        <td>1994      </td>\n",
       "        <td>6</td>\n",
       "    </tr>\n",
       "    <tr>\n",
       "        <td>1993      </td>\n",
       "        <td>11</td>\n",
       "    </tr>\n",
       "    <tr>\n",
       "        <td>1992      </td>\n",
       "        <td>3</td>\n",
       "    </tr>\n",
       "    <tr>\n",
       "        <td>1991      </td>\n",
       "        <td>1</td>\n",
       "    </tr>\n",
       "    <tr>\n",
       "        <td>1990      </td>\n",
       "        <td>1</td>\n",
       "    </tr>\n",
       "    <tr>\n",
       "        <td>1989      </td>\n",
       "        <td>2</td>\n",
       "    </tr>\n",
       "    <tr>\n",
       "        <td>1988      </td>\n",
       "        <td>1</td>\n",
       "    </tr>\n",
       "    <tr>\n",
       "        <td>1978      </td>\n",
       "        <td>1</td>\n",
       "    </tr>\n",
       "    <tr>\n",
       "        <td>1975      </td>\n",
       "        <td>1</td>\n",
       "    </tr>\n",
       "</table>"
      ],
      "text/plain": [
       "[('data_n/a  ', 3),\n",
       " ('2015      ', 1156),\n",
       " ('2014      ', 1204),\n",
       " ('2013      ', 1294),\n",
       " ('2012      ', 1372),\n",
       " ('2011      ', 1382),\n",
       " ('2010      ', 1351),\n",
       " ('2009      ', 1175),\n",
       " ('2008      ', 1255),\n",
       " ('2007      ', 1265),\n",
       " ('2006      ', 1520),\n",
       " ('2005      ', 308),\n",
       " ('2004      ', 115),\n",
       " ('2003      ', 99),\n",
       " ('2002      ', 60),\n",
       " ('2001      ', 57),\n",
       " ('2000      ', 42),\n",
       " ('1999      ', 37),\n",
       " ('1998      ', 25),\n",
       " ('1997      ', 15),\n",
       " ('1996      ', 12),\n",
       " ('1995      ', 5),\n",
       " ('1994      ', 6),\n",
       " ('1993      ', 11),\n",
       " ('1992      ', 3),\n",
       " ('1991      ', 1),\n",
       " ('1990      ', 1),\n",
       " ('1989      ', 2),\n",
       " ('1988      ', 1),\n",
       " ('1978      ', 1),\n",
       " ('1975      ', 1)]"
      ]
     },
     "execution_count": 22,
     "metadata": {},
     "output_type": "execute_result"
    }
   ],
   "source": [
    "%%sql\n",
    "select year,count(*) from rapecrimes\n",
    "GROUP BY year\n",
    "ORDER BY year DESC"
   ]
  },
  {
   "cell_type": "code",
   "execution_count": 23,
   "metadata": {
    "collapsed": false
   },
   "outputs": [
    {
     "name": "stderr",
     "output_type": "stream",
     "text": [
      "/opt/conda/lib/python3.5/site-packages/matplotlib/font_manager.py:273: UserWarning: Matplotlib is building the font cache using fc-list. This may take a moment.\n",
      "  warnings.warn('Matplotlib is building the font cache using fc-list. This may take a moment.')\n",
      "/opt/conda/lib/python3.5/site-packages/matplotlib/font_manager.py:273: UserWarning: Matplotlib is building the font cache using fc-list. This may take a moment.\n",
      "  warnings.warn('Matplotlib is building the font cache using fc-list. This may take a moment.')\n"
     ]
    },
    {
     "data": {
      "text/plain": [
       "<Container object of 31 artists>"
      ]
     },
     "execution_count": 23,
     "metadata": {},
     "output_type": "execute_result"
    },
    {
     "data": {
      "image/png": "[encoded data removed]",
      "text/plain": [
       "<matplotlib.figure.Figure at 0x7ff73eab4fd0>"
      ]
     },
     "metadata": {},
     "output_type": "display_data"
    }
   ],
   "source": [
    "%matplotlib inline\n",
    "result = _\n",
    "result.bar()"
   ]
  },
  {
   "cell_type": "markdown",
   "metadata": {},
   "source": [
    "#### 2. In which day of the week does the rape tend to happen most frequently?"
   ]
  },
  {
   "cell_type": "code",
   "execution_count": 24,
   "metadata": {
    "collapsed": false
   },
   "outputs": [
    {
     "name": "stdout",
     "output_type": "stream",
     "text": [
      "8 rows affected.\n"
     ]
    },
    {
     "data": {
      "text/html": [
       "<table>\n",
       "    <tr>\n",
       "        <th>day</th>\n",
       "        <th>count</th>\n",
       "    </tr>\n",
       "    <tr>\n",
       "        <td>Saturday </td>\n",
       "        <td>2312</td>\n",
       "    </tr>\n",
       "    <tr>\n",
       "        <td>Sunday   </td>\n",
       "        <td>2255</td>\n",
       "    </tr>\n",
       "    <tr>\n",
       "        <td>Friday   </td>\n",
       "        <td>2067</td>\n",
       "    </tr>\n",
       "    <tr>\n",
       "        <td>Monday   </td>\n",
       "        <td>1831</td>\n",
       "    </tr>\n",
       "    <tr>\n",
       "        <td>Thursday </td>\n",
       "        <td>1776</td>\n",
       "    </tr>\n",
       "    <tr>\n",
       "        <td>Wednesday</td>\n",
       "        <td>1769</td>\n",
       "    </tr>\n",
       "    <tr>\n",
       "        <td>Tuesday  </td>\n",
       "        <td>1768</td>\n",
       "    </tr>\n",
       "    <tr>\n",
       "        <td>data_n/a </td>\n",
       "        <td>1</td>\n",
       "    </tr>\n",
       "</table>"
      ],
      "text/plain": [
       "[('Saturday ', 2312),\n",
       " ('Sunday   ', 2255),\n",
       " ('Friday   ', 2067),\n",
       " ('Monday   ', 1831),\n",
       " ('Thursday ', 1776),\n",
       " ('Wednesday', 1769),\n",
       " ('Tuesday  ', 1768),\n",
       " ('data_n/a ', 1)]"
      ]
     },
     "execution_count": 24,
     "metadata": {},
     "output_type": "execute_result"
    }
   ],
   "source": [
    "%%sql\n",
    "SELECT day,count(*) FROM rapecrimes\n",
    "GROUP BY day\n",
    "ORDER BY count desc"
   ]
  },
  {
   "cell_type": "code",
   "execution_count": 25,
   "metadata": {
    "collapsed": false
   },
   "outputs": [
    {
     "data": {
      "text/plain": [
       "<Container object of 8 artists>"
      ]
     },
     "execution_count": 25,
     "metadata": {},
     "output_type": "execute_result"
    },
    {
     "data": {
      "image/png": "[encoded data removed]",
      "text/plain": [
       "<matplotlib.figure.Figure at 0x7ff73eab4f60>"
      ]
     },
     "metadata": {},
     "output_type": "display_data"
    }
   ],
   "source": [
    "%matplotlib inline\n",
    "result = _\n",
    "result.bar()"
   ]
  },
  {
   "cell_type": "markdown",
   "metadata": {},
   "source": [
    "#### 3. In which area does the rape tend to happen most frequently?"
   ]
  },
  {
   "cell_type": "code",
   "execution_count": 26,
   "metadata": {
    "collapsed": false
   },
   "outputs": [
    {
     "name": "stdout",
     "output_type": "stream",
     "text": [
      "5 rows affected.\n"
     ]
    },
    {
     "data": {
      "text/html": [
       "<table>\n",
       "    <tr>\n",
       "        <th>borough</th>\n",
       "        <th>count</th>\n",
       "    </tr>\n",
       "    <tr>\n",
       "        <td>BROOKLYN           </td>\n",
       "        <td>4097</td>\n",
       "    </tr>\n",
       "    <tr>\n",
       "        <td>QUEENS             </td>\n",
       "        <td>3182</td>\n",
       "    </tr>\n",
       "    <tr>\n",
       "        <td>BRONX              </td>\n",
       "        <td>3018</td>\n",
       "    </tr>\n",
       "    <tr>\n",
       "        <td>MANHATTAN          </td>\n",
       "        <td>2941</td>\n",
       "    </tr>\n",
       "    <tr>\n",
       "        <td>STATEN ISLAND      </td>\n",
       "        <td>541</td>\n",
       "    </tr>\n",
       "</table>"
      ],
      "text/plain": [
       "[('BROOKLYN           ', 4097),\n",
       " ('QUEENS             ', 3182),\n",
       " ('BRONX              ', 3018),\n",
       " ('MANHATTAN          ', 2941),\n",
       " ('STATEN ISLAND      ', 541)]"
      ]
     },
     "execution_count": 26,
     "metadata": {},
     "output_type": "execute_result"
    }
   ],
   "source": [
    "%%sql\n",
    "SELECT borough,count(*) FROM rapecrimes\n",
    "GROUP BY borough\n",
    "ORDER BY count desc"
   ]
  },
  {
   "cell_type": "code",
   "execution_count": 27,
   "metadata": {
    "collapsed": false
   },
   "outputs": [
    {
     "data": {
      "text/plain": [
       "<Container object of 5 artists>"
      ]
     },
     "execution_count": 27,
     "metadata": {},
     "output_type": "execute_result"
    },
    {
     "data": {
      "image/png": "[encoded data removed]",
      "text/plain": [
       "<matplotlib.figure.Figure at 0x7ff73e838940>"
      ]
     },
     "metadata": {},
     "output_type": "display_data"
    }
   ],
   "source": [
    "%matplotlib inline\n",
    "result = _\n",
    "result.bar()"
   ]
  },
  {
   "cell_type": "markdown",
   "metadata": {},
   "source": [
    "## Problem 3 - define a star schema, and load your data into it (30 points)\n",
    "\n",
    "Define a star schema consisting of at least one fact table and at least two dimensions.  Transform your source data into the new fact table and dimensions.  Discuss your key modeling decisions.\n",
    "\n",
    "Document your star schema with a diagram.  There several tools available for this, such as Google Docs and Microsoft Visio."
   ]
  },
  {
   "cell_type": "markdown",
   "metadata": {},
   "source": [
    "#### Star Schema Design\n",
    "\n",
    "On basis of the above exploration our model consists of one fact and two dimension tables. The fact table has the co-ordinates of the location where the offense occured, The dimesnion tables are as follows:\n",
    "1. Location : Consists of the sector and borough where the offense happened \n",
    "2. Authority : Under whose authority is the offense occured\n",
    "2. Time : The complete time history of the occurening of the offense\n",
    "\n"
   ]
  },
  {
   "cell_type": "code",
   "execution_count": 28,
   "metadata": {
    "collapsed": false
   },
   "outputs": [
    {
     "data": {
      "image/png": "[encoded data removed]",
      "text/plain": [
       "<IPython.core.display.Image object>"
      ]
     },
     "execution_count": 28,
     "metadata": {},
     "output_type": "execute_result"
    }
   ],
   "source": [
    "from IPython.display import Image\n",
    "Image(filename='Star.png')"
   ]
  },
  {
   "cell_type": "code",
   "execution_count": 29,
   "metadata": {
    "collapsed": false
   },
   "outputs": [
    {
     "name": "stdout",
     "output_type": "stream",
     "text": [
      "3 rows affected.\n"
     ]
    },
    {
     "data": {
      "text/html": [
       "<table>\n",
       "    <tr>\n",
       "        <th>date</th>\n",
       "        <th>day</th>\n",
       "        <th>month</th>\n",
       "        <th>day_n</th>\n",
       "        <th>year</th>\n",
       "        <th>hour</th>\n",
       "        <th>sector</th>\n",
       "        <th>precint</th>\n",
       "        <th>borough</th>\n",
       "        <th>jur</th>\n",
       "        <th>location</th>\n",
       "    </tr>\n",
       "    <tr>\n",
       "        <td>08/08/1994 06:00:00 PM   </td>\n",
       "        <td>Monday   </td>\n",
       "        <td>Aug       </td>\n",
       "        <td>8         </td>\n",
       "        <td>1994      </td>\n",
       "        <td>18   </td>\n",
       "        <td>A         </td>\n",
       "        <td>103</td>\n",
       "        <td>QUEENS             </td>\n",
       "        <td>N.Y. POLICE DEPT   </td>\n",
       "        <td>(40.707047475,-73.792611904)</td>\n",
       "    </tr>\n",
       "    <tr>\n",
       "        <td>02/01/1995 08:00:00 AM   </td>\n",
       "        <td>Wednesday</td>\n",
       "        <td>Feb       </td>\n",
       "        <td>1         </td>\n",
       "        <td>1995      </td>\n",
       "        <td>8    </td>\n",
       "        <td>G         </td>\n",
       "        <td>83</td>\n",
       "        <td>BROOKLYN           </td>\n",
       "        <td>N.Y. POLICE DEPT   </td>\n",
       "        <td>(40.697963515,-73.9180833619999)</td>\n",
       "    </tr>\n",
       "    <tr>\n",
       "        <td>01/09/2000 08:00:00 PM   </td>\n",
       "        <td>Sunday   </td>\n",
       "        <td>Jan       </td>\n",
       "        <td>9         </td>\n",
       "        <td>2000      </td>\n",
       "        <td>20   </td>\n",
       "        <td>G         </td>\n",
       "        <td>108</td>\n",
       "        <td>QUEENS             </td>\n",
       "        <td>N.Y. POLICE DEPT   </td>\n",
       "        <td>(40.7430801680001,-73.954736461)</td>\n",
       "    </tr>\n",
       "</table>"
      ],
      "text/plain": [
       "[('08/08/1994 06:00:00 PM   ', 'Monday   ', 'Aug       ', '8         ', '1994      ', '18   ', 'A         ', 103, 'QUEENS             ', 'N.Y. POLICE DEPT   ', '(40.707047475,-73.792611904)'),\n",
       " ('02/01/1995 08:00:00 AM   ', 'Wednesday', 'Feb       ', '1         ', '1995      ', '8    ', 'G         ', 83, 'BROOKLYN           ', 'N.Y. POLICE DEPT   ', '(40.697963515,-73.9180833619999)'),\n",
       " ('01/09/2000 08:00:00 PM   ', 'Sunday   ', 'Jan       ', '9         ', '2000      ', '20   ', 'G         ', 108, 'QUEENS             ', 'N.Y. POLICE DEPT   ', '(40.7430801680001,-73.954736461)')]"
      ]
     },
     "execution_count": 29,
     "metadata": {},
     "output_type": "execute_result"
    }
   ],
   "source": [
    "%%sql\n",
    "select * from rapecrimes\n",
    "LIMIT 3;"
   ]
  },
  {
   "cell_type": "code",
   "execution_count": 30,
   "metadata": {
    "collapsed": false
   },
   "outputs": [
    {
     "name": "stdout",
     "output_type": "stream",
     "text": [
      "Done.\n",
      "Done.\n"
     ]
    },
    {
     "data": {
      "text/plain": [
       "[]"
      ]
     },
     "execution_count": 30,
     "metadata": {},
     "output_type": "execute_result"
    }
   ],
   "source": [
    "%%sql\n",
    "DROP TABLE IF EXISTS location_D;\n",
    "CREATE TABLE location_D(\n",
    "    sector CHAR(10),\n",
    "    borough CHAR(19)\n",
    ");"
   ]
  },
  {
   "cell_type": "markdown",
   "metadata": {},
   "source": [
    "Creating the location Dimension Table"
   ]
  },
  {
   "cell_type": "code",
   "execution_count": 31,
   "metadata": {
    "collapsed": false
   },
   "outputs": [
    {
     "name": "stdout",
     "output_type": "stream",
     "text": [
      "98 rows affected.\n"
     ]
    },
    {
     "data": {
      "text/plain": [
       "[]"
      ]
     },
     "execution_count": 31,
     "metadata": {},
     "output_type": "execute_result"
    }
   ],
   "source": [
    "%%sql\n",
    "INSERT INTO location_D\n",
    "SELECT DISTINCT sector,borough from rapecrimes;"
   ]
  },
  {
   "cell_type": "markdown",
   "metadata": {},
   "source": [
    "Inserting data from the source table to the dimension table"
   ]
  },
  {
   "cell_type": "code",
   "execution_count": 32,
   "metadata": {
    "collapsed": false
   },
   "outputs": [
    {
     "name": "stdout",
     "output_type": "stream",
     "text": [
      "Done.\n"
     ]
    },
    {
     "data": {
      "text/plain": [
       "[]"
      ]
     },
     "execution_count": 32,
     "metadata": {},
     "output_type": "execute_result"
    }
   ],
   "source": [
    "%%sql\n",
    "ALTER TABLE location_D\n",
    "ADD COLUMN location_id SERIAL PRIMARY KEY;\n"
   ]
  },
  {
   "cell_type": "markdown",
   "metadata": {},
   "source": [
    "Adding a primary key which is unique to every row and will increment on addition of a new observation"
   ]
  },
  {
   "cell_type": "code",
   "execution_count": 33,
   "metadata": {
    "collapsed": false
   },
   "outputs": [
    {
     "name": "stdout",
     "output_type": "stream",
     "text": [
      "5 rows affected.\n"
     ]
    },
    {
     "data": {
      "text/html": [
       "<table>\n",
       "    <tr>\n",
       "        <th>sector</th>\n",
       "        <th>borough</th>\n",
       "        <th>location_id</th>\n",
       "    </tr>\n",
       "    <tr>\n",
       "        <td>data_n/a  </td>\n",
       "        <td>BRONX              </td>\n",
       "        <td>1</td>\n",
       "    </tr>\n",
       "    <tr>\n",
       "        <td>C         </td>\n",
       "        <td>MANHATTAN          </td>\n",
       "        <td>2</td>\n",
       "    </tr>\n",
       "    <tr>\n",
       "        <td>A         </td>\n",
       "        <td>STATEN ISLAND      </td>\n",
       "        <td>3</td>\n",
       "    </tr>\n",
       "    <tr>\n",
       "        <td>T         </td>\n",
       "        <td>QUEENS             </td>\n",
       "        <td>4</td>\n",
       "    </tr>\n",
       "    <tr>\n",
       "        <td>Q         </td>\n",
       "        <td>STATEN ISLAND      </td>\n",
       "        <td>5</td>\n",
       "    </tr>\n",
       "</table>"
      ],
      "text/plain": [
       "[('data_n/a  ', 'BRONX              ', 1),\n",
       " ('C         ', 'MANHATTAN          ', 2),\n",
       " ('A         ', 'STATEN ISLAND      ', 3),\n",
       " ('T         ', 'QUEENS             ', 4),\n",
       " ('Q         ', 'STATEN ISLAND      ', 5)]"
      ]
     },
     "execution_count": 33,
     "metadata": {},
     "output_type": "execute_result"
    }
   ],
   "source": [
    "%%sql\n",
    "select * from location_D LIMIT 5"
   ]
  },
  {
   "cell_type": "code",
   "execution_count": 34,
   "metadata": {
    "collapsed": false
   },
   "outputs": [
    {
     "name": "stdout",
     "output_type": "stream",
     "text": [
      "Done.\n",
      "Done.\n"
     ]
    },
    {
     "data": {
      "text/plain": [
       "[]"
      ]
     },
     "execution_count": 34,
     "metadata": {},
     "output_type": "execute_result"
    }
   ],
   "source": [
    "%%sql\n",
    "DROP TABLE IF EXISTS time_D;\n",
    "CREATE TABLE time_D (\n",
    "    date CHAR(25),\n",
    "    day CHAR(10),\n",
    "    month CHAR(10),\n",
    "    day_n CHAR(10),\n",
    "    year CHAR(10),\n",
    "    hour CHAR(10)\n",
    "    )"
   ]
  },
  {
   "cell_type": "markdown",
   "metadata": {},
   "source": [
    "Creating the time dimension table"
   ]
  },
  {
   "cell_type": "code",
   "execution_count": 35,
   "metadata": {
    "collapsed": false
   },
   "outputs": [
    {
     "name": "stdout",
     "output_type": "stream",
     "text": [
      "12561 rows affected.\n"
     ]
    },
    {
     "data": {
      "text/plain": [
       "[]"
      ]
     },
     "execution_count": 35,
     "metadata": {},
     "output_type": "execute_result"
    }
   ],
   "source": [
    "%%sql\n",
    "INSERT INTO time_D\n",
    "SELECT DISTINCT date,day,month,day_n,year,hour from rapecrimes;"
   ]
  },
  {
   "cell_type": "markdown",
   "metadata": {},
   "source": [
    "Copying data from the source table to the time dimension table"
   ]
  },
  {
   "cell_type": "code",
   "execution_count": 36,
   "metadata": {
    "collapsed": false
   },
   "outputs": [
    {
     "name": "stdout",
     "output_type": "stream",
     "text": [
      "Done.\n"
     ]
    },
    {
     "data": {
      "text/plain": [
       "[]"
      ]
     },
     "execution_count": 36,
     "metadata": {},
     "output_type": "execute_result"
    }
   ],
   "source": [
    "%%sql\n",
    "ALTER TABLE time_D\n",
    "ADD COLUMN time_id SERIAL PRIMARY KEY;"
   ]
  },
  {
   "cell_type": "markdown",
   "metadata": {},
   "source": [
    "Creating a primary key time_id which is unique for every row and will be included in a new observatiomn set post incrementing"
   ]
  },
  {
   "cell_type": "code",
   "execution_count": 37,
   "metadata": {
    "collapsed": false
   },
   "outputs": [
    {
     "name": "stdout",
     "output_type": "stream",
     "text": [
      "Done.\n",
      "Done.\n"
     ]
    },
    {
     "data": {
      "text/plain": [
       "[]"
      ]
     },
     "execution_count": 37,
     "metadata": {},
     "output_type": "execute_result"
    }
   ],
   "source": [
    "%%sql\n",
    "DROP TABLE IF EXISTS authority_D;\n",
    "CREATE TABLE authority_D(\n",
    "    precint INT,\n",
    "    jur CHAR(19)\n",
    ");"
   ]
  },
  {
   "cell_type": "markdown",
   "metadata": {},
   "source": [
    "Creating the authority dimension table"
   ]
  },
  {
   "cell_type": "code",
   "execution_count": 38,
   "metadata": {
    "collapsed": false
   },
   "outputs": [
    {
     "name": "stdout",
     "output_type": "stream",
     "text": [
      "198 rows affected.\n"
     ]
    },
    {
     "data": {
      "text/plain": [
       "[]"
      ]
     },
     "execution_count": 38,
     "metadata": {},
     "output_type": "execute_result"
    }
   ],
   "source": [
    "%%sql\n",
    "INSERT INTO authority_D\n",
    "SELECT DISTINCT precint,jur from rapecrimes;"
   ]
  },
  {
   "cell_type": "code",
   "execution_count": 39,
   "metadata": {
    "collapsed": false
   },
   "outputs": [
    {
     "name": "stdout",
     "output_type": "stream",
     "text": [
      "Done.\n"
     ]
    },
    {
     "data": {
      "text/plain": [
       "[]"
      ]
     },
     "execution_count": 39,
     "metadata": {},
     "output_type": "execute_result"
    }
   ],
   "source": [
    "%%sql\n",
    "ALTER TABLE authority_D\n",
    "ADD COLUMN authority_id SERIAL PRIMARY KEY;"
   ]
  },
  {
   "cell_type": "markdown",
   "metadata": {},
   "source": [
    "Craeting the auto incremented Primary Key"
   ]
  },
  {
   "cell_type": "code",
   "execution_count": 40,
   "metadata": {
    "collapsed": false
   },
   "outputs": [
    {
     "name": "stdout",
     "output_type": "stream",
     "text": [
      "Done.\n",
      "Done.\n"
     ]
    },
    {
     "data": {
      "text/plain": [
       "[]"
      ]
     },
     "execution_count": 40,
     "metadata": {},
     "output_type": "execute_result"
    }
   ],
   "source": [
    "%%sql\n",
    "DROP TABLE IF EXISTS rape_fact;\n",
    "CREATE TABLE rape_fact (\n",
    "    location POINT,\n",
    "    time_id INT,\n",
    "    location_id INT,\n",
    "    authority_id INT,\n",
    "    FOREIGN KEY (time_id) REFERENCES time_D(time_id),\n",
    "    FOREIGN KEY (location_id) REFERENCES location_D(location_id),\n",
    "    FOREIGN KEY (authority_id) REFERENCES authority_D(authority_id)\n",
    ")"
   ]
  },
  {
   "cell_type": "markdown",
   "metadata": {
    "collapsed": false
   },
   "source": [
    "Creating the fact table. Consist of the location co-ordinates, a foreign key time_id which points to the time dimension table, location_id foreign key which points to the location dimension table, authority_id foreign key which points to the authority dimension table."
   ]
  },
  {
   "cell_type": "code",
   "execution_count": 41,
   "metadata": {
    "collapsed": false
   },
   "outputs": [
    {
     "name": "stdout",
     "output_type": "stream",
     "text": [
      "13779 rows affected.\n"
     ]
    },
    {
     "data": {
      "text/plain": [
       "[]"
      ]
     },
     "execution_count": 41,
     "metadata": {},
     "output_type": "execute_result"
    }
   ],
   "source": [
    "%%sql\n",
    "INSERT INTO rape_fact \n",
    "SELECT rapecrimes.location,time_D.time_id,location_D.location_id,authority_D.authority_id\n",
    "FROM rapecrimes\n",
    "JOIN\n",
    "time_D\n",
    "ON rapecrimes.date=time_D.date\n",
    "AND rapecrimes.day=time_D.day\n",
    "AND rapecrimes.month=time_D.month\n",
    "AND rapecrimes.day_n=time_D.day_n\n",
    "AND rapecrimes.year=time_D.year\n",
    "AND rapecrimes.hour=time_D.hour\n",
    "JOIN\n",
    "location_D\n",
    "ON \n",
    "rapecrimes.sector=location_D.sector\n",
    "AND rapecrimes.borough=location_D.borough \n",
    "JOIN\n",
    "authority_D\n",
    "ON\n",
    "rapecrimes.precint=authority_D.precint\n",
    "AND rapecrimes.jur=authority_D.jur;\n"
   ]
  },
  {
   "cell_type": "code",
   "execution_count": 42,
   "metadata": {
    "collapsed": false
   },
   "outputs": [
    {
     "name": "stdout",
     "output_type": "stream",
     "text": [
      "1 rows affected.\n"
     ]
    },
    {
     "data": {
      "text/html": [
       "<table>\n",
       "    <tr>\n",
       "        <th>count</th>\n",
       "    </tr>\n",
       "    <tr>\n",
       "        <td>13779</td>\n",
       "    </tr>\n",
       "</table>"
      ],
      "text/plain": [
       "[(13779,)]"
      ]
     },
     "execution_count": 42,
     "metadata": {},
     "output_type": "execute_result"
    }
   ],
   "source": [
    "%%sql\n",
    "select count(*) from rape_fact"
   ]
  },
  {
   "cell_type": "markdown",
   "metadata": {},
   "source": [
    "## What is the trend of the offense year by year?"
   ]
  },
  {
   "cell_type": "code",
   "execution_count": 43,
   "metadata": {
    "collapsed": false
   },
   "outputs": [
    {
     "name": "stdout",
     "output_type": "stream",
     "text": [
      "30 rows affected.\n"
     ]
    },
    {
     "data": {
      "text/html": [
       "<table>\n",
       "    <tr>\n",
       "        <th>year</th>\n",
       "        <th>count</th>\n",
       "    </tr>\n",
       "    <tr>\n",
       "        <td>2015      </td>\n",
       "        <td>1156</td>\n",
       "    </tr>\n",
       "    <tr>\n",
       "        <td>2014      </td>\n",
       "        <td>1204</td>\n",
       "    </tr>\n",
       "    <tr>\n",
       "        <td>2013      </td>\n",
       "        <td>1294</td>\n",
       "    </tr>\n",
       "    <tr>\n",
       "        <td>2012      </td>\n",
       "        <td>1372</td>\n",
       "    </tr>\n",
       "    <tr>\n",
       "        <td>2011      </td>\n",
       "        <td>1382</td>\n",
       "    </tr>\n",
       "    <tr>\n",
       "        <td>2010      </td>\n",
       "        <td>1351</td>\n",
       "    </tr>\n",
       "    <tr>\n",
       "        <td>2009      </td>\n",
       "        <td>1175</td>\n",
       "    </tr>\n",
       "    <tr>\n",
       "        <td>2008      </td>\n",
       "        <td>1255</td>\n",
       "    </tr>\n",
       "    <tr>\n",
       "        <td>2007      </td>\n",
       "        <td>1265</td>\n",
       "    </tr>\n",
       "    <tr>\n",
       "        <td>2006      </td>\n",
       "        <td>1520</td>\n",
       "    </tr>\n",
       "    <tr>\n",
       "        <td>2005      </td>\n",
       "        <td>308</td>\n",
       "    </tr>\n",
       "    <tr>\n",
       "        <td>2004      </td>\n",
       "        <td>115</td>\n",
       "    </tr>\n",
       "    <tr>\n",
       "        <td>2003      </td>\n",
       "        <td>99</td>\n",
       "    </tr>\n",
       "    <tr>\n",
       "        <td>2002      </td>\n",
       "        <td>60</td>\n",
       "    </tr>\n",
       "    <tr>\n",
       "        <td>2001      </td>\n",
       "        <td>57</td>\n",
       "    </tr>\n",
       "    <tr>\n",
       "        <td>2000      </td>\n",
       "        <td>42</td>\n",
       "    </tr>\n",
       "    <tr>\n",
       "        <td>1999      </td>\n",
       "        <td>37</td>\n",
       "    </tr>\n",
       "    <tr>\n",
       "        <td>1998      </td>\n",
       "        <td>25</td>\n",
       "    </tr>\n",
       "    <tr>\n",
       "        <td>1997      </td>\n",
       "        <td>15</td>\n",
       "    </tr>\n",
       "    <tr>\n",
       "        <td>1996      </td>\n",
       "        <td>12</td>\n",
       "    </tr>\n",
       "    <tr>\n",
       "        <td>1995      </td>\n",
       "        <td>5</td>\n",
       "    </tr>\n",
       "    <tr>\n",
       "        <td>1994      </td>\n",
       "        <td>6</td>\n",
       "    </tr>\n",
       "    <tr>\n",
       "        <td>1993      </td>\n",
       "        <td>11</td>\n",
       "    </tr>\n",
       "    <tr>\n",
       "        <td>1992      </td>\n",
       "        <td>3</td>\n",
       "    </tr>\n",
       "    <tr>\n",
       "        <td>1991      </td>\n",
       "        <td>1</td>\n",
       "    </tr>\n",
       "    <tr>\n",
       "        <td>1990      </td>\n",
       "        <td>1</td>\n",
       "    </tr>\n",
       "    <tr>\n",
       "        <td>1989      </td>\n",
       "        <td>2</td>\n",
       "    </tr>\n",
       "    <tr>\n",
       "        <td>1988      </td>\n",
       "        <td>1</td>\n",
       "    </tr>\n",
       "    <tr>\n",
       "        <td>1978      </td>\n",
       "        <td>1</td>\n",
       "    </tr>\n",
       "    <tr>\n",
       "        <td>1975      </td>\n",
       "        <td>1</td>\n",
       "    </tr>\n",
       "</table>"
      ],
      "text/plain": [
       "[('2015      ', 1156),\n",
       " ('2014      ', 1204),\n",
       " ('2013      ', 1294),\n",
       " ('2012      ', 1372),\n",
       " ('2011      ', 1382),\n",
       " ('2010      ', 1351),\n",
       " ('2009      ', 1175),\n",
       " ('2008      ', 1255),\n",
       " ('2007      ', 1265),\n",
       " ('2006      ', 1520),\n",
       " ('2005      ', 308),\n",
       " ('2004      ', 115),\n",
       " ('2003      ', 99),\n",
       " ('2002      ', 60),\n",
       " ('2001      ', 57),\n",
       " ('2000      ', 42),\n",
       " ('1999      ', 37),\n",
       " ('1998      ', 25),\n",
       " ('1997      ', 15),\n",
       " ('1996      ', 12),\n",
       " ('1995      ', 5),\n",
       " ('1994      ', 6),\n",
       " ('1993      ', 11),\n",
       " ('1992      ', 3),\n",
       " ('1991      ', 1),\n",
       " ('1990      ', 1),\n",
       " ('1989      ', 2),\n",
       " ('1988      ', 1),\n",
       " ('1978      ', 1),\n",
       " ('1975      ', 1)]"
      ]
     },
     "execution_count": 43,
     "metadata": {},
     "output_type": "execute_result"
    }
   ],
   "source": [
    "%%sql\n",
    "select time_D.year, count(rape_fact.location)\n",
    "FROM time_D\n",
    "JOIN\n",
    "rape_fact\n",
    "ON\n",
    "time_D.time_id=rape_fact.time_id\n",
    "GROUP BY time_D.year\n",
    "HAVING time_D.year <> 'data_n/a'\n",
    "ORDER BY time_D.year DESC\n",
    "\n"
   ]
  },
  {
   "cell_type": "code",
   "execution_count": 44,
   "metadata": {
    "collapsed": false
   },
   "outputs": [
    {
     "data": {
      "text/plain": [
       "<Container object of 30 artists>"
      ]
     },
     "execution_count": 44,
     "metadata": {},
     "output_type": "execute_result"
    },
    {
     "data": {
      "image/png": "[encoded data removed]",
      "text/plain": [
       "<matplotlib.figure.Figure at 0x7ff73c2705f8>"
      ]
     },
     "metadata": {},
     "output_type": "display_data"
    }
   ],
   "source": [
    "%matplotlib inline\n",
    "result=_\n",
    "result.bar()"
   ]
  },
  {
   "cell_type": "markdown",
   "metadata": {},
   "source": [
    "## Problem 4 - explore your data in its new schema (30 points)\n",
    "\n",
    "Strictly using the dimensional model tables you defined and populated for Problem 3, explore your data in its new form.  Use any of the query strategies we've seen in class, including transformations, aggregates, subqueries, rollups, and, of course, joins.  Add plots to highlight particular themes that stand out.  Describe your thinking and observations along the way."
   ]
  },
  {
   "cell_type": "markdown",
   "metadata": {},
   "source": [
    "### Which is the area which has most offenses of Rape"
   ]
  },
  {
   "cell_type": "code",
   "execution_count": 45,
   "metadata": {
    "collapsed": false
   },
   "outputs": [
    {
     "name": "stdout",
     "output_type": "stream",
     "text": [
      "5 rows affected.\n"
     ]
    },
    {
     "data": {
      "text/html": [
       "<table>\n",
       "    <tr>\n",
       "        <th>borough</th>\n",
       "        <th>count</th>\n",
       "    </tr>\n",
       "    <tr>\n",
       "        <td>QUEENS             </td>\n",
       "        <td>22</td>\n",
       "    </tr>\n",
       "    <tr>\n",
       "        <td>BRONX              </td>\n",
       "        <td>21</td>\n",
       "    </tr>\n",
       "    <tr>\n",
       "        <td>BROOKLYN           </td>\n",
       "        <td>19</td>\n",
       "    </tr>\n",
       "    <tr>\n",
       "        <td>STATEN ISLAND      </td>\n",
       "        <td>19</td>\n",
       "    </tr>\n",
       "    <tr>\n",
       "        <td>MANHATTAN          </td>\n",
       "        <td>18</td>\n",
       "    </tr>\n",
       "</table>"
      ],
      "text/plain": [
       "[('QUEENS             ', 22),\n",
       " ('BRONX              ', 21),\n",
       " ('BROOKLYN           ', 19),\n",
       " ('STATEN ISLAND      ', 19),\n",
       " ('MANHATTAN          ', 18)]"
      ]
     },
     "execution_count": 45,
     "metadata": {},
     "output_type": "execute_result"
    }
   ],
   "source": [
    "%%sql\n",
    "select location_D.borough, count(rape_fact.location)\n",
    "FROM location_D\n",
    "JOIN\n",
    "rape_fact\n",
    "ON\n",
    "location_D.location_id=rape_fact.time_id\n",
    "GROUP BY location_D.borough\n",
    "HAVING location_D.borough <> 'data_n/a'\n",
    "ORDER BY count DESC"
   ]
  },
  {
   "cell_type": "code",
   "execution_count": 46,
   "metadata": {
    "collapsed": false
   },
   "outputs": [
    {
     "data": {
      "text/plain": [
       "<Container object of 5 artists>"
      ]
     },
     "execution_count": 46,
     "metadata": {},
     "output_type": "execute_result"
    },
    {
     "data": {
      "image/png": "[encoded data removed]",
      "text/plain": [
       "<matplotlib.figure.Figure at 0x7ff73c2707b8>"
      ]
     },
     "metadata": {},
     "output_type": "display_data"
    }
   ],
   "source": [
    "%matplotlib inline\n",
    "result=_\n",
    "result.bar()"
   ]
  },
  {
   "cell_type": "markdown",
   "metadata": {},
   "source": [
    "### Which Precint has the maximum rape cases registered"
   ]
  },
  {
   "cell_type": "code",
   "execution_count": 47,
   "metadata": {
    "collapsed": false
   },
   "outputs": [
    {
     "name": "stdout",
     "output_type": "stream",
     "text": [
      "5 rows affected.\n"
     ]
    },
    {
     "data": {
      "text/html": [
       "<table>\n",
       "    <tr>\n",
       "        <th>precint</th>\n",
       "        <th>count</th>\n",
       "    </tr>\n",
       "    <tr>\n",
       "        <td>75</td>\n",
       "        <td>581</td>\n",
       "    </tr>\n",
       "    <tr>\n",
       "        <td>120</td>\n",
       "        <td>374</td>\n",
       "    </tr>\n",
       "    <tr>\n",
       "        <td>115</td>\n",
       "        <td>359</td>\n",
       "    </tr>\n",
       "    <tr>\n",
       "        <td>43</td>\n",
       "        <td>355</td>\n",
       "    </tr>\n",
       "    <tr>\n",
       "        <td>44</td>\n",
       "        <td>350</td>\n",
       "    </tr>\n",
       "</table>"
      ],
      "text/plain": [
       "[(75, 581), (120, 374), (115, 359), (43, 355), (44, 350)]"
      ]
     },
     "execution_count": 47,
     "metadata": {},
     "output_type": "execute_result"
    }
   ],
   "source": [
    "%%sql\n",
    "select authority_D.precint, count(rape_fact.location)\n",
    "FROM authority_D\n",
    "JOIN\n",
    "rape_fact\n",
    "ON\n",
    "authority_D.authority_id=rape_fact.authority_id\n",
    "GROUP BY authority_D.precint\n",
    "ORDER BY count DESC\n",
    "LIMIT 5\n"
   ]
  },
  {
   "cell_type": "code",
   "execution_count": 48,
   "metadata": {
    "collapsed": false,
    "scrolled": true
   },
   "outputs": [
    {
     "data": {
      "text/plain": [
       "<Container object of 5 artists>"
      ]
     },
     "execution_count": 48,
     "metadata": {},
     "output_type": "execute_result"
    },
    {
     "data": {
      "image/png": "[encoded data removed]",
      "text/plain": [
       "<matplotlib.figure.Figure at 0x7ff73e8fe438>"
      ]
     },
     "metadata": {},
     "output_type": "display_data"
    }
   ],
   "source": [
    "%matplotlib inline\n",
    "result=_\n",
    "result.bar()"
   ]
  },
  {
   "cell_type": "markdown",
   "metadata": {},
   "source": [
    "### How many offenses are registerd in precints in each Borough?"
   ]
  },
  {
   "cell_type": "code",
   "execution_count": 49,
   "metadata": {
    "collapsed": false
   },
   "outputs": [
    {
     "name": "stdout",
     "output_type": "stream",
     "text": [
      "83 rows affected.\n"
     ]
    },
    {
     "data": {
      "text/html": [
       "<table>\n",
       "    <tr>\n",
       "        <th>borough</th>\n",
       "        <th>precint</th>\n",
       "        <th>count</th>\n",
       "    </tr>\n",
       "    <tr>\n",
       "        <td>BRONX              </td>\n",
       "        <td>40</td>\n",
       "        <td>281</td>\n",
       "    </tr>\n",
       "    <tr>\n",
       "        <td>BRONX              </td>\n",
       "        <td>41</td>\n",
       "        <td>175</td>\n",
       "    </tr>\n",
       "    <tr>\n",
       "        <td>BRONX              </td>\n",
       "        <td>42</td>\n",
       "        <td>258</td>\n",
       "    </tr>\n",
       "    <tr>\n",
       "        <td>BRONX              </td>\n",
       "        <td>43</td>\n",
       "        <td>355</td>\n",
       "    </tr>\n",
       "    <tr>\n",
       "        <td>BRONX              </td>\n",
       "        <td>44</td>\n",
       "        <td>350</td>\n",
       "    </tr>\n",
       "    <tr>\n",
       "        <td>BRONX              </td>\n",
       "        <td>45</td>\n",
       "        <td>131</td>\n",
       "    </tr>\n",
       "    <tr>\n",
       "        <td>BRONX              </td>\n",
       "        <td>46</td>\n",
       "        <td>314</td>\n",
       "    </tr>\n",
       "    <tr>\n",
       "        <td>BRONX              </td>\n",
       "        <td>47</td>\n",
       "        <td>337</td>\n",
       "    </tr>\n",
       "    <tr>\n",
       "        <td>BRONX              </td>\n",
       "        <td>48</td>\n",
       "        <td>254</td>\n",
       "    </tr>\n",
       "    <tr>\n",
       "        <td>BRONX              </td>\n",
       "        <td>49</td>\n",
       "        <td>190</td>\n",
       "    </tr>\n",
       "    <tr>\n",
       "        <td>BRONX              </td>\n",
       "        <td>50</td>\n",
       "        <td>104</td>\n",
       "    </tr>\n",
       "    <tr>\n",
       "        <td>BRONX              </td>\n",
       "        <td>52</td>\n",
       "        <td>269</td>\n",
       "    </tr>\n",
       "    <tr>\n",
       "        <td>BRONX              </td>\n",
       "        <td>None</td>\n",
       "        <td>3018</td>\n",
       "    </tr>\n",
       "    <tr>\n",
       "        <td>BROOKLYN           </td>\n",
       "        <td>60</td>\n",
       "        <td>161</td>\n",
       "    </tr>\n",
       "    <tr>\n",
       "        <td>BROOKLYN           </td>\n",
       "        <td>61</td>\n",
       "        <td>106</td>\n",
       "    </tr>\n",
       "    <tr>\n",
       "        <td>BROOKLYN           </td>\n",
       "        <td>62</td>\n",
       "        <td>102</td>\n",
       "    </tr>\n",
       "    <tr>\n",
       "        <td>BROOKLYN           </td>\n",
       "        <td>63</td>\n",
       "        <td>110</td>\n",
       "    </tr>\n",
       "    <tr>\n",
       "        <td>BROOKLYN           </td>\n",
       "        <td>66</td>\n",
       "        <td>104</td>\n",
       "    </tr>\n",
       "    <tr>\n",
       "        <td>BROOKLYN           </td>\n",
       "        <td>67</td>\n",
       "        <td>335</td>\n",
       "    </tr>\n",
       "    <tr>\n",
       "        <td>BROOKLYN           </td>\n",
       "        <td>68</td>\n",
       "        <td>84</td>\n",
       "    </tr>\n",
       "    <tr>\n",
       "        <td>BROOKLYN           </td>\n",
       "        <td>69</td>\n",
       "        <td>144</td>\n",
       "    </tr>\n",
       "    <tr>\n",
       "        <td>BROOKLYN           </td>\n",
       "        <td>70</td>\n",
       "        <td>234</td>\n",
       "    </tr>\n",
       "    <tr>\n",
       "        <td>BROOKLYN           </td>\n",
       "        <td>71</td>\n",
       "        <td>176</td>\n",
       "    </tr>\n",
       "    <tr>\n",
       "        <td>BROOKLYN           </td>\n",
       "        <td>72</td>\n",
       "        <td>173</td>\n",
       "    </tr>\n",
       "    <tr>\n",
       "        <td>BROOKLYN           </td>\n",
       "        <td>73</td>\n",
       "        <td>346</td>\n",
       "    </tr>\n",
       "    <tr>\n",
       "        <td>BROOKLYN           </td>\n",
       "        <td>75</td>\n",
       "        <td>581</td>\n",
       "    </tr>\n",
       "    <tr>\n",
       "        <td>BROOKLYN           </td>\n",
       "        <td>76</td>\n",
       "        <td>52</td>\n",
       "    </tr>\n",
       "    <tr>\n",
       "        <td>BROOKLYN           </td>\n",
       "        <td>77</td>\n",
       "        <td>203</td>\n",
       "    </tr>\n",
       "    <tr>\n",
       "        <td>BROOKLYN           </td>\n",
       "        <td>78</td>\n",
       "        <td>60</td>\n",
       "    </tr>\n",
       "    <tr>\n",
       "        <td>BROOKLYN           </td>\n",
       "        <td>79</td>\n",
       "        <td>268</td>\n",
       "    </tr>\n",
       "    <tr>\n",
       "        <td>BROOKLYN           </td>\n",
       "        <td>81</td>\n",
       "        <td>186</td>\n",
       "    </tr>\n",
       "    <tr>\n",
       "        <td>BROOKLYN           </td>\n",
       "        <td>83</td>\n",
       "        <td>323</td>\n",
       "    </tr>\n",
       "    <tr>\n",
       "        <td>BROOKLYN           </td>\n",
       "        <td>84</td>\n",
       "        <td>48</td>\n",
       "    </tr>\n",
       "    <tr>\n",
       "        <td>BROOKLYN           </td>\n",
       "        <td>88</td>\n",
       "        <td>86</td>\n",
       "    </tr>\n",
       "    <tr>\n",
       "        <td>BROOKLYN           </td>\n",
       "        <td>90</td>\n",
       "        <td>152</td>\n",
       "    </tr>\n",
       "    <tr>\n",
       "        <td>BROOKLYN           </td>\n",
       "        <td>94</td>\n",
       "        <td>63</td>\n",
       "    </tr>\n",
       "    <tr>\n",
       "        <td>BROOKLYN           </td>\n",
       "        <td>None</td>\n",
       "        <td>4097</td>\n",
       "    </tr>\n",
       "    <tr>\n",
       "        <td>MANHATTAN          </td>\n",
       "        <td>1</td>\n",
       "        <td>81</td>\n",
       "    </tr>\n",
       "    <tr>\n",
       "        <td>MANHATTAN          </td>\n",
       "        <td>5</td>\n",
       "        <td>70</td>\n",
       "    </tr>\n",
       "    <tr>\n",
       "        <td>MANHATTAN          </td>\n",
       "        <td>6</td>\n",
       "        <td>97</td>\n",
       "    </tr>\n",
       "    <tr>\n",
       "        <td>MANHATTAN          </td>\n",
       "        <td>7</td>\n",
       "        <td>101</td>\n",
       "    </tr>\n",
       "    <tr>\n",
       "        <td>MANHATTAN          </td>\n",
       "        <td>9</td>\n",
       "        <td>156</td>\n",
       "    </tr>\n",
       "    <tr>\n",
       "        <td>MANHATTAN          </td>\n",
       "        <td>10</td>\n",
       "        <td>96</td>\n",
       "    </tr>\n",
       "    <tr>\n",
       "        <td>MANHATTAN          </td>\n",
       "        <td>13</td>\n",
       "        <td>124</td>\n",
       "    </tr>\n",
       "    <tr>\n",
       "        <td>MANHATTAN          </td>\n",
       "        <td>14</td>\n",
       "        <td>108</td>\n",
       "    </tr>\n",
       "    <tr>\n",
       "        <td>MANHATTAN          </td>\n",
       "        <td>17</td>\n",
       "        <td>83</td>\n",
       "    </tr>\n",
       "    <tr>\n",
       "        <td>MANHATTAN          </td>\n",
       "        <td>18</td>\n",
       "        <td>111</td>\n",
       "    </tr>\n",
       "    <tr>\n",
       "        <td>MANHATTAN          </td>\n",
       "        <td>19</td>\n",
       "        <td>118</td>\n",
       "    </tr>\n",
       "    <tr>\n",
       "        <td>MANHATTAN          </td>\n",
       "        <td>20</td>\n",
       "        <td>83</td>\n",
       "    </tr>\n",
       "    <tr>\n",
       "        <td>MANHATTAN          </td>\n",
       "        <td>22</td>\n",
       "        <td>19</td>\n",
       "    </tr>\n",
       "    <tr>\n",
       "        <td>MANHATTAN          </td>\n",
       "        <td>23</td>\n",
       "        <td>221</td>\n",
       "    </tr>\n",
       "    <tr>\n",
       "        <td>MANHATTAN          </td>\n",
       "        <td>24</td>\n",
       "        <td>109</td>\n",
       "    </tr>\n",
       "    <tr>\n",
       "        <td>MANHATTAN          </td>\n",
       "        <td>25</td>\n",
       "        <td>218</td>\n",
       "    </tr>\n",
       "    <tr>\n",
       "        <td>MANHATTAN          </td>\n",
       "        <td>26</td>\n",
       "        <td>108</td>\n",
       "    </tr>\n",
       "    <tr>\n",
       "        <td>MANHATTAN          </td>\n",
       "        <td>28</td>\n",
       "        <td>141</td>\n",
       "    </tr>\n",
       "    <tr>\n",
       "        <td>MANHATTAN          </td>\n",
       "        <td>30</td>\n",
       "        <td>198</td>\n",
       "    </tr>\n",
       "    <tr>\n",
       "        <td>MANHATTAN          </td>\n",
       "        <td>32</td>\n",
       "        <td>292</td>\n",
       "    </tr>\n",
       "    <tr>\n",
       "        <td>MANHATTAN          </td>\n",
       "        <td>33</td>\n",
       "        <td>202</td>\n",
       "    </tr>\n",
       "    <tr>\n",
       "        <td>MANHATTAN          </td>\n",
       "        <td>34</td>\n",
       "        <td>205</td>\n",
       "    </tr>\n",
       "    <tr>\n",
       "        <td>MANHATTAN          </td>\n",
       "        <td>None</td>\n",
       "        <td>2941</td>\n",
       "    </tr>\n",
       "    <tr>\n",
       "        <td>QUEENS             </td>\n",
       "        <td>100</td>\n",
       "        <td>65</td>\n",
       "    </tr>\n",
       "    <tr>\n",
       "        <td>QUEENS             </td>\n",
       "        <td>101</td>\n",
       "        <td>168</td>\n",
       "    </tr>\n",
       "    <tr>\n",
       "        <td>QUEENS             </td>\n",
       "        <td>102</td>\n",
       "        <td>221</td>\n",
       "    </tr>\n",
       "    <tr>\n",
       "        <td>QUEENS             </td>\n",
       "        <td>103</td>\n",
       "        <td>305</td>\n",
       "    </tr>\n",
       "    <tr>\n",
       "        <td>QUEENS             </td>\n",
       "        <td>104</td>\n",
       "        <td>171</td>\n",
       "    </tr>\n",
       "    <tr>\n",
       "        <td>QUEENS             </td>\n",
       "        <td>105</td>\n",
       "        <td>300</td>\n",
       "    </tr>\n",
       "    <tr>\n",
       "        <td>QUEENS             </td>\n",
       "        <td>106</td>\n",
       "        <td>178</td>\n",
       "    </tr>\n",
       "    <tr>\n",
       "        <td>QUEENS             </td>\n",
       "        <td>107</td>\n",
       "        <td>135</td>\n",
       "    </tr>\n",
       "    <tr>\n",
       "        <td>QUEENS             </td>\n",
       "        <td>108</td>\n",
       "        <td>142</td>\n",
       "    </tr>\n",
       "    <tr>\n",
       "        <td>QUEENS             </td>\n",
       "        <td>109</td>\n",
       "        <td>189</td>\n",
       "    </tr>\n",
       "    <tr>\n",
       "        <td>QUEENS             </td>\n",
       "        <td>110</td>\n",
       "        <td>315</td>\n",
       "    </tr>\n",
       "    <tr>\n",
       "        <td>QUEENS             </td>\n",
       "        <td>111</td>\n",
       "        <td>45</td>\n",
       "    </tr>\n",
       "    <tr>\n",
       "        <td>QUEENS             </td>\n",
       "        <td>112</td>\n",
       "        <td>62</td>\n",
       "    </tr>\n",
       "    <tr>\n",
       "        <td>QUEENS             </td>\n",
       "        <td>113</td>\n",
       "        <td>268</td>\n",
       "    </tr>\n",
       "    <tr>\n",
       "        <td>QUEENS             </td>\n",
       "        <td>114</td>\n",
       "        <td>259</td>\n",
       "    </tr>\n",
       "    <tr>\n",
       "        <td>QUEENS             </td>\n",
       "        <td>115</td>\n",
       "        <td>359</td>\n",
       "    </tr>\n",
       "    <tr>\n",
       "        <td>QUEENS             </td>\n",
       "        <td>None</td>\n",
       "        <td>3182</td>\n",
       "    </tr>\n",
       "    <tr>\n",
       "        <td>STATEN ISLAND      </td>\n",
       "        <td>120</td>\n",
       "        <td>374</td>\n",
       "    </tr>\n",
       "    <tr>\n",
       "        <td>STATEN ISLAND      </td>\n",
       "        <td>121</td>\n",
       "        <td>35</td>\n",
       "    </tr>\n",
       "    <tr>\n",
       "        <td>STATEN ISLAND      </td>\n",
       "        <td>122</td>\n",
       "        <td>105</td>\n",
       "    </tr>\n",
       "    <tr>\n",
       "        <td>STATEN ISLAND      </td>\n",
       "        <td>123</td>\n",
       "        <td>27</td>\n",
       "    </tr>\n",
       "    <tr>\n",
       "        <td>STATEN ISLAND      </td>\n",
       "        <td>None</td>\n",
       "        <td>541</td>\n",
       "    </tr>\n",
       "    <tr>\n",
       "        <td>None</td>\n",
       "        <td>None</td>\n",
       "        <td>13779</td>\n",
       "    </tr>\n",
       "</table>"
      ],
      "text/plain": [
       "[('BRONX              ', 40, 281),\n",
       " ('BRONX              ', 41, 175),\n",
       " ('BRONX              ', 42, 258),\n",
       " ('BRONX              ', 43, 355),\n",
       " ('BRONX              ', 44, 350),\n",
       " ('BRONX              ', 45, 131),\n",
       " ('BRONX              ', 46, 314),\n",
       " ('BRONX              ', 47, 337),\n",
       " ('BRONX              ', 48, 254),\n",
       " ('BRONX              ', 49, 190),\n",
       " ('BRONX              ', 50, 104),\n",
       " ('BRONX              ', 52, 269),\n",
       " ('BRONX              ', None, 3018),\n",
       " ('BROOKLYN           ', 60, 161),\n",
       " ('BROOKLYN           ', 61, 106),\n",
       " ('BROOKLYN           ', 62, 102),\n",
       " ('BROOKLYN           ', 63, 110),\n",
       " ('BROOKLYN           ', 66, 104),\n",
       " ('BROOKLYN           ', 67, 335),\n",
       " ('BROOKLYN           ', 68, 84),\n",
       " ('BROOKLYN           ', 69, 144),\n",
       " ('BROOKLYN           ', 70, 234),\n",
       " ('BROOKLYN           ', 71, 176),\n",
       " ('BROOKLYN           ', 72, 173),\n",
       " ('BROOKLYN           ', 73, 346),\n",
       " ('BROOKLYN           ', 75, 581),\n",
       " ('BROOKLYN           ', 76, 52),\n",
       " ('BROOKLYN           ', 77, 203),\n",
       " ('BROOKLYN           ', 78, 60),\n",
       " ('BROOKLYN           ', 79, 268),\n",
       " ('BROOKLYN           ', 81, 186),\n",
       " ('BROOKLYN           ', 83, 323),\n",
       " ('BROOKLYN           ', 84, 48),\n",
       " ('BROOKLYN           ', 88, 86),\n",
       " ('BROOKLYN           ', 90, 152),\n",
       " ('BROOKLYN           ', 94, 63),\n",
       " ('BROOKLYN           ', None, 4097),\n",
       " ('MANHATTAN          ', 1, 81),\n",
       " ('MANHATTAN          ', 5, 70),\n",
       " ('MANHATTAN          ', 6, 97),\n",
       " ('MANHATTAN          ', 7, 101),\n",
       " ('MANHATTAN          ', 9, 156),\n",
       " ('MANHATTAN          ', 10, 96),\n",
       " ('MANHATTAN          ', 13, 124),\n",
       " ('MANHATTAN          ', 14, 108),\n",
       " ('MANHATTAN          ', 17, 83),\n",
       " ('MANHATTAN          ', 18, 111),\n",
       " ('MANHATTAN          ', 19, 118),\n",
       " ('MANHATTAN          ', 20, 83),\n",
       " ('MANHATTAN          ', 22, 19),\n",
       " ('MANHATTAN          ', 23, 221),\n",
       " ('MANHATTAN          ', 24, 109),\n",
       " ('MANHATTAN          ', 25, 218),\n",
       " ('MANHATTAN          ', 26, 108),\n",
       " ('MANHATTAN          ', 28, 141),\n",
       " ('MANHATTAN          ', 30, 198),\n",
       " ('MANHATTAN          ', 32, 292),\n",
       " ('MANHATTAN          ', 33, 202),\n",
       " ('MANHATTAN          ', 34, 205),\n",
       " ('MANHATTAN          ', None, 2941),\n",
       " ('QUEENS             ', 100, 65),\n",
       " ('QUEENS             ', 101, 168),\n",
       " ('QUEENS             ', 102, 221),\n",
       " ('QUEENS             ', 103, 305),\n",
       " ('QUEENS             ', 104, 171),\n",
       " ('QUEENS             ', 105, 300),\n",
       " ('QUEENS             ', 106, 178),\n",
       " ('QUEENS             ', 107, 135),\n",
       " ('QUEENS             ', 108, 142),\n",
       " ('QUEENS             ', 109, 189),\n",
       " ('QUEENS             ', 110, 315),\n",
       " ('QUEENS             ', 111, 45),\n",
       " ('QUEENS             ', 112, 62),\n",
       " ('QUEENS             ', 113, 268),\n",
       " ('QUEENS             ', 114, 259),\n",
       " ('QUEENS             ', 115, 359),\n",
       " ('QUEENS             ', None, 3182),\n",
       " ('STATEN ISLAND      ', 120, 374),\n",
       " ('STATEN ISLAND      ', 121, 35),\n",
       " ('STATEN ISLAND      ', 122, 105),\n",
       " ('STATEN ISLAND      ', 123, 27),\n",
       " ('STATEN ISLAND      ', None, 541),\n",
       " (None, None, 13779)]"
      ]
     },
     "execution_count": 49,
     "metadata": {},
     "output_type": "execute_result"
    }
   ],
   "source": [
    "%%sql\n",
    "SELECT location_D.borough,authority_D.precint,count(rape_fact.location)\n",
    "FROM rape_fact\n",
    "JOIN\n",
    "authority_D\n",
    "ON rape_fact.authority_id=authority_D.authority_id\n",
    "JOIN\n",
    "location_D\n",
    "ON rape_fact.location_id=location_D.location_id\n",
    "GROUP BY ROLLUP (location_D.borough,authority_D.precint)\n"
   ]
  },
  {
   "cell_type": "markdown",
   "metadata": {},
   "source": [
    "### How many offenses were reported in each borough each day of the week?"
   ]
  },
  {
   "cell_type": "code",
   "execution_count": 50,
   "metadata": {
    "collapsed": false
   },
   "outputs": [
    {
     "name": "stdout",
     "output_type": "stream",
     "text": [
      "38 rows affected.\n"
     ]
    },
    {
     "data": {
      "text/html": [
       "<table>\n",
       "    <tr>\n",
       "        <th>borough</th>\n",
       "        <th>day</th>\n",
       "        <th>count</th>\n",
       "    </tr>\n",
       "    <tr>\n",
       "        <td>BRONX              </td>\n",
       "        <td>Friday    </td>\n",
       "        <td>534</td>\n",
       "    </tr>\n",
       "    <tr>\n",
       "        <td>BRONX              </td>\n",
       "        <td>Monday    </td>\n",
       "        <td>709</td>\n",
       "    </tr>\n",
       "    <tr>\n",
       "        <td>BRONX              </td>\n",
       "        <td>Saturday  </td>\n",
       "        <td>20</td>\n",
       "    </tr>\n",
       "    <tr>\n",
       "        <td>BRONX              </td>\n",
       "        <td>Sunday    </td>\n",
       "        <td>569</td>\n",
       "    </tr>\n",
       "    <tr>\n",
       "        <td>BRONX              </td>\n",
       "        <td>Thursday  </td>\n",
       "        <td>299</td>\n",
       "    </tr>\n",
       "    <tr>\n",
       "        <td>BRONX              </td>\n",
       "        <td>Tuesday   </td>\n",
       "        <td>585</td>\n",
       "    </tr>\n",
       "    <tr>\n",
       "        <td>BRONX              </td>\n",
       "        <td>Wednesday </td>\n",
       "        <td>302</td>\n",
       "    </tr>\n",
       "    <tr>\n",
       "        <td>BRONX              </td>\n",
       "        <td>None</td>\n",
       "        <td>3018</td>\n",
       "    </tr>\n",
       "    <tr>\n",
       "        <td>BROOKLYN           </td>\n",
       "        <td>Friday    </td>\n",
       "        <td>391</td>\n",
       "    </tr>\n",
       "    <tr>\n",
       "        <td>BROOKLYN           </td>\n",
       "        <td>Monday    </td>\n",
       "        <td>756</td>\n",
       "    </tr>\n",
       "    <tr>\n",
       "        <td>BROOKLYN           </td>\n",
       "        <td>Saturday  </td>\n",
       "        <td>811</td>\n",
       "    </tr>\n",
       "    <tr>\n",
       "        <td>BROOKLYN           </td>\n",
       "        <td>Sunday    </td>\n",
       "        <td>1012</td>\n",
       "    </tr>\n",
       "    <tr>\n",
       "        <td>BROOKLYN           </td>\n",
       "        <td>Thursday  </td>\n",
       "        <td>623</td>\n",
       "    </tr>\n",
       "    <tr>\n",
       "        <td>BROOKLYN           </td>\n",
       "        <td>Tuesday   </td>\n",
       "        <td>246</td>\n",
       "    </tr>\n",
       "    <tr>\n",
       "        <td>BROOKLYN           </td>\n",
       "        <td>Wednesday </td>\n",
       "        <td>258</td>\n",
       "    </tr>\n",
       "    <tr>\n",
       "        <td>BROOKLYN           </td>\n",
       "        <td>None</td>\n",
       "        <td>4097</td>\n",
       "    </tr>\n",
       "    <tr>\n",
       "        <td>MANHATTAN          </td>\n",
       "        <td>Friday    </td>\n",
       "        <td>347</td>\n",
       "    </tr>\n",
       "    <tr>\n",
       "        <td>MANHATTAN          </td>\n",
       "        <td>Monday    </td>\n",
       "        <td>394</td>\n",
       "    </tr>\n",
       "    <tr>\n",
       "        <td>MANHATTAN          </td>\n",
       "        <td>Saturday  </td>\n",
       "        <td>886</td>\n",
       "    </tr>\n",
       "    <tr>\n",
       "        <td>MANHATTAN          </td>\n",
       "        <td>Sunday    </td>\n",
       "        <td>194</td>\n",
       "    </tr>\n",
       "    <tr>\n",
       "        <td>MANHATTAN          </td>\n",
       "        <td>Thursday  </td>\n",
       "        <td>254</td>\n",
       "    </tr>\n",
       "    <tr>\n",
       "        <td>MANHATTAN          </td>\n",
       "        <td>Tuesday   </td>\n",
       "        <td>750</td>\n",
       "    </tr>\n",
       "    <tr>\n",
       "        <td>MANHATTAN          </td>\n",
       "        <td>Wednesday </td>\n",
       "        <td>116</td>\n",
       "    </tr>\n",
       "    <tr>\n",
       "        <td>MANHATTAN          </td>\n",
       "        <td>None</td>\n",
       "        <td>2941</td>\n",
       "    </tr>\n",
       "    <tr>\n",
       "        <td>QUEENS             </td>\n",
       "        <td>Friday    </td>\n",
       "        <td>465</td>\n",
       "    </tr>\n",
       "    <tr>\n",
       "        <td>QUEENS             </td>\n",
       "        <td>Monday    </td>\n",
       "        <td>475</td>\n",
       "    </tr>\n",
       "    <tr>\n",
       "        <td>QUEENS             </td>\n",
       "        <td>Saturday  </td>\n",
       "        <td>862</td>\n",
       "    </tr>\n",
       "    <tr>\n",
       "        <td>QUEENS             </td>\n",
       "        <td>Sunday    </td>\n",
       "        <td>601</td>\n",
       "    </tr>\n",
       "    <tr>\n",
       "        <td>QUEENS             </td>\n",
       "        <td>Thursday  </td>\n",
       "        <td>156</td>\n",
       "    </tr>\n",
       "    <tr>\n",
       "        <td>QUEENS             </td>\n",
       "        <td>Tuesday   </td>\n",
       "        <td>298</td>\n",
       "    </tr>\n",
       "    <tr>\n",
       "        <td>QUEENS             </td>\n",
       "        <td>Wednesday </td>\n",
       "        <td>325</td>\n",
       "    </tr>\n",
       "    <tr>\n",
       "        <td>QUEENS             </td>\n",
       "        <td>None</td>\n",
       "        <td>3182</td>\n",
       "    </tr>\n",
       "    <tr>\n",
       "        <td>STATEN ISLAND      </td>\n",
       "        <td>Friday    </td>\n",
       "        <td>33</td>\n",
       "    </tr>\n",
       "    <tr>\n",
       "        <td>STATEN ISLAND      </td>\n",
       "        <td>Thursday  </td>\n",
       "        <td>452</td>\n",
       "    </tr>\n",
       "    <tr>\n",
       "        <td>STATEN ISLAND      </td>\n",
       "        <td>Tuesday   </td>\n",
       "        <td>54</td>\n",
       "    </tr>\n",
       "    <tr>\n",
       "        <td>STATEN ISLAND      </td>\n",
       "        <td>Wednesday </td>\n",
       "        <td>2</td>\n",
       "    </tr>\n",
       "    <tr>\n",
       "        <td>STATEN ISLAND      </td>\n",
       "        <td>None</td>\n",
       "        <td>541</td>\n",
       "    </tr>\n",
       "    <tr>\n",
       "        <td>None</td>\n",
       "        <td>None</td>\n",
       "        <td>13779</td>\n",
       "    </tr>\n",
       "</table>"
      ],
      "text/plain": [
       "[('BRONX              ', 'Friday    ', 534),\n",
       " ('BRONX              ', 'Monday    ', 709),\n",
       " ('BRONX              ', 'Saturday  ', 20),\n",
       " ('BRONX              ', 'Sunday    ', 569),\n",
       " ('BRONX              ', 'Thursday  ', 299),\n",
       " ('BRONX              ', 'Tuesday   ', 585),\n",
       " ('BRONX              ', 'Wednesday ', 302),\n",
       " ('BRONX              ', None, 3018),\n",
       " ('BROOKLYN           ', 'Friday    ', 391),\n",
       " ('BROOKLYN           ', 'Monday    ', 756),\n",
       " ('BROOKLYN           ', 'Saturday  ', 811),\n",
       " ('BROOKLYN           ', 'Sunday    ', 1012),\n",
       " ('BROOKLYN           ', 'Thursday  ', 623),\n",
       " ('BROOKLYN           ', 'Tuesday   ', 246),\n",
       " ('BROOKLYN           ', 'Wednesday ', 258),\n",
       " ('BROOKLYN           ', None, 4097),\n",
       " ('MANHATTAN          ', 'Friday    ', 347),\n",
       " ('MANHATTAN          ', 'Monday    ', 394),\n",
       " ('MANHATTAN          ', 'Saturday  ', 886),\n",
       " ('MANHATTAN          ', 'Sunday    ', 194),\n",
       " ('MANHATTAN          ', 'Thursday  ', 254),\n",
       " ('MANHATTAN          ', 'Tuesday   ', 750),\n",
       " ('MANHATTAN          ', 'Wednesday ', 116),\n",
       " ('MANHATTAN          ', None, 2941),\n",
       " ('QUEENS             ', 'Friday    ', 465),\n",
       " ('QUEENS             ', 'Monday    ', 475),\n",
       " ('QUEENS             ', 'Saturday  ', 862),\n",
       " ('QUEENS             ', 'Sunday    ', 601),\n",
       " ('QUEENS             ', 'Thursday  ', 156),\n",
       " ('QUEENS             ', 'Tuesday   ', 298),\n",
       " ('QUEENS             ', 'Wednesday ', 325),\n",
       " ('QUEENS             ', None, 3182),\n",
       " ('STATEN ISLAND      ', 'Friday    ', 33),\n",
       " ('STATEN ISLAND      ', 'Thursday  ', 452),\n",
       " ('STATEN ISLAND      ', 'Tuesday   ', 54),\n",
       " ('STATEN ISLAND      ', 'Wednesday ', 2),\n",
       " ('STATEN ISLAND      ', None, 541),\n",
       " (None, None, 13779)]"
      ]
     },
     "execution_count": 50,
     "metadata": {},
     "output_type": "execute_result"
    }
   ],
   "source": [
    "%%sql\n",
    "SELECT location_D.borough,time_D.day,count(rape_fact.location)\n",
    "FROM rape_fact\n",
    "JOIN\n",
    "time_D\n",
    "ON rape_fact.authority_id=time_D.time_id\n",
    "JOIN\n",
    "location_D\n",
    "ON rape_fact.location_id=location_D.location_id\n",
    "GROUP BY ROLLUP (location_D.borough,time_D.day)\n"
   ]
  },
  {
   "cell_type": "markdown",
   "metadata": {},
   "source": [
    "## Bonus (10 points for one of A or B)\n",
    "\n",
    "## Automating ETL"
   ]
  },
  {
   "cell_type": "markdown",
   "metadata": {},
   "source": [
    "To some extent the process of this schema desgin could be automated, but not completely. To create this schema desgin, it is neccessary to understands what are the facts and what are the contexts in which these facts are stated, i.e. what is my fact tables and what are my dimension tables. This process needs human intervention as every database would be different. A program can be written which can load all the data in the source table and then it will have to ask the user which columns need to be in the fact table and which in the dimension table, once loaded the PK and the FK for the tables can be automated. Completely automating the quality check is also not possible. It all depends upon the problems that the data is facing. Perhaps some issues like empty cells can be automated, but then again what if the data is encoded in a certain way which is unreadable by our SQL tables, in such a case human interventions become necessary. Some of the checks that would be in place is the following\n",
    "1. Ensuring that Null Data is taken care of\n",
    "2. That the data is in a recognised format\n",
    "3. That the range of the data is proper according to the columns i.e. it smells right\n",
    "4. All the data is transferred, wheneverd moved from one location to another"
   ]
  }
 ],
 "metadata": {
  "kernelspec": {
   "display_name": "Python 3",
   "language": "python",
   "name": "python3"
  },
  "language_info": {
   "codemirror_mode": {
    "name": "ipython",
    "version": 3
   },
   "file_extension": ".py",
   "mimetype": "text/x-python",
   "name": "python",
   "nbconvert_exporter": "python",
   "pygments_lexer": "ipython3",
   "version": "3.5.2"
  }
 },
 "nbformat": 4,
 "nbformat_minor": 1
}
